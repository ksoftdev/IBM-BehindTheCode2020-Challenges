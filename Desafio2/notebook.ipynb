{
 "cells": [
  {
   "cell_type": "code",
   "execution_count": null,
   "metadata": {},
   "outputs": [],
   "source": [
    "# @hidden_cell\n",
    "# The project token is an authorization token that is used to access project resources like data sources, connections, and used by platform APIs.\n",
    "from project_lib import Project\n",
    "project = Project(project_id='988b28be-4f20-4201-ba98-6556e720b247', project_access_token='p-31d075627f42281fa368bcdcef32f0e806d4e2ab')\n",
    "pc = project.project_context\n"
   ]
  },
  {
   "cell_type": "markdown",
   "metadata": {
    "collapsed": true
   },
   "source": [
    "# MARATÓN BEHIND THE CODE 2020\n",
    "\n",
    "## DESAFÍO 2: TORTUGA CODE"
   ]
  },
  {
   "cell_type": "markdown",
   "metadata": {},
   "source": [
    "### Introducción"
   ]
  },
  {
   "cell_type": "markdown",
   "metadata": {},
   "source": [
    "En proyectos de ciencia de datos destinados a construir modelos de *aprendizaje automático*, o aprendizaje estadístico, es muy inusual que los datos iniciales ya estén en el formato ideal para la construcción de modelos. Se requieren varios pasos intermedios de preprocesamiento de datos, como la codificación de variables categóricas, normalización de variables numéricas, tratamiento de datos faltantes, etc. La biblioteca **scikit-learn**, una de las bibliotecas de código abierto más populares para *aprendizaje automático* en el mundo, ya tiene varias funciones integradas para realizar las transformaciones de datos más utilizadas. Sin embargo, en un flujo común de un modelo de aprendizaje automático, es necesario aplicar estas transformaciones al menos dos veces: la primera vez para \"entrenar\" el modelo, y luego nuevamente cuando se envían nuevos datos como entrada para ser clasificados por este modelo.\n"
   ]
  },
  {
   "cell_type": "markdown",
   "metadata": {},
   "source": [
    "### Trabajando scikit-learn"
   ]
  },
  {
   "cell_type": "code",
   "execution_count": 5,
   "metadata": {},
   "outputs": [
    {
     "name": "stdout",
     "output_type": "stream",
     "text": [
      "Requirement already up-to-date: scikit-learn==0.23.2 in /home/dna2machine/.local/lib/python3.8/site-packages (0.23.2)\r\n",
      "Requirement already satisfied, skipping upgrade: numpy>=1.13.3 in /usr/lib64/python3.8/site-packages (from scikit-learn==0.23.2) (1.18.4)\r\n",
      "Requirement already satisfied, skipping upgrade: joblib>=0.11 in /home/dna2machine/.local/lib/python3.8/site-packages (from scikit-learn==0.23.2) (0.16.0)\r\n",
      "Requirement already satisfied, skipping upgrade: threadpoolctl>=2.0.0 in /home/dna2machine/.local/lib/python3.8/site-packages (from scikit-learn==0.23.2) (2.1.0)\r\n",
      "Requirement already satisfied, skipping upgrade: scipy>=0.19.1 in /home/dna2machine/.local/lib/python3.8/site-packages (from scikit-learn==0.23.2) (1.4.1)\r\n"
     ]
    }
   ],
   "source": [
    "# Primero, realizamos la instalación de scikit-learn versión 0.20.0 en el Kernel de este notebook:\n",
    "!pip install --user scikit-learn==0.23.2 --upgrade"
   ]
  },
  {
   "cell_type": "code",
   "execution_count": 4,
   "metadata": {},
   "outputs": [
    {
     "name": "stdout",
     "output_type": "stream",
     "text": [
      "Collecting imbalanced-learn\n",
      "  Using cached https://files.pythonhosted.org/packages/c8/81/8db4d87b03b998fda7c6f835d807c9ae4e3b141f978597b8d7f31600be15/imbalanced_learn-0.7.0-py3-none-any.whl\n",
      "Requirement already satisfied, skipping upgrade: scikit-learn>=0.23 in /home/dna2machine/.local/lib/python3.8/site-packages (from imbalanced-learn) (0.23.2)\n",
      "Requirement already satisfied, skipping upgrade: scipy>=0.19.1 in /home/dna2machine/.local/lib/python3.8/site-packages (from imbalanced-learn) (1.4.1)\n",
      "Requirement already satisfied, skipping upgrade: numpy>=1.13.3 in /usr/lib64/python3.8/site-packages (from imbalanced-learn) (1.18.4)\n",
      "Requirement already satisfied, skipping upgrade: joblib>=0.11 in /home/dna2machine/.local/lib/python3.8/site-packages (from imbalanced-learn) (0.16.0)\n",
      "Requirement already satisfied, skipping upgrade: threadpoolctl>=2.0.0 in /home/dna2machine/.local/lib/python3.8/site-packages (from scikit-learn>=0.23->imbalanced-learn) (2.1.0)\n",
      "Installing collected packages: imbalanced-learn\n",
      "Successfully installed imbalanced-learn-0.7.0\n"
     ]
    }
   ],
   "source": [
    "!pip install --user -U imbalanced-learn"
   ]
  },
  {
   "cell_type": "code",
   "execution_count": 7,
   "metadata": {},
   "outputs": [
    {
     "name": "stdout",
     "output_type": "stream",
     "text": [
      "Collecting seaborn\n",
      "\u001b[?25l  Downloading https://files.pythonhosted.org/packages/bc/45/5118a05b0d61173e6eb12bc5804f0fbb6f196adb0a20e0b16efc2b8e98be/seaborn-0.11.0-py3-none-any.whl (283kB)\n",
      "\u001b[K     |████████████████████████████████| 286kB 805kB/s eta 0:00:01\n",
      "\u001b[?25hRequirement already satisfied, skipping upgrade: scipy>=1.0 in /home/dna2machine/.local/lib/python3.8/site-packages (from seaborn) (1.4.1)\n",
      "Requirement already satisfied, skipping upgrade: matplotlib>=2.2 in /home/dna2machine/.local/lib/python3.8/site-packages (from seaborn) (3.3.1)\n",
      "Requirement already satisfied, skipping upgrade: pandas>=0.23 in /home/dna2machine/.local/lib/python3.8/site-packages (from seaborn) (1.1.1)\n",
      "Requirement already satisfied, skipping upgrade: numpy>=1.15 in /usr/lib64/python3.8/site-packages (from seaborn) (1.18.4)\n",
      "Requirement already satisfied, skipping upgrade: python-dateutil>=2.1 in /usr/lib/python3.8/site-packages (from matplotlib>=2.2->seaborn) (2.8.0)\n",
      "Requirement already satisfied, skipping upgrade: pillow>=6.2.0 in /usr/lib64/python3.8/site-packages (from matplotlib>=2.2->seaborn) (7.0.0)\n",
      "Requirement already satisfied, skipping upgrade: pyparsing!=2.0.4,!=2.1.2,!=2.1.6,>=2.0.3 in /usr/lib/python3.8/site-packages (from matplotlib>=2.2->seaborn) (2.4.7)\n",
      "Requirement already satisfied, skipping upgrade: kiwisolver>=1.0.1 in /home/dna2machine/.local/lib/python3.8/site-packages (from matplotlib>=2.2->seaborn) (1.2.0)\n",
      "Requirement already satisfied, skipping upgrade: cycler>=0.10 in /home/dna2machine/.local/lib/python3.8/site-packages (from matplotlib>=2.2->seaborn) (0.10.0)\n",
      "Requirement already satisfied, skipping upgrade: certifi>=2020.06.20 in /home/dna2machine/.local/lib/python3.8/site-packages (from matplotlib>=2.2->seaborn) (2020.6.20)\n",
      "Requirement already satisfied, skipping upgrade: pytz>=2017.2 in /usr/lib/python3.8/site-packages (from pandas>=0.23->seaborn) (2020.1)\n",
      "Requirement already satisfied, skipping upgrade: six>=1.5 in /usr/lib/python3.8/site-packages (from python-dateutil>=2.1->matplotlib>=2.2->seaborn) (1.14.0)\n",
      "Installing collected packages: seaborn\n",
      "Successfully installed seaborn-0.11.0\n"
     ]
    }
   ],
   "source": [
    "!pip install --user -U seaborn"
   ]
  },
  {
   "cell_type": "code",
   "execution_count": 8,
   "metadata": {},
   "outputs": [],
   "source": [
    "import json\n",
    "import requests\n",
    "import itertools\n",
    "\n",
    "import pandas as pd\n",
    "import numpy as np\n",
    "from collections import Counter\n",
    "\n",
    "from sklearn.model_selection import train_test_split\n",
    "from sklearn.metrics import classification_report, confusion_matrix, accuracy_score\n",
    "from sklearn.ensemble import ExtraTreesClassifier\n",
    "\n",
    "from matplotlib import pyplot as plt\n",
    "import seaborn as sns\n",
    "\n",
    "from imblearn.over_sampling import SMOTE"
   ]
  },
  {
   "cell_type": "markdown",
   "metadata": {},
   "source": [
    "### Importar  un .csv a tu proyecto en IBM Cloud Pak for Data al Kernel de este notebook"
   ]
  },
  {
   "cell_type": "code",
   "execution_count": 9,
   "metadata": {},
   "outputs": [
    {
     "name": "stdout",
     "output_type": "stream",
     "text": [
      "--2020-09-26 20:00:01--  https://raw.githubusercontent.com/maratonadev-la/desafio-2-2020/master/Assets/Data/dataset-tortuga-desafio-2.csv\n",
      "Resolviendo raw.githubusercontent.com (raw.githubusercontent.com)... 199.232.48.133\n",
      "Conectando con raw.githubusercontent.com (raw.githubusercontent.com)[199.232.48.133]:443... conectado.\n",
      "Petición HTTP enviada, esperando respuesta... 200 OK\n",
      "Longitud: 2031803 (1,9M) [text/plain]\n",
      "Grabando a: “dataset-tortuga-desafio-2.csv”\n",
      "\n",
      "dataset-tortuga-des 100%[===================>]   1,94M  10,7MB/s    en 0,2s    \n",
      "\n",
      "2020-09-26 20:00:02 (10,7 MB/s) - “dataset-tortuga-desafio-2.csv” guardado [2031803/2031803]\n",
      "\n"
     ]
    },
    {
     "data": {
      "text/html": [
       "<div>\n",
       "<style scoped>\n",
       "    .dataframe tbody tr th:only-of-type {\n",
       "        vertical-align: middle;\n",
       "    }\n",
       "\n",
       "    .dataframe tbody tr th {\n",
       "        vertical-align: top;\n",
       "    }\n",
       "\n",
       "    .dataframe thead th {\n",
       "        text-align: right;\n",
       "    }\n",
       "</style>\n",
       "<table border=\"1\" class=\"dataframe\">\n",
       "  <thead>\n",
       "    <tr style=\"text-align: right;\">\n",
       "      <th></th>\n",
       "      <th>Unnamed: 0</th>\n",
       "      <th>NAME</th>\n",
       "      <th>USER_ID</th>\n",
       "      <th>HOURS_DATASCIENCE</th>\n",
       "      <th>HOURS_BACKEND</th>\n",
       "      <th>HOURS_FRONTEND</th>\n",
       "      <th>NUM_COURSES_BEGINNER_DATASCIENCE</th>\n",
       "      <th>NUM_COURSES_BEGINNER_BACKEND</th>\n",
       "      <th>NUM_COURSES_BEGINNER_FRONTEND</th>\n",
       "      <th>NUM_COURSES_ADVANCED_DATASCIENCE</th>\n",
       "      <th>NUM_COURSES_ADVANCED_BACKEND</th>\n",
       "      <th>NUM_COURSES_ADVANCED_FRONTEND</th>\n",
       "      <th>AVG_SCORE_DATASCIENCE</th>\n",
       "      <th>AVG_SCORE_BACKEND</th>\n",
       "      <th>AVG_SCORE_FRONTEND</th>\n",
       "      <th>PROFILE</th>\n",
       "    </tr>\n",
       "  </thead>\n",
       "  <tbody>\n",
       "    <tr>\n",
       "      <th>0</th>\n",
       "      <td>28</td>\n",
       "      <td>Stormy Muto</td>\n",
       "      <td>58283940</td>\n",
       "      <td>7.0</td>\n",
       "      <td>39.0</td>\n",
       "      <td>29.0</td>\n",
       "      <td>2.0</td>\n",
       "      <td>4.0</td>\n",
       "      <td>0.0</td>\n",
       "      <td>2.0</td>\n",
       "      <td>5.0</td>\n",
       "      <td>0.0</td>\n",
       "      <td>84.0</td>\n",
       "      <td>74.0</td>\n",
       "      <td>NaN</td>\n",
       "      <td>beginner_front_end</td>\n",
       "    </tr>\n",
       "    <tr>\n",
       "      <th>1</th>\n",
       "      <td>81</td>\n",
       "      <td>Carlos Ferro</td>\n",
       "      <td>1357218</td>\n",
       "      <td>32.0</td>\n",
       "      <td>0.0</td>\n",
       "      <td>44.0</td>\n",
       "      <td>2.0</td>\n",
       "      <td>0.0</td>\n",
       "      <td>0.0</td>\n",
       "      <td>0.0</td>\n",
       "      <td>5.0</td>\n",
       "      <td>0.0</td>\n",
       "      <td>67.0</td>\n",
       "      <td>45.0</td>\n",
       "      <td>NaN</td>\n",
       "      <td>beginner_front_end</td>\n",
       "    </tr>\n",
       "    <tr>\n",
       "      <th>2</th>\n",
       "      <td>89</td>\n",
       "      <td>Robby Constantini</td>\n",
       "      <td>63212105</td>\n",
       "      <td>45.0</td>\n",
       "      <td>0.0</td>\n",
       "      <td>59.0</td>\n",
       "      <td>0.0</td>\n",
       "      <td>5.0</td>\n",
       "      <td>4.0</td>\n",
       "      <td>0.0</td>\n",
       "      <td>4.0</td>\n",
       "      <td>1.0</td>\n",
       "      <td>NaN</td>\n",
       "      <td>54.0</td>\n",
       "      <td>47.0</td>\n",
       "      <td>advanced_front_end</td>\n",
       "    </tr>\n",
       "    <tr>\n",
       "      <th>3</th>\n",
       "      <td>138</td>\n",
       "      <td>Paul Mckenny</td>\n",
       "      <td>23239851</td>\n",
       "      <td>36.0</td>\n",
       "      <td>19.0</td>\n",
       "      <td>28.0</td>\n",
       "      <td>0.0</td>\n",
       "      <td>5.0</td>\n",
       "      <td>7.0</td>\n",
       "      <td>0.0</td>\n",
       "      <td>5.0</td>\n",
       "      <td>3.0</td>\n",
       "      <td>NaN</td>\n",
       "      <td>71.0</td>\n",
       "      <td>89.0</td>\n",
       "      <td>beginner_data_science</td>\n",
       "    </tr>\n",
       "    <tr>\n",
       "      <th>4</th>\n",
       "      <td>143</td>\n",
       "      <td>Jean Webb</td>\n",
       "      <td>72234478</td>\n",
       "      <td>61.0</td>\n",
       "      <td>78.0</td>\n",
       "      <td>38.0</td>\n",
       "      <td>6.0</td>\n",
       "      <td>11.0</td>\n",
       "      <td>0.0</td>\n",
       "      <td>4.0</td>\n",
       "      <td>3.0</td>\n",
       "      <td>0.0</td>\n",
       "      <td>66.0</td>\n",
       "      <td>85.0</td>\n",
       "      <td>NaN</td>\n",
       "      <td>advanced_front_end</td>\n",
       "    </tr>\n",
       "  </tbody>\n",
       "</table>\n",
       "</div>"
      ],
      "text/plain": [
       "   Unnamed: 0               NAME   USER_ID  HOURS_DATASCIENCE  HOURS_BACKEND  \\\n",
       "0          28        Stormy Muto  58283940                7.0           39.0   \n",
       "1          81       Carlos Ferro   1357218               32.0            0.0   \n",
       "2          89  Robby Constantini  63212105               45.0            0.0   \n",
       "3         138       Paul Mckenny  23239851               36.0           19.0   \n",
       "4         143          Jean Webb  72234478               61.0           78.0   \n",
       "\n",
       "   HOURS_FRONTEND  NUM_COURSES_BEGINNER_DATASCIENCE  \\\n",
       "0            29.0                               2.0   \n",
       "1            44.0                               2.0   \n",
       "2            59.0                               0.0   \n",
       "3            28.0                               0.0   \n",
       "4            38.0                               6.0   \n",
       "\n",
       "   NUM_COURSES_BEGINNER_BACKEND  NUM_COURSES_BEGINNER_FRONTEND  \\\n",
       "0                           4.0                            0.0   \n",
       "1                           0.0                            0.0   \n",
       "2                           5.0                            4.0   \n",
       "3                           5.0                            7.0   \n",
       "4                          11.0                            0.0   \n",
       "\n",
       "   NUM_COURSES_ADVANCED_DATASCIENCE  NUM_COURSES_ADVANCED_BACKEND  \\\n",
       "0                               2.0                           5.0   \n",
       "1                               0.0                           5.0   \n",
       "2                               0.0                           4.0   \n",
       "3                               0.0                           5.0   \n",
       "4                               4.0                           3.0   \n",
       "\n",
       "   NUM_COURSES_ADVANCED_FRONTEND  AVG_SCORE_DATASCIENCE  AVG_SCORE_BACKEND  \\\n",
       "0                            0.0                   84.0               74.0   \n",
       "1                            0.0                   67.0               45.0   \n",
       "2                            1.0                    NaN               54.0   \n",
       "3                            3.0                    NaN               71.0   \n",
       "4                            0.0                   66.0               85.0   \n",
       "\n",
       "   AVG_SCORE_FRONTEND                PROFILE  \n",
       "0                 NaN     beginner_front_end  \n",
       "1                 NaN     beginner_front_end  \n",
       "2                47.0     advanced_front_end  \n",
       "3                89.0  beginner_data_science  \n",
       "4                 NaN     advanced_front_end  "
      ]
     },
     "execution_count": 9,
     "metadata": {},
     "output_type": "execute_result"
    }
   ],
   "source": [
    "# Primero, importaremos el conjunto de datos proporcionado para el desafío, que ya está incluido en este proyecto.\n",
    "\n",
    "!wget --no-check-certificate --content-disposition https://raw.githubusercontent.com/maratonadev-la/desafio-2-2020/master/Assets/Data/dataset-tortuga-desafio-2.csv\n",
    "df_training = pd.read_csv(r'dataset-tortuga-desafio-2.csv')\n",
    "df_training.head()"
   ]
  },
  {
   "cell_type": "markdown",
   "metadata": {},
   "source": [
    "Tenemos 16 columnas presentes en el set de datos proporcionado, 15 de las cuales son variables features (datos de entrada) y una de ellas es una variable target (que queremos que nuestro modelo va a predecir).\n",
    "\n",
    "Las variables features son:\n",
    "\n",
    "    Unnamed: 0                          - Esta columna no tiene nombre y debe ser eliminada del dataset\n",
    "    NAME                                - Nombre del estudiante\n",
    "    USER_ID                             - Número de identificación del estudiante\n",
    "    HOURS_DATASCIENCE                   - Número de horas de estudio en Data Science\n",
    "    HOURS_BACKEND                       - Número de horas de estudio en Web (Back-End)\n",
    "    HOURS_FRONTEND                      - Número de horas de estudio en Web (Front-End)\n",
    "    NUM_COURSES_BEGINNER_DATASCIENCE    - Número de cursos de nivel principiante en Data Science completados por el estudiante\n",
    "    NUM_COURSES_BEGINNER_BACKEND        - Número de cursos de nivel principiante en Web (Back-End) completados por el estudiante\n",
    "    NUM_COURSES_BEGINNER_FRONTEND       - Número de cursos de nivel principiante en Web (Front-End) completados por el estudiante\n",
    "    NUM_COURSES_ADVANCED_DATASCIENCE    - Número de cursos de nivel avanzado en Data Science completados por el estudiante\n",
    "    NUM_COURSES_ADVANCED_BACKEND        - Número de cursos de nivel avanzado en Web (Back-End) completados por el estudiante\n",
    "    NUM_COURSES_ADVANCED_FRONTEND       - Número de cursos de nivel avanzado en Web (Front-End) completados por el estudiante\n",
    "    AVG_SCORE_DATASCIENCE               - Promedio acumulado en cursos de Data Science completados por el estudiante\n",
    "    AVG_SCORE_BACKEND                   - Promedio acumulado en cursos de Web (Back-End) completados por el estudiante\n",
    "    AVG_SCORE_FRONTEND                  - Promedio acumulado en cursos de Web (Front-End) completados por el estudiante\n",
    "    \n",
    "La variable target es:\n",
    "\n",
    "    PROFILE                             - Perfil de carrera del estudiante (puede ser uno de 6)\n",
    "    \n",
    "        - beginner_front_end\n",
    "        - advanced_front_end\n",
    "        - beginner_back_end\n",
    "        - advanced_back_end\n",
    "        - beginner_data_science\n",
    "        - advanced_data_science\n",
    "        \n",
    "Con un modelo capaz de clasificar a un alumno en una de estas categorías, podemos recomendar contenidos a los alumnos de forma personalizada según las necesidades de cada alumno."
   ]
  },
  {
   "cell_type": "code",
   "execution_count": 10,
   "metadata": {},
   "outputs": [
    {
     "data": {
      "text/plain": [
       "20000"
      ]
     },
     "execution_count": 10,
     "metadata": {},
     "output_type": "execute_result"
    }
   ],
   "source": [
    "len(df_training)"
   ]
  },
  {
   "cell_type": "markdown",
   "metadata": {},
   "source": [
    "# Eliminar filas con todos los datos(todas las columnas) = NaN"
   ]
  },
  {
   "cell_type": "code",
   "execution_count": 13,
   "metadata": {},
   "outputs": [
    {
     "name": "stdout",
     "output_type": "stream",
     "text": [
      "Cols:  16  Rows:  19328\n"
     ]
    }
   ],
   "source": [
    "print(\"Cols: \", len(df_training.columns), \" Rows: \", len(df_training))"
   ]
  },
  {
   "cell_type": "code",
   "execution_count": 14,
   "metadata": {},
   "outputs": [
    {
     "data": {
      "text/plain": [
       "19328"
      ]
     },
     "execution_count": 14,
     "metadata": {},
     "output_type": "execute_result"
    }
   ],
   "source": [
    "df_training = df_training.dropna(thresh=16)\n",
    "len(df_training)"
   ]
  },
  {
   "cell_type": "code",
   "execution_count": 15,
   "metadata": {},
   "outputs": [
    {
     "name": "stdout",
     "output_type": "stream",
     "text": [
      "Beginner Frontend: 3209\n",
      "Advance Frontend: 3244\n",
      "Beginner Backend: 3147\n",
      "Advance Backend: 3263\n",
      "Beginner DataScience: 3215\n",
      "Advance DataScience: 3250\n"
     ]
    },
    {
     "data": {
      "image/png": "[encoded data removed]",
      "text/plain": [
       "<Figure size 432x288 with 1 Axes>"
      ]
     },
     "metadata": {
      "needs_background": "light"
     },
     "output_type": "display_data"
    }
   ],
   "source": [
    "target_count = df_training.PROFILE.value_counts()\n",
    "print('Beginner Frontend:', target_count['beginner_front_end'])\n",
    "print('Advance Frontend:', target_count['advanced_front_end'])\n",
    "print('Beginner Backend:', target_count['beginner_backend'])\n",
    "print('Advance Backend:', target_count['advanced_backend'])\n",
    "print('Beginner DataScience:', target_count['beginner_data_science'])\n",
    "print('Advance DataScience:', target_count['advanced_data_science'])\n",
    "\n",
    "target_count.plot(kind='bar', title='Count (target)');"
   ]
  },
  {
   "cell_type": "markdown",
   "metadata": {},
   "source": [
    "### Visualización (visualizations)\n",
    "\n",
    "Para ver el conjunto de datos suministrado, podemos usar las bibliotecas ``matplotlib`` y ``seaborn``:"
   ]
  },
  {
   "cell_type": "code",
   "execution_count": 16,
   "metadata": {},
   "outputs": [],
   "source": [
    "%matplotlib inline"
   ]
  },
  {
   "cell_type": "code",
   "execution_count": 17,
   "metadata": {},
   "outputs": [
    {
     "name": "stderr",
     "output_type": "stream",
     "text": [
      "/home/dna2machine/.local/lib/python3.8/site-packages/seaborn/distributions.py:2551: FutureWarning: `distplot` is a deprecated function and will be removed in a future version. Please adapt your code to use either `displot` (a figure-level function with similar flexibility) or `histplot` (an axes-level function for histograms).\n",
      "  warnings.warn(msg, FutureWarning)\n",
      "/home/dna2machine/.local/lib/python3.8/site-packages/seaborn/distributions.py:2551: FutureWarning: `distplot` is a deprecated function and will be removed in a future version. Please adapt your code to use either `displot` (a figure-level function with similar flexibility) or `histplot` (an axes-level function for histograms).\n",
      "  warnings.warn(msg, FutureWarning)\n",
      "/home/dna2machine/.local/lib/python3.8/site-packages/seaborn/distributions.py:2551: FutureWarning: `distplot` is a deprecated function and will be removed in a future version. Please adapt your code to use either `displot` (a figure-level function with similar flexibility) or `histplot` (an axes-level function for histograms).\n",
      "  warnings.warn(msg, FutureWarning)\n"
     ]
    },
    {
     "data": {
      "text/plain": [
       "<AxesSubplot:xlabel='HOURS_FRONTEND', ylabel='Density'>"
      ]
     },
     "execution_count": 17,
     "metadata": {},
     "output_type": "execute_result"
    },
    {
     "data": {
      "image/png": "[encoded data removed]",
      "text/plain": [
       "<Figure size 2016x288 with 3 Axes>"
      ]
     },
     "metadata": {
      "needs_background": "light"
     },
     "output_type": "display_data"
    }
   ],
   "source": [
    "fig, axes = plt.subplots(nrows=1, ncols=3, figsize=(28, 4))\n",
    "\n",
    "sns.distplot(df_training['HOURS_DATASCIENCE'].dropna(), ax=axes[0])\n",
    "sns.distplot(df_training['HOURS_BACKEND'].dropna(), ax=axes[1])\n",
    "sns.distplot(df_training['HOURS_FRONTEND'].dropna(), ax=axes[2])"
   ]
  },
  {
   "cell_type": "code",
   "execution_count": 18,
   "metadata": {},
   "outputs": [
    {
     "name": "stderr",
     "output_type": "stream",
     "text": [
      "/home/dna2machine/.local/lib/python3.8/site-packages/seaborn/distributions.py:2551: FutureWarning: `distplot` is a deprecated function and will be removed in a future version. Please adapt your code to use either `displot` (a figure-level function with similar flexibility) or `histplot` (an axes-level function for histograms).\n",
      "  warnings.warn(msg, FutureWarning)\n",
      "/home/dna2machine/.local/lib/python3.8/site-packages/seaborn/distributions.py:2551: FutureWarning: `distplot` is a deprecated function and will be removed in a future version. Please adapt your code to use either `displot` (a figure-level function with similar flexibility) or `histplot` (an axes-level function for histograms).\n",
      "  warnings.warn(msg, FutureWarning)\n",
      "/home/dna2machine/.local/lib/python3.8/site-packages/seaborn/distributions.py:2551: FutureWarning: `distplot` is a deprecated function and will be removed in a future version. Please adapt your code to use either `displot` (a figure-level function with similar flexibility) or `histplot` (an axes-level function for histograms).\n",
      "  warnings.warn(msg, FutureWarning)\n",
      "/home/dna2machine/.local/lib/python3.8/site-packages/seaborn/distributions.py:2551: FutureWarning: `distplot` is a deprecated function and will be removed in a future version. Please adapt your code to use either `displot` (a figure-level function with similar flexibility) or `histplot` (an axes-level function for histograms).\n",
      "  warnings.warn(msg, FutureWarning)\n",
      "/home/dna2machine/.local/lib/python3.8/site-packages/seaborn/distributions.py:2551: FutureWarning: `distplot` is a deprecated function and will be removed in a future version. Please adapt your code to use either `displot` (a figure-level function with similar flexibility) or `histplot` (an axes-level function for histograms).\n",
      "  warnings.warn(msg, FutureWarning)\n",
      "/home/dna2machine/.local/lib/python3.8/site-packages/seaborn/distributions.py:2551: FutureWarning: `distplot` is a deprecated function and will be removed in a future version. Please adapt your code to use either `displot` (a figure-level function with similar flexibility) or `histplot` (an axes-level function for histograms).\n",
      "  warnings.warn(msg, FutureWarning)\n"
     ]
    },
    {
     "data": {
      "text/plain": [
       "<AxesSubplot:xlabel='NUM_COURSES_ADVANCED_FRONTEND', ylabel='Density'>"
      ]
     },
     "execution_count": 18,
     "metadata": {},
     "output_type": "execute_result"
    },
    {
     "data": {
      "image/png": "[encoded data removed]",
      "text/plain": [
       "<Figure size 2016x288 with 6 Axes>"
      ]
     },
     "metadata": {
      "needs_background": "light"
     },
     "output_type": "display_data"
    }
   ],
   "source": [
    "fig, axes = plt.subplots(nrows=2, ncols=3, figsize=(28, 4))\n",
    "\n",
    "sns.distplot(df_training['NUM_COURSES_BEGINNER_DATASCIENCE'].dropna(), ax=axes[0][0])\n",
    "sns.distplot(df_training['NUM_COURSES_BEGINNER_BACKEND'].dropna(), ax=axes[0][1])\n",
    "sns.distplot(df_training['NUM_COURSES_BEGINNER_FRONTEND'].dropna(), ax=axes[0][2])\n",
    "sns.distplot(df_training['NUM_COURSES_ADVANCED_DATASCIENCE'].dropna(), ax=axes[1][0])\n",
    "sns.distplot(df_training['NUM_COURSES_ADVANCED_BACKEND'].dropna(), ax=axes[1][1])\n",
    "sns.distplot(df_training['NUM_COURSES_ADVANCED_FRONTEND'].dropna(), ax=axes[1][2])"
   ]
  },
  {
   "cell_type": "code",
   "execution_count": 19,
   "metadata": {},
   "outputs": [
    {
     "name": "stderr",
     "output_type": "stream",
     "text": [
      "/home/dna2machine/.local/lib/python3.8/site-packages/seaborn/distributions.py:2551: FutureWarning: `distplot` is a deprecated function and will be removed in a future version. Please adapt your code to use either `displot` (a figure-level function with similar flexibility) or `histplot` (an axes-level function for histograms).\n",
      "  warnings.warn(msg, FutureWarning)\n",
      "/home/dna2machine/.local/lib/python3.8/site-packages/seaborn/distributions.py:2551: FutureWarning: `distplot` is a deprecated function and will be removed in a future version. Please adapt your code to use either `displot` (a figure-level function with similar flexibility) or `histplot` (an axes-level function for histograms).\n",
      "  warnings.warn(msg, FutureWarning)\n",
      "/home/dna2machine/.local/lib/python3.8/site-packages/seaborn/distributions.py:2551: FutureWarning: `distplot` is a deprecated function and will be removed in a future version. Please adapt your code to use either `displot` (a figure-level function with similar flexibility) or `histplot` (an axes-level function for histograms).\n",
      "  warnings.warn(msg, FutureWarning)\n"
     ]
    },
    {
     "data": {
      "text/plain": [
       "<AxesSubplot:xlabel='AVG_SCORE_FRONTEND', ylabel='Density'>"
      ]
     },
     "execution_count": 19,
     "metadata": {},
     "output_type": "execute_result"
    },
    {
     "data": {
      "image/png": "[encoded data removed]",
      "text/plain": [
       "<Figure size 2016x288 with 3 Axes>"
      ]
     },
     "metadata": {
      "needs_background": "light"
     },
     "output_type": "display_data"
    }
   ],
   "source": [
    "fig, axes = plt.subplots(nrows=1, ncols=3, figsize=(28, 4))\n",
    "\n",
    "sns.distplot(df_training['AVG_SCORE_DATASCIENCE'].dropna(), ax=axes[0])\n",
    "sns.distplot(df_training['AVG_SCORE_BACKEND'].dropna(), ax=axes[1])\n",
    "sns.distplot(df_training['AVG_SCORE_FRONTEND'].dropna(), ax=axes[2])"
   ]
  },
  {
   "cell_type": "code",
   "execution_count": 20,
   "metadata": {},
   "outputs": [
    {
     "data": {
      "text/plain": [
       "<AxesSubplot:xlabel='PROFILE', ylabel='count'>"
      ]
     },
     "execution_count": 20,
     "metadata": {},
     "output_type": "execute_result"
    },
    {
     "data": {
      "image/png": "[encoded data removed]",
      "text/plain": [
       "<Figure size 2016x288 with 2 Axes>"
      ]
     },
     "metadata": {
      "needs_background": "light"
     },
     "output_type": "display_data"
    }
   ],
   "source": [
    "fig, axes = plt.subplots(nrows=1, ncols=2, figsize=(28, 4))\n",
    "\n",
    "sns.countplot(ax=axes[0], x='PROFILE', data=df_training)"
   ]
  },
  {
   "cell_type": "markdown",
   "metadata": {},
   "source": [
    "# Eliminar Columnas no deseadas"
   ]
  },
  {
   "cell_type": "code",
   "execution_count": 21,
   "metadata": {},
   "outputs": [],
   "source": [
    "df_training_dataset = df_training.drop(columns=['NAME', 'Unnamed: 0', 'USER_ID'], inplace=False)"
   ]
  },
  {
   "cell_type": "code",
   "execution_count": 22,
   "metadata": {},
   "outputs": [
    {
     "name": "stdout",
     "output_type": "stream",
     "text": [
      "Valores nulos antes de la transformación SimpleImputer: \n",
      "\n",
      "HOURS_DATASCIENCE                   0\n",
      "HOURS_BACKEND                       0\n",
      "HOURS_FRONTEND                      0\n",
      "NUM_COURSES_BEGINNER_DATASCIENCE    0\n",
      "NUM_COURSES_BEGINNER_BACKEND        0\n",
      "NUM_COURSES_BEGINNER_FRONTEND       0\n",
      "NUM_COURSES_ADVANCED_DATASCIENCE    0\n",
      "NUM_COURSES_ADVANCED_BACKEND        0\n",
      "NUM_COURSES_ADVANCED_FRONTEND       0\n",
      "AVG_SCORE_DATASCIENCE               0\n",
      "AVG_SCORE_BACKEND                   0\n",
      "AVG_SCORE_FRONTEND                  0\n",
      "PROFILE                             0\n",
      "dtype: int64\n",
      "\n"
     ]
    }
   ],
   "source": [
    "print(\"Valores nulos antes de la transformación SimpleImputer: \\n\\n{}\\n\".format(df_training_dataset.isnull().sum(axis = 0)))"
   ]
  },
  {
   "cell_type": "code",
   "execution_count": 23,
   "metadata": {},
   "outputs": [
    {
     "data": {
      "text/html": [
       "<div>\n",
       "<style scoped>\n",
       "    .dataframe tbody tr th:only-of-type {\n",
       "        vertical-align: middle;\n",
       "    }\n",
       "\n",
       "    .dataframe tbody tr th {\n",
       "        vertical-align: top;\n",
       "    }\n",
       "\n",
       "    .dataframe thead th {\n",
       "        text-align: right;\n",
       "    }\n",
       "</style>\n",
       "<table border=\"1\" class=\"dataframe\">\n",
       "  <thead>\n",
       "    <tr style=\"text-align: right;\">\n",
       "      <th></th>\n",
       "      <th>HOURS_DATASCIENCE</th>\n",
       "      <th>HOURS_BACKEND</th>\n",
       "      <th>HOURS_FRONTEND</th>\n",
       "      <th>NUM_COURSES_BEGINNER_DATASCIENCE</th>\n",
       "      <th>NUM_COURSES_BEGINNER_BACKEND</th>\n",
       "      <th>NUM_COURSES_BEGINNER_FRONTEND</th>\n",
       "      <th>NUM_COURSES_ADVANCED_DATASCIENCE</th>\n",
       "      <th>NUM_COURSES_ADVANCED_BACKEND</th>\n",
       "      <th>NUM_COURSES_ADVANCED_FRONTEND</th>\n",
       "      <th>AVG_SCORE_DATASCIENCE</th>\n",
       "      <th>AVG_SCORE_BACKEND</th>\n",
       "      <th>AVG_SCORE_FRONTEND</th>\n",
       "      <th>PROFILE</th>\n",
       "    </tr>\n",
       "  </thead>\n",
       "  <tbody>\n",
       "    <tr>\n",
       "      <th>11</th>\n",
       "      <td>39.0</td>\n",
       "      <td>52.0</td>\n",
       "      <td>34.0</td>\n",
       "      <td>2.0</td>\n",
       "      <td>4.0</td>\n",
       "      <td>4.0</td>\n",
       "      <td>1.0</td>\n",
       "      <td>5.0</td>\n",
       "      <td>5.0</td>\n",
       "      <td>69.0</td>\n",
       "      <td>65.0</td>\n",
       "      <td>73.0</td>\n",
       "      <td>beginner_backend</td>\n",
       "    </tr>\n",
       "    <tr>\n",
       "      <th>12</th>\n",
       "      <td>28.0</td>\n",
       "      <td>44.0</td>\n",
       "      <td>16.0</td>\n",
       "      <td>3.0</td>\n",
       "      <td>2.0</td>\n",
       "      <td>5.0</td>\n",
       "      <td>0.0</td>\n",
       "      <td>4.0</td>\n",
       "      <td>4.0</td>\n",
       "      <td>41.0</td>\n",
       "      <td>40.0</td>\n",
       "      <td>76.0</td>\n",
       "      <td>beginner_data_science</td>\n",
       "    </tr>\n",
       "    <tr>\n",
       "      <th>13</th>\n",
       "      <td>74.0</td>\n",
       "      <td>36.0</td>\n",
       "      <td>41.0</td>\n",
       "      <td>2.0</td>\n",
       "      <td>5.0</td>\n",
       "      <td>2.0</td>\n",
       "      <td>3.0</td>\n",
       "      <td>4.0</td>\n",
       "      <td>2.0</td>\n",
       "      <td>52.0</td>\n",
       "      <td>77.0</td>\n",
       "      <td>66.0</td>\n",
       "      <td>advanced_front_end</td>\n",
       "    </tr>\n",
       "    <tr>\n",
       "      <th>14</th>\n",
       "      <td>69.0</td>\n",
       "      <td>40.0</td>\n",
       "      <td>18.0</td>\n",
       "      <td>4.0</td>\n",
       "      <td>3.0</td>\n",
       "      <td>5.0</td>\n",
       "      <td>4.0</td>\n",
       "      <td>7.0</td>\n",
       "      <td>6.0</td>\n",
       "      <td>40.0</td>\n",
       "      <td>82.0</td>\n",
       "      <td>78.0</td>\n",
       "      <td>advanced_data_science</td>\n",
       "    </tr>\n",
       "    <tr>\n",
       "      <th>15</th>\n",
       "      <td>46.0</td>\n",
       "      <td>102.0</td>\n",
       "      <td>44.0</td>\n",
       "      <td>7.0</td>\n",
       "      <td>9.0</td>\n",
       "      <td>3.0</td>\n",
       "      <td>5.0</td>\n",
       "      <td>3.0</td>\n",
       "      <td>3.0</td>\n",
       "      <td>69.0</td>\n",
       "      <td>94.0</td>\n",
       "      <td>50.0</td>\n",
       "      <td>advanced_front_end</td>\n",
       "    </tr>\n",
       "  </tbody>\n",
       "</table>\n",
       "</div>"
      ],
      "text/plain": [
       "    HOURS_DATASCIENCE  HOURS_BACKEND  HOURS_FRONTEND  \\\n",
       "11               39.0           52.0            34.0   \n",
       "12               28.0           44.0            16.0   \n",
       "13               74.0           36.0            41.0   \n",
       "14               69.0           40.0            18.0   \n",
       "15               46.0          102.0            44.0   \n",
       "\n",
       "    NUM_COURSES_BEGINNER_DATASCIENCE  NUM_COURSES_BEGINNER_BACKEND  \\\n",
       "11                               2.0                           4.0   \n",
       "12                               3.0                           2.0   \n",
       "13                               2.0                           5.0   \n",
       "14                               4.0                           3.0   \n",
       "15                               7.0                           9.0   \n",
       "\n",
       "    NUM_COURSES_BEGINNER_FRONTEND  NUM_COURSES_ADVANCED_DATASCIENCE  \\\n",
       "11                            4.0                               1.0   \n",
       "12                            5.0                               0.0   \n",
       "13                            2.0                               3.0   \n",
       "14                            5.0                               4.0   \n",
       "15                            3.0                               5.0   \n",
       "\n",
       "    NUM_COURSES_ADVANCED_BACKEND  NUM_COURSES_ADVANCED_FRONTEND  \\\n",
       "11                           5.0                            5.0   \n",
       "12                           4.0                            4.0   \n",
       "13                           4.0                            2.0   \n",
       "14                           7.0                            6.0   \n",
       "15                           3.0                            3.0   \n",
       "\n",
       "    AVG_SCORE_DATASCIENCE  AVG_SCORE_BACKEND  AVG_SCORE_FRONTEND  \\\n",
       "11                   69.0               65.0                73.0   \n",
       "12                   41.0               40.0                76.0   \n",
       "13                   52.0               77.0                66.0   \n",
       "14                   40.0               82.0                78.0   \n",
       "15                   69.0               94.0                50.0   \n",
       "\n",
       "                  PROFILE  \n",
       "11       beginner_backend  \n",
       "12  beginner_data_science  \n",
       "13     advanced_front_end  \n",
       "14  advanced_data_science  \n",
       "15     advanced_front_end  "
      ]
     },
     "execution_count": 23,
     "metadata": {},
     "output_type": "execute_result"
    }
   ],
   "source": [
    "df_training_dataset.head()"
   ]
  },
  {
   "cell_type": "code",
   "execution_count": 25,
   "metadata": {},
   "outputs": [
    {
     "name": "stdout",
     "output_type": "stream",
     "text": [
      "<class 'pandas.core.frame.DataFrame'>\n",
      "Int64Index: 19328 entries, 11 to 19999\n",
      "Data columns (total 13 columns):\n",
      " #   Column                            Non-Null Count  Dtype  \n",
      "---  ------                            --------------  -----  \n",
      " 0   HOURS_DATASCIENCE                 19328 non-null  float64\n",
      " 1   HOURS_BACKEND                     19328 non-null  float64\n",
      " 2   HOURS_FRONTEND                    19328 non-null  float64\n",
      " 3   NUM_COURSES_BEGINNER_DATASCIENCE  19328 non-null  float64\n",
      " 4   NUM_COURSES_BEGINNER_BACKEND      19328 non-null  float64\n",
      " 5   NUM_COURSES_BEGINNER_FRONTEND     19328 non-null  float64\n",
      " 6   NUM_COURSES_ADVANCED_DATASCIENCE  19328 non-null  float64\n",
      " 7   NUM_COURSES_ADVANCED_BACKEND      19328 non-null  float64\n",
      " 8   NUM_COURSES_ADVANCED_FRONTEND     19328 non-null  float64\n",
      " 9   AVG_SCORE_DATASCIENCE             19328 non-null  float64\n",
      " 10  AVG_SCORE_BACKEND                 19328 non-null  float64\n",
      " 11  AVG_SCORE_FRONTEND                19328 non-null  float64\n",
      " 12  PROFILE                           19328 non-null  object \n",
      "dtypes: float64(12), object(1)\n",
      "memory usage: 2.7+ MB\n"
     ]
    }
   ],
   "source": [
    "df_training_dataset.info()"
   ]
  },
  {
   "cell_type": "markdown",
   "metadata": {},
   "source": [
    "# Sampling"
   ]
  },
  {
   "cell_type": "code",
   "execution_count": 26,
   "metadata": {},
   "outputs": [
    {
     "data": {
      "text/plain": [
       "Counter({'beginner_backend': 3147,\n",
       "         'beginner_data_science': 3215,\n",
       "         'advanced_front_end': 3244,\n",
       "         'advanced_data_science': 3250,\n",
       "         'beginner_front_end': 3209,\n",
       "         'advanced_backend': 3263})"
      ]
     },
     "execution_count": 26,
     "metadata": {},
     "output_type": "execute_result"
    }
   ],
   "source": [
    "Counter(df_training_dataset['PROFILE'])"
   ]
  },
  {
   "cell_type": "code",
   "execution_count": 27,
   "metadata": {},
   "outputs": [
    {
     "name": "stdout",
     "output_type": "stream",
     "text": [
      "advanced_backend  : 3263\n"
     ]
    }
   ],
   "source": [
    "values = df_training_dataset.PROFILE.value_counts().to_dict()\n",
    "classmax = max(values, key=values.get)\n",
    "print(classmax, \" :\", values[classmax])"
   ]
  },
  {
   "cell_type": "code",
   "execution_count": 28,
   "metadata": {},
   "outputs": [],
   "source": [
    "values = df_training_dataset.PROFILE.value_counts()\n",
    "\n",
    "num_samples = values[classmax]\n",
    "#num_samples = int(avg_data)\n",
    "\n",
    "df_training_dataset = pd.concat([\n",
    "    df_training_dataset[df_training_dataset['PROFILE'] == 'beginner_front_end'].sample(num_samples, replace=True),\n",
    "    df_training_dataset[df_training_dataset['PROFILE'] == 'advanced_front_end'].sample(num_samples, replace=True),\n",
    "    df_training_dataset[df_training_dataset['PROFILE'] == 'beginner_backend'].sample(num_samples, replace=True),\n",
    "    df_training_dataset[df_training_dataset['PROFILE'] == 'advanced_backend'].sample(num_samples, replace=True),\n",
    "    df_training_dataset[df_training_dataset['PROFILE'] == 'beginner_data_science'].sample(num_samples, replace=True),\n",
    "    df_training_dataset[df_training_dataset['PROFILE'] == 'advanced_data_science'].sample(num_samples, replace=True)\n",
    "], axis=0)"
   ]
  },
  {
   "cell_type": "code",
   "execution_count": 29,
   "metadata": {},
   "outputs": [
    {
     "name": "stdout",
     "output_type": "stream",
     "text": [
      "Beginner Frontend: 3263\n",
      "Advance Frontend: 3263\n",
      "Beginner Backend: 3263\n",
      "Advance Backend: 3263\n",
      "Beginner DataScience: 3263\n",
      "Advance DataScience: 3263\n"
     ]
    },
    {
     "data": {
      "image/png": "[encoded data removed]",
      "text/plain": [
       "<Figure size 432x288 with 1 Axes>"
      ]
     },
     "metadata": {
      "needs_background": "light"
     },
     "output_type": "display_data"
    }
   ],
   "source": [
    "target_count = df_training_dataset.PROFILE.value_counts()\n",
    "print('Beginner Frontend:', target_count['beginner_front_end'])\n",
    "print('Advance Frontend:', target_count['advanced_front_end'])\n",
    "print('Beginner Backend:', target_count['beginner_backend'])\n",
    "print('Advance Backend:', target_count['advanced_backend'])\n",
    "print('Beginner DataScience:', target_count['beginner_data_science'])\n",
    "print('Advance DataScience:', target_count['advanced_data_science'])\n",
    "\n",
    "target_count.plot(kind='bar', title='Count (target)');"
   ]
  },
  {
   "cell_type": "markdown",
   "metadata": {},
   "source": [
    "#### Definición de features del modelo"
   ]
  },
  {
   "cell_type": "code",
   "execution_count": 30,
   "metadata": {},
   "outputs": [],
   "source": [
    "# Definición de las columnas que seran features (Notese que la columna NOMBRE no esta presente)\n",
    "features = np.array(df_training_dataset.columns)[:-1]\n",
    "\n",
    "# Preparación de los argumentos para los métodos de la biblioteca ``scikit-learn``\n",
    "X = df_training_dataset[features]\n",
    "y = df_training_dataset['PROFILE']"
   ]
  },
  {
   "cell_type": "markdown",
   "metadata": {},
   "source": [
    "#### Separar el conjunto de datos en un conjunto de entrenamiento y un conjunto de prueba"
   ]
  },
  {
   "cell_type": "markdown",
   "metadata": {},
   "source": [
    "Separaremos el conjunto de datos provisto en dos grupos: uno para entrenar nuestro modelo y otro para probar el resultado a través de una prueba ciega. La separación del conjunto de datos se puede hacer fácilmente con el método *train_test_split ()* de scikit-learn:"
   ]
  },
  {
   "cell_type": "code",
   "execution_count": 31,
   "metadata": {},
   "outputs": [],
   "source": [
    "# Separación de datos en conjunto de entrenamiento y conjunto de pruebas\n",
    "X_train, X_test, y_train, y_test = train_test_split(X, y, train_size=0.85, random_state=337)"
   ]
  },
  {
   "cell_type": "code",
   "execution_count": 32,
   "metadata": {},
   "outputs": [
    {
     "name": "stdout",
     "output_type": "stream",
     "text": [
      "Resampled dataset shape Counter({'beginner_backend': 2792, 'advanced_data_science': 2781, 'beginner_front_end': 2772, 'advanced_front_end': 2768, 'advanced_backend': 2766, 'beginner_data_science': 2762})\n"
     ]
    }
   ],
   "source": [
    "print('Resampled dataset shape %s' % Counter(y_train))"
   ]
  },
  {
   "cell_type": "code",
   "execution_count": 33,
   "metadata": {},
   "outputs": [],
   "source": [
    "sm = SMOTE(random_state=337)\n",
    "X_train, y_train = sm.fit_resample(X_train, y_train)"
   ]
  },
  {
   "cell_type": "code",
   "execution_count": 34,
   "metadata": {},
   "outputs": [
    {
     "name": "stdout",
     "output_type": "stream",
     "text": [
      "Resampled dataset shape Counter({'beginner_front_end': 2792, 'advanced_front_end': 2792, 'advanced_backend': 2792, 'advanced_data_science': 2792, 'beginner_data_science': 2792, 'beginner_backend': 2792})\n"
     ]
    }
   ],
   "source": [
    "print('Resampled dataset shape %s' % Counter(y_train))"
   ]
  },
  {
   "cell_type": "markdown",
   "metadata": {},
   "source": [
    "#### Creando un modelo basado en árboles de decisión"
   ]
  },
  {
   "cell_type": "markdown",
   "metadata": {},
   "source": [
    "En el ejemplo proporcionado, crearemos un clasificador basado en **árboles de decisión**.\n",
    "\n",
    "El primer paso es básicamente crear una instancia de un objeto *DecisionTreeClassifier ()* de la biblioteca scikit-learn."
   ]
  },
  {
   "cell_type": "code",
   "execution_count": 35,
   "metadata": {},
   "outputs": [
    {
     "data": {
      "text/plain": [
       "ExtraTreesClassifier(criterion='entropy', random_state=337)"
      ]
     },
     "execution_count": 35,
     "metadata": {},
     "output_type": "execute_result"
    }
   ],
   "source": [
    "dtc_model = ExtraTreesClassifier(n_estimators=100, max_features='auto', criterion='entropy', random_state=337)\n",
    "dtc_model.fit(X_train, y_train)"
   ]
  },
  {
   "cell_type": "code",
   "execution_count": 36,
   "metadata": {},
   "outputs": [
    {
     "data": {
      "text/plain": [
       "array([0.08863914, 0.0942632 , 0.08498979, 0.0771074 , 0.09347468,\n",
       "       0.08595578, 0.06581041, 0.08134097, 0.07611823, 0.08917641,\n",
       "       0.07359716, 0.08952683])"
      ]
     },
     "execution_count": 36,
     "metadata": {},
     "output_type": "execute_result"
    }
   ],
   "source": [
    "dtc_model.feature_importances_"
   ]
  },
  {
   "cell_type": "code",
   "execution_count": 37,
   "metadata": {},
   "outputs": [
    {
     "data": {
      "text/plain": [
       "<BarContainer object of 12 artists>"
      ]
     },
     "execution_count": 37,
     "metadata": {},
     "output_type": "execute_result"
    },
    {
     "data": {
      "image/png": "[encoded data removed]",
      "text/plain": [
       "<Figure size 864x576 with 1 Axes>"
      ]
     },
     "metadata": {
      "needs_background": "light"
     },
     "output_type": "display_data"
    }
   ],
   "source": [
    "plt.rcParams.update({'figure.figsize': (12.0, 8.0)})\n",
    "plt.rcParams.update({'font.size': 14})\n",
    "\n",
    "plt.barh(np.array(np.array(df_training_dataset.columns)[:-1]),\n",
    "         dtc_model.feature_importances_)"
   ]
  },
  {
   "cell_type": "markdown",
   "metadata": {},
   "source": [
    "Material teórico sobre árboles de decisión en la documentación oficial de scikit-learn: https://scikit-learn.org/stable/modules/tree.html\n",
    "\n",
    "Una guía para principiantes del mundo del aprendizaje automático: https://developer.ibm.com/es/patterns/use-icp4d-to-build-the-machine-learning-model-for-return-propensity/"
   ]
  },
  {
   "cell_type": "markdown",
   "metadata": {},
   "source": [
    "#### Ejecución de predicciones y evaluación del modelo creado"
   ]
  },
  {
   "cell_type": "code",
   "execution_count": 38,
   "metadata": {},
   "outputs": [],
   "source": [
    "# Realización de una prueba a ciegas en el modelo creado\n",
    "y_pred = dtc_model.predict(X_test)"
   ]
  },
  {
   "cell_type": "code",
   "execution_count": 39,
   "metadata": {},
   "outputs": [
    {
     "name": "stdout",
     "output_type": "stream",
     "text": [
      "[[476  13   1   4   1   2]\n",
      " [  0 463   8   2   5   4]\n",
      " [  3   7 477   3   0   5]\n",
      " [  5   1   3 451   7   4]\n",
      " [  0   1   2   6 490   2]\n",
      " [  2   2   9   4   1 473]]\n",
      "                       precision    recall  f1-score   support\n",
      "\n",
      "     advanced_backend       0.98      0.96      0.97       497\n",
      "advanced_data_science       0.95      0.96      0.96       482\n",
      "   advanced_front_end       0.95      0.96      0.96       495\n",
      "     beginner_backend       0.96      0.96      0.96       471\n",
      "beginner_data_science       0.97      0.98      0.98       501\n",
      "   beginner_front_end       0.97      0.96      0.96       491\n",
      "\n",
      "             accuracy                           0.96      2937\n",
      "            macro avg       0.96      0.96      0.96      2937\n",
      "         weighted avg       0.96      0.96      0.96      2937\n",
      "\n",
      "0.9635682669390535\n"
     ]
    }
   ],
   "source": [
    "print(confusion_matrix(y_test,y_pred))\n",
    "print(classification_report(y_test,y_pred))\n",
    "print(accuracy_score(y_test, y_pred))"
   ]
  },
  {
   "cell_type": "code",
   "execution_count": 40,
   "metadata": {},
   "outputs": [],
   "source": [
    "def plot_confusion_matrix(cm, target_names, title='Confusion matrix', cmap=None, normalize=True):\n",
    "    accuracy = np.trace(cm) / float(np.sum(cm))\n",
    "    misclass = 1 - accuracy\n",
    "    if cmap is None:\n",
    "        cmap = plt.get_cmap('Blues')\n",
    "    plt.figure(figsize=(8, 6))\n",
    "    plt.imshow(cm, interpolation='nearest', cmap=cmap)\n",
    "    plt.title(title)\n",
    "    plt.colorbar()\n",
    "    if target_names is not None:\n",
    "        tick_marks = np.arange(len(target_names))\n",
    "        plt.xticks(tick_marks, target_names, rotation=45)\n",
    "        plt.yticks(tick_marks, target_names)\n",
    "    if normalize:\n",
    "        cm = cm.astype('float') / cm.sum(axis=1)[:, np.newaxis]\n",
    "    thresh = cm.max() / 1.5 if normalize else cm.max() / 2\n",
    "    for i, j in itertools.product(range(cm.shape[0]), range(cm.shape[1])):\n",
    "        if normalize:\n",
    "            plt.text(j, i, \"{:0.2f}\".format(cm[i, j]),\n",
    "                     horizontalalignment=\"center\",\n",
    "                     color=\"white\" if cm[i, j] > thresh else \"black\")\n",
    "        else:\n",
    "            plt.text(j, i, \"{:,}\".format(cm[i, j]),\n",
    "                     horizontalalignment=\"center\",\n",
    "                     color=\"white\" if cm[i, j] > thresh else \"black\")\n",
    "    plt.tight_layout()\n",
    "    plt.ylabel('True label')\n",
    "    plt.xlabel('Predicted label\\naccuracy={:0.4f}; misclass={:0.4f}'.format(accuracy, misclass))\n",
    "    plt.show()"
   ]
  },
  {
   "cell_type": "code",
   "execution_count": 41,
   "metadata": {},
   "outputs": [],
   "source": [
    "targets = np.array(y.unique())"
   ]
  },
  {
   "cell_type": "code",
   "execution_count": 42,
   "metadata": {},
   "outputs": [
    {
     "data": {
      "image/png": "[encoded data removed]",
      "text/plain": [
       "<Figure size 576x432 with 2 Axes>"
      ]
     },
     "metadata": {
      "needs_background": "light"
     },
     "output_type": "display_data"
    }
   ],
   "source": [
    "plot_confusion_matrix(confusion_matrix(y_test, y_pred), targets)"
   ]
  },
  {
   "cell_type": "code",
   "execution_count": 43,
   "metadata": {},
   "outputs": [
    {
     "name": "stdout",
     "output_type": "stream",
     "text": [
      "Exactitud: 96.0%\n"
     ]
    }
   ],
   "source": [
    "# Precisión lograda por el árbol de decisiones\n",
    "print(\"Exactitud: {}%\".format(100*round(accuracy_score(y_test, y_pred), 2)))"
   ]
  },
  {
   "cell_type": "markdown",
   "metadata": {},
   "source": [
    "<hr>"
   ]
  },
  {
   "cell_type": "markdown",
   "metadata": {},
   "source": [
    "## Puntuación de los datos necesarios para entregar la solución\n",
    "\n",
    "Como entrega de su solución, esperamos que los resultados se clasifiquen en el siguiente dataset llamado \"to_be_scored_tortuga_fix.csv\":\n",
    "\n",
    "### Descarga la \"hoja de evaluación\""
   ]
  },
  {
   "cell_type": "code",
   "execution_count": 44,
   "metadata": {},
   "outputs": [
    {
     "name": "stdout",
     "output_type": "stream",
     "text": [
      "--2020-09-26 20:17:54--  https://raw.githubusercontent.com/vanderlei-test/dataset-tortuga/master/to_be_scored_tortuga_fix.csv\n",
      "Resolviendo raw.githubusercontent.com (raw.githubusercontent.com)... 199.232.48.133\n",
      "Conectando con raw.githubusercontent.com (raw.githubusercontent.com)[199.232.48.133]:443... conectado.\n",
      "Petición HTTP enviada, esperando respuesta... 200 OK\n",
      "Longitud: 29095 (28K) [text/plain]\n",
      "Grabando a: “to_be_scored_tortuga_fix.csv”\n",
      "\n",
      "to_be_scored_tortug 100%[===================>]  28,41K  --.-KB/s    en 0,01s   \n",
      "\n",
      "2020-09-26 20:17:54 (1,93 MB/s) - “to_be_scored_tortuga_fix.csv” guardado [29095/29095]\n",
      "\n"
     ]
    },
    {
     "data": {
      "text/html": [
       "<div>\n",
       "<style scoped>\n",
       "    .dataframe tbody tr th:only-of-type {\n",
       "        vertical-align: middle;\n",
       "    }\n",
       "\n",
       "    .dataframe tbody tr th {\n",
       "        vertical-align: top;\n",
       "    }\n",
       "\n",
       "    .dataframe thead th {\n",
       "        text-align: right;\n",
       "    }\n",
       "</style>\n",
       "<table border=\"1\" class=\"dataframe\">\n",
       "  <thead>\n",
       "    <tr style=\"text-align: right;\">\n",
       "      <th></th>\n",
       "      <th>Unnamed: 0</th>\n",
       "      <th>NAME</th>\n",
       "      <th>USER_ID</th>\n",
       "      <th>HOURS_DATASCIENCE</th>\n",
       "      <th>HOURS_BACKEND</th>\n",
       "      <th>HOURS_FRONTEND</th>\n",
       "      <th>NUM_COURSES_BEGINNER_DATASCIENCE</th>\n",
       "      <th>NUM_COURSES_BEGINNER_BACKEND</th>\n",
       "      <th>NUM_COURSES_BEGINNER_FRONTEND</th>\n",
       "      <th>NUM_COURSES_ADVANCED_DATASCIENCE</th>\n",
       "      <th>NUM_COURSES_ADVANCED_BACKEND</th>\n",
       "      <th>NUM_COURSES_ADVANCED_FRONTEND</th>\n",
       "      <th>AVG_SCORE_DATASCIENCE</th>\n",
       "      <th>AVG_SCORE_BACKEND</th>\n",
       "      <th>AVG_SCORE_FRONTEND</th>\n",
       "    </tr>\n",
       "  </thead>\n",
       "  <tbody>\n",
       "    <tr>\n",
       "      <th>495</th>\n",
       "      <td>506</td>\n",
       "      <td>Eileen Finley</td>\n",
       "      <td>1147648</td>\n",
       "      <td>0</td>\n",
       "      <td>56</td>\n",
       "      <td>11</td>\n",
       "      <td>2</td>\n",
       "      <td>1</td>\n",
       "      <td>8</td>\n",
       "      <td>5</td>\n",
       "      <td>2</td>\n",
       "      <td>6</td>\n",
       "      <td>80</td>\n",
       "      <td>93</td>\n",
       "      <td>35</td>\n",
       "    </tr>\n",
       "    <tr>\n",
       "      <th>496</th>\n",
       "      <td>507</td>\n",
       "      <td>Cedric Buss</td>\n",
       "      <td>33729943</td>\n",
       "      <td>50</td>\n",
       "      <td>53</td>\n",
       "      <td>5</td>\n",
       "      <td>4</td>\n",
       "      <td>1</td>\n",
       "      <td>4</td>\n",
       "      <td>8</td>\n",
       "      <td>4</td>\n",
       "      <td>4</td>\n",
       "      <td>59</td>\n",
       "      <td>59</td>\n",
       "      <td>50</td>\n",
       "    </tr>\n",
       "    <tr>\n",
       "      <th>497</th>\n",
       "      <td>508</td>\n",
       "      <td>James Ray</td>\n",
       "      <td>62724217</td>\n",
       "      <td>35</td>\n",
       "      <td>35</td>\n",
       "      <td>63</td>\n",
       "      <td>3</td>\n",
       "      <td>0</td>\n",
       "      <td>0</td>\n",
       "      <td>5</td>\n",
       "      <td>3</td>\n",
       "      <td>5</td>\n",
       "      <td>35</td>\n",
       "      <td>54</td>\n",
       "      <td>59</td>\n",
       "    </tr>\n",
       "    <tr>\n",
       "      <th>498</th>\n",
       "      <td>509</td>\n",
       "      <td>Lauren Vega</td>\n",
       "      <td>71562358</td>\n",
       "      <td>42</td>\n",
       "      <td>4</td>\n",
       "      <td>58</td>\n",
       "      <td>6</td>\n",
       "      <td>6</td>\n",
       "      <td>5</td>\n",
       "      <td>7</td>\n",
       "      <td>7</td>\n",
       "      <td>5</td>\n",
       "      <td>78</td>\n",
       "      <td>59</td>\n",
       "      <td>79</td>\n",
       "    </tr>\n",
       "    <tr>\n",
       "      <th>499</th>\n",
       "      <td>510</td>\n",
       "      <td>Joshua Brown</td>\n",
       "      <td>48754463</td>\n",
       "      <td>6</td>\n",
       "      <td>47</td>\n",
       "      <td>39</td>\n",
       "      <td>5</td>\n",
       "      <td>2</td>\n",
       "      <td>8</td>\n",
       "      <td>5</td>\n",
       "      <td>4</td>\n",
       "      <td>9</td>\n",
       "      <td>88</td>\n",
       "      <td>83</td>\n",
       "      <td>61</td>\n",
       "    </tr>\n",
       "  </tbody>\n",
       "</table>\n",
       "</div>"
      ],
      "text/plain": [
       "     Unnamed: 0           NAME   USER_ID  HOURS_DATASCIENCE  HOURS_BACKEND  \\\n",
       "495         506  Eileen Finley   1147648                  0             56   \n",
       "496         507    Cedric Buss  33729943                 50             53   \n",
       "497         508      James Ray  62724217                 35             35   \n",
       "498         509    Lauren Vega  71562358                 42              4   \n",
       "499         510   Joshua Brown  48754463                  6             47   \n",
       "\n",
       "     HOURS_FRONTEND  NUM_COURSES_BEGINNER_DATASCIENCE  \\\n",
       "495              11                                 2   \n",
       "496               5                                 4   \n",
       "497              63                                 3   \n",
       "498              58                                 6   \n",
       "499              39                                 5   \n",
       "\n",
       "     NUM_COURSES_BEGINNER_BACKEND  NUM_COURSES_BEGINNER_FRONTEND  \\\n",
       "495                             1                              8   \n",
       "496                             1                              4   \n",
       "497                             0                              0   \n",
       "498                             6                              5   \n",
       "499                             2                              8   \n",
       "\n",
       "     NUM_COURSES_ADVANCED_DATASCIENCE  NUM_COURSES_ADVANCED_BACKEND  \\\n",
       "495                                 5                             2   \n",
       "496                                 8                             4   \n",
       "497                                 5                             3   \n",
       "498                                 7                             7   \n",
       "499                                 5                             4   \n",
       "\n",
       "     NUM_COURSES_ADVANCED_FRONTEND  AVG_SCORE_DATASCIENCE  AVG_SCORE_BACKEND  \\\n",
       "495                              6                     80                 93   \n",
       "496                              4                     59                 59   \n",
       "497                              5                     35                 54   \n",
       "498                              5                     78                 59   \n",
       "499                              9                     88                 83   \n",
       "\n",
       "     AVG_SCORE_FRONTEND  \n",
       "495                  35  \n",
       "496                  50  \n",
       "497                  59  \n",
       "498                  79  \n",
       "499                  61  "
      ]
     },
     "execution_count": 44,
     "metadata": {},
     "output_type": "execute_result"
    }
   ],
   "source": [
    "!wget --no-check-certificate --content-disposition https://raw.githubusercontent.com/vanderlei-test/dataset-tortuga/master/to_be_scored_tortuga_fix.csv\n",
    "df_to_be_scored = pd.read_csv(r'to_be_scored_tortuga_fix.csv')\n",
    "df_to_be_scored.tail()"
   ]
  },
  {
   "cell_type": "markdown",
   "metadata": {},
   "source": [
    "# ¡Atención!\n",
    "\n",
    "El Dataframe ``to_be_scored_tortuga`` es su \"hoja de evaluación\". Tenga en cuenta que la columna \"PROFILE\" hace falta en este dataset de evaluación, por lo que no se puede usar para entrenar modelos de aprendizaje supervisado."
   ]
  },
  {
   "cell_type": "code",
   "execution_count": 37,
   "metadata": {},
   "outputs": [
    {
     "data": {
      "text/plain": [
       "500"
      ]
     },
     "execution_count": 37,
     "metadata": {},
     "output_type": "execute_result"
    }
   ],
   "source": [
    "len(df_to_be_scored)"
   ]
  },
  {
   "cell_type": "code",
   "execution_count": 38,
   "metadata": {},
   "outputs": [
    {
     "name": "stdout",
     "output_type": "stream",
     "text": [
      "Cols:  15  Rows:  19328\n"
     ]
    }
   ],
   "source": [
    "print(\"Cols: \", len(df_to_be_scored.columns), \" Rows: \", len(df_training))"
   ]
  },
  {
   "cell_type": "code",
   "execution_count": 39,
   "metadata": {},
   "outputs": [
    {
     "name": "stdout",
     "output_type": "stream",
     "text": [
      "Valores nulos antes de la transformación SimpleImputer: \n",
      "\n",
      "Unnamed: 0                          0\n",
      "NAME                                0\n",
      "USER_ID                             0\n",
      "HOURS_DATASCIENCE                   0\n",
      "HOURS_BACKEND                       0\n",
      "HOURS_FRONTEND                      0\n",
      "NUM_COURSES_BEGINNER_DATASCIENCE    0\n",
      "NUM_COURSES_BEGINNER_BACKEND        0\n",
      "NUM_COURSES_BEGINNER_FRONTEND       0\n",
      "NUM_COURSES_ADVANCED_DATASCIENCE    0\n",
      "NUM_COURSES_ADVANCED_BACKEND        0\n",
      "NUM_COURSES_ADVANCED_FRONTEND       0\n",
      "AVG_SCORE_DATASCIENCE               0\n",
      "AVG_SCORE_BACKEND                   0\n",
      "AVG_SCORE_FRONTEND                  0\n",
      "dtype: int64\n",
      "\n"
     ]
    }
   ],
   "source": [
    "print(\"Valores nulos antes de la transformación SimpleImputer: \\n\\n{}\\n\".format(df_to_be_scored.isnull().sum(axis = 0)))"
   ]
  },
  {
   "cell_type": "markdown",
   "metadata": {},
   "source": [
    "<hr>\n",
    "\n",
    "# ¡Atención!\n",
    "\n",
    "# Para aplicar su modelo y clasificar la hoja de evaluación, primero debe aplicar las mismas transformaciones de columnas que aplicó al conjunto de datos de entrenamiento.\n",
    "\n",
    "# No elimine ni agregue líneas a la hoja de respuestas.\n",
    "\n",
    "# No cambie el orden de las líneas en la hoja de respuestas.\n",
    "\n",
    "# Al final, se deben clasificar las 500 entradas, con los valores proporcionados en la columna \"target\"\n",
    "\n",
    "<hr>"
   ]
  },
  {
   "cell_type": "markdown",
   "metadata": {},
   "source": [
    "En la celda de abajo, repetimos rápidamente los mismos pasos de preprocesamiento usados ​​en el ejemplo dado con el árbol de decisiones"
   ]
  },
  {
   "cell_type": "code",
   "execution_count": 40,
   "metadata": {},
   "outputs": [],
   "source": [
    "df_to_be_scored_2 = df_to_be_scored.drop(columns=['NAME', 'Unnamed: 0', 'USER_ID'], inplace=False)"
   ]
  },
  {
   "cell_type": "code",
   "execution_count": 41,
   "metadata": {},
   "outputs": [
    {
     "data": {
      "text/html": [
       "<div>\n",
       "<style scoped>\n",
       "    .dataframe tbody tr th:only-of-type {\n",
       "        vertical-align: middle;\n",
       "    }\n",
       "\n",
       "    .dataframe tbody tr th {\n",
       "        vertical-align: top;\n",
       "    }\n",
       "\n",
       "    .dataframe thead th {\n",
       "        text-align: right;\n",
       "    }\n",
       "</style>\n",
       "<table border=\"1\" class=\"dataframe\">\n",
       "  <thead>\n",
       "    <tr style=\"text-align: right;\">\n",
       "      <th></th>\n",
       "      <th>HOURS_DATASCIENCE</th>\n",
       "      <th>HOURS_BACKEND</th>\n",
       "      <th>HOURS_FRONTEND</th>\n",
       "      <th>NUM_COURSES_BEGINNER_DATASCIENCE</th>\n",
       "      <th>NUM_COURSES_BEGINNER_BACKEND</th>\n",
       "      <th>NUM_COURSES_BEGINNER_FRONTEND</th>\n",
       "      <th>NUM_COURSES_ADVANCED_DATASCIENCE</th>\n",
       "      <th>NUM_COURSES_ADVANCED_BACKEND</th>\n",
       "      <th>NUM_COURSES_ADVANCED_FRONTEND</th>\n",
       "      <th>AVG_SCORE_DATASCIENCE</th>\n",
       "      <th>AVG_SCORE_BACKEND</th>\n",
       "      <th>AVG_SCORE_FRONTEND</th>\n",
       "    </tr>\n",
       "  </thead>\n",
       "  <tbody>\n",
       "    <tr>\n",
       "      <th>0</th>\n",
       "      <td>84</td>\n",
       "      <td>30</td>\n",
       "      <td>0</td>\n",
       "      <td>4</td>\n",
       "      <td>6</td>\n",
       "      <td>3</td>\n",
       "      <td>3</td>\n",
       "      <td>7</td>\n",
       "      <td>6</td>\n",
       "      <td>51</td>\n",
       "      <td>74</td>\n",
       "      <td>37</td>\n",
       "    </tr>\n",
       "    <tr>\n",
       "      <th>1</th>\n",
       "      <td>42</td>\n",
       "      <td>74</td>\n",
       "      <td>13</td>\n",
       "      <td>3</td>\n",
       "      <td>6</td>\n",
       "      <td>4</td>\n",
       "      <td>2</td>\n",
       "      <td>7</td>\n",
       "      <td>5</td>\n",
       "      <td>82</td>\n",
       "      <td>59</td>\n",
       "      <td>50</td>\n",
       "    </tr>\n",
       "    <tr>\n",
       "      <th>2</th>\n",
       "      <td>18</td>\n",
       "      <td>76</td>\n",
       "      <td>38</td>\n",
       "      <td>5</td>\n",
       "      <td>2</td>\n",
       "      <td>8</td>\n",
       "      <td>8</td>\n",
       "      <td>3</td>\n",
       "      <td>8</td>\n",
       "      <td>77</td>\n",
       "      <td>53</td>\n",
       "      <td>50</td>\n",
       "    </tr>\n",
       "    <tr>\n",
       "      <th>3</th>\n",
       "      <td>77</td>\n",
       "      <td>29</td>\n",
       "      <td>23</td>\n",
       "      <td>7</td>\n",
       "      <td>2</td>\n",
       "      <td>6</td>\n",
       "      <td>1</td>\n",
       "      <td>6</td>\n",
       "      <td>1</td>\n",
       "      <td>68</td>\n",
       "      <td>57</td>\n",
       "      <td>60</td>\n",
       "    </tr>\n",
       "    <tr>\n",
       "      <th>4</th>\n",
       "      <td>35</td>\n",
       "      <td>14</td>\n",
       "      <td>39</td>\n",
       "      <td>0</td>\n",
       "      <td>5</td>\n",
       "      <td>3</td>\n",
       "      <td>2</td>\n",
       "      <td>8</td>\n",
       "      <td>3</td>\n",
       "      <td>63</td>\n",
       "      <td>82</td>\n",
       "      <td>91</td>\n",
       "    </tr>\n",
       "  </tbody>\n",
       "</table>\n",
       "</div>"
      ],
      "text/plain": [
       "   HOURS_DATASCIENCE  HOURS_BACKEND  HOURS_FRONTEND  \\\n",
       "0                 84             30               0   \n",
       "1                 42             74              13   \n",
       "2                 18             76              38   \n",
       "3                 77             29              23   \n",
       "4                 35             14              39   \n",
       "\n",
       "   NUM_COURSES_BEGINNER_DATASCIENCE  NUM_COURSES_BEGINNER_BACKEND  \\\n",
       "0                                 4                             6   \n",
       "1                                 3                             6   \n",
       "2                                 5                             2   \n",
       "3                                 7                             2   \n",
       "4                                 0                             5   \n",
       "\n",
       "   NUM_COURSES_BEGINNER_FRONTEND  NUM_COURSES_ADVANCED_DATASCIENCE  \\\n",
       "0                              3                                 3   \n",
       "1                              4                                 2   \n",
       "2                              8                                 8   \n",
       "3                              6                                 1   \n",
       "4                              3                                 2   \n",
       "\n",
       "   NUM_COURSES_ADVANCED_BACKEND  NUM_COURSES_ADVANCED_FRONTEND  \\\n",
       "0                             7                              6   \n",
       "1                             7                              5   \n",
       "2                             3                              8   \n",
       "3                             6                              1   \n",
       "4                             8                              3   \n",
       "\n",
       "   AVG_SCORE_DATASCIENCE  AVG_SCORE_BACKEND  AVG_SCORE_FRONTEND  \n",
       "0                     51                 74                  37  \n",
       "1                     82                 59                  50  \n",
       "2                     77                 53                  50  \n",
       "3                     68                 57                  60  \n",
       "4                     63                 82                  91  "
      ]
     },
     "execution_count": 41,
     "metadata": {},
     "output_type": "execute_result"
    }
   ],
   "source": [
    "df_to_be_scored_2.head()"
   ]
  },
  {
   "cell_type": "code",
   "execution_count": 42,
   "metadata": {},
   "outputs": [],
   "source": [
    "# Realización de una prueba a ciegas en el modelo creado\n",
    "y_pred = dtc_model.predict(df_to_be_scored_2)"
   ]
  },
  {
   "cell_type": "code",
   "execution_count": 43,
   "metadata": {
    "scrolled": false
   },
   "outputs": [
    {
     "data": {
      "text/html": [
       "<div>\n",
       "<style scoped>\n",
       "    .dataframe tbody tr th:only-of-type {\n",
       "        vertical-align: middle;\n",
       "    }\n",
       "\n",
       "    .dataframe tbody tr th {\n",
       "        vertical-align: top;\n",
       "    }\n",
       "\n",
       "    .dataframe thead th {\n",
       "        text-align: right;\n",
       "    }\n",
       "</style>\n",
       "<table border=\"1\" class=\"dataframe\">\n",
       "  <thead>\n",
       "    <tr style=\"text-align: right;\">\n",
       "      <th></th>\n",
       "      <th>HOURS_DATASCIENCE</th>\n",
       "      <th>HOURS_BACKEND</th>\n",
       "      <th>HOURS_FRONTEND</th>\n",
       "      <th>NUM_COURSES_BEGINNER_DATASCIENCE</th>\n",
       "      <th>NUM_COURSES_BEGINNER_BACKEND</th>\n",
       "      <th>NUM_COURSES_BEGINNER_FRONTEND</th>\n",
       "      <th>NUM_COURSES_ADVANCED_DATASCIENCE</th>\n",
       "      <th>NUM_COURSES_ADVANCED_BACKEND</th>\n",
       "      <th>NUM_COURSES_ADVANCED_FRONTEND</th>\n",
       "      <th>AVG_SCORE_DATASCIENCE</th>\n",
       "      <th>AVG_SCORE_BACKEND</th>\n",
       "      <th>AVG_SCORE_FRONTEND</th>\n",
       "      <th>target</th>\n",
       "    </tr>\n",
       "  </thead>\n",
       "  <tbody>\n",
       "    <tr>\n",
       "      <th>495</th>\n",
       "      <td>0</td>\n",
       "      <td>56</td>\n",
       "      <td>11</td>\n",
       "      <td>2</td>\n",
       "      <td>1</td>\n",
       "      <td>8</td>\n",
       "      <td>5</td>\n",
       "      <td>2</td>\n",
       "      <td>6</td>\n",
       "      <td>80</td>\n",
       "      <td>93</td>\n",
       "      <td>35</td>\n",
       "      <td>advanced_backend</td>\n",
       "    </tr>\n",
       "    <tr>\n",
       "      <th>496</th>\n",
       "      <td>50</td>\n",
       "      <td>53</td>\n",
       "      <td>5</td>\n",
       "      <td>4</td>\n",
       "      <td>1</td>\n",
       "      <td>4</td>\n",
       "      <td>8</td>\n",
       "      <td>4</td>\n",
       "      <td>4</td>\n",
       "      <td>59</td>\n",
       "      <td>59</td>\n",
       "      <td>50</td>\n",
       "      <td>advanced_backend</td>\n",
       "    </tr>\n",
       "    <tr>\n",
       "      <th>497</th>\n",
       "      <td>35</td>\n",
       "      <td>35</td>\n",
       "      <td>63</td>\n",
       "      <td>3</td>\n",
       "      <td>0</td>\n",
       "      <td>0</td>\n",
       "      <td>5</td>\n",
       "      <td>3</td>\n",
       "      <td>5</td>\n",
       "      <td>35</td>\n",
       "      <td>54</td>\n",
       "      <td>59</td>\n",
       "      <td>beginner_data_science</td>\n",
       "    </tr>\n",
       "    <tr>\n",
       "      <th>498</th>\n",
       "      <td>42</td>\n",
       "      <td>4</td>\n",
       "      <td>58</td>\n",
       "      <td>6</td>\n",
       "      <td>6</td>\n",
       "      <td>5</td>\n",
       "      <td>7</td>\n",
       "      <td>7</td>\n",
       "      <td>5</td>\n",
       "      <td>78</td>\n",
       "      <td>59</td>\n",
       "      <td>79</td>\n",
       "      <td>beginner_front_end</td>\n",
       "    </tr>\n",
       "    <tr>\n",
       "      <th>499</th>\n",
       "      <td>6</td>\n",
       "      <td>47</td>\n",
       "      <td>39</td>\n",
       "      <td>5</td>\n",
       "      <td>2</td>\n",
       "      <td>8</td>\n",
       "      <td>5</td>\n",
       "      <td>4</td>\n",
       "      <td>9</td>\n",
       "      <td>88</td>\n",
       "      <td>83</td>\n",
       "      <td>61</td>\n",
       "      <td>advanced_backend</td>\n",
       "    </tr>\n",
       "  </tbody>\n",
       "</table>\n",
       "</div>"
      ],
      "text/plain": [
       "     HOURS_DATASCIENCE  HOURS_BACKEND  HOURS_FRONTEND  \\\n",
       "495                  0             56              11   \n",
       "496                 50             53               5   \n",
       "497                 35             35              63   \n",
       "498                 42              4              58   \n",
       "499                  6             47              39   \n",
       "\n",
       "     NUM_COURSES_BEGINNER_DATASCIENCE  NUM_COURSES_BEGINNER_BACKEND  \\\n",
       "495                                 2                             1   \n",
       "496                                 4                             1   \n",
       "497                                 3                             0   \n",
       "498                                 6                             6   \n",
       "499                                 5                             2   \n",
       "\n",
       "     NUM_COURSES_BEGINNER_FRONTEND  NUM_COURSES_ADVANCED_DATASCIENCE  \\\n",
       "495                              8                                 5   \n",
       "496                              4                                 8   \n",
       "497                              0                                 5   \n",
       "498                              5                                 7   \n",
       "499                              8                                 5   \n",
       "\n",
       "     NUM_COURSES_ADVANCED_BACKEND  NUM_COURSES_ADVANCED_FRONTEND  \\\n",
       "495                             2                              6   \n",
       "496                             4                              4   \n",
       "497                             3                              5   \n",
       "498                             7                              5   \n",
       "499                             4                              9   \n",
       "\n",
       "     AVG_SCORE_DATASCIENCE  AVG_SCORE_BACKEND  AVG_SCORE_FRONTEND  \\\n",
       "495                     80                 93                  35   \n",
       "496                     59                 59                  50   \n",
       "497                     35                 54                  59   \n",
       "498                     78                 59                  79   \n",
       "499                     88                 83                  61   \n",
       "\n",
       "                    target  \n",
       "495       advanced_backend  \n",
       "496       advanced_backend  \n",
       "497  beginner_data_science  \n",
       "498     beginner_front_end  \n",
       "499       advanced_backend  "
      ]
     },
     "execution_count": 43,
     "metadata": {},
     "output_type": "execute_result"
    }
   ],
   "source": [
    "# Agregando las respuestas en la columna \"target\"\n",
    "df_to_be_scored_2['target'] = y_pred\n",
    "df_to_be_scored_2.tail()"
   ]
  },
  {
   "cell_type": "code",
   "execution_count": 44,
   "metadata": {},
   "outputs": [
    {
     "name": "stdout",
     "output_type": "stream",
     "text": [
      "Counter({'beginner_front_end': 95, 'advanced_data_science': 88, 'beginner_data_science': 84, 'advanced_front_end': 82, 'beginner_backend': 76, 'advanced_backend': 75})\n"
     ]
    }
   ],
   "source": [
    "print(Counter(y_pred))"
   ]
  },
  {
   "cell_type": "markdown",
   "metadata": {},
   "source": [
    "### Guardar la hoja de respuestas como un archivo .csv para enviar\n",
    "**SI YA TIENE UN DATA ASSET CON EL NOMBRE `results.csv` EN ESTE PROYECTO O EN OTRO PROYECTO DE WATSON STUDIO DEBE BORRAR EL ARCHIVO ANTES DE CORRER LA SIGUIENTE CELDA O TENDRA EL ERROR: _RuntimeError: File 'results.csv' already exists in storage._**"
   ]
  },
  {
   "cell_type": "code",
   "execution_count": 46,
   "metadata": {},
   "outputs": [
    {
     "data": {
      "text/plain": [
       "{'file_name': 'results.csv',\n",
       " 'message': 'File saved to project storage.',\n",
       " 'bucket_name': 'tortuga-donotdelete-pr-1bjvkojpasdupt',\n",
       " 'asset_id': '2089ebe5-7034-434c-97de-5d5330b59fba'}"
      ]
     },
     "execution_count": 46,
     "metadata": {},
     "output_type": "execute_result"
    }
   ],
   "source": [
    "project.save_data(file_name=\"results.csv\", data=df_to_be_scored_2.to_csv(index=False))"
   ]
  },
  {
   "cell_type": "markdown",
   "metadata": {},
   "source": [
    "# Atención\n",
    "\n",
    "# La ejecución de la celda anterior creará un nuevo \"data asset\" en su proyecto de Watson Studio. Deberá descargar este archivo junto con este cuaderno y crear un archivo zip con **results.csv** y **notebook.ipynb** para enviarlo. (los archivos deben tener este nombre)"
   ]
  },
  {
   "cell_type": "markdown",
   "metadata": {},
   "source": [
    "<hr>\n",
    "\n",
    "## ¡Felicitaciones!\n",
    "\n",
    "Si ya está satisfecho con su solución, vaya a la página siguiente y envíe los archivos necesarios para su envío.\n",
    "\n",
    "# https://tortuga.maratona.dev"
   ]
  },
  {
   "cell_type": "code",
   "execution_count": null,
   "metadata": {},
   "outputs": [],
   "source": []
  }
 ],
 "metadata": {
  "kernelspec": {
   "display_name": "Python 3",
   "language": "python",
   "name": "python3"
  },
  "language_info": {
   "codemirror_mode": {
    "name": "ipython",
    "version": 3
   },
   "file_extension": ".py",
   "mimetype": "text/x-python",
   "name": "python",
   "nbconvert_exporter": "python",
   "pygments_lexer": "ipython3",
   "version": "3.8.5"
  }
 },
 "nbformat": 4,
 "nbformat_minor": 1
}
