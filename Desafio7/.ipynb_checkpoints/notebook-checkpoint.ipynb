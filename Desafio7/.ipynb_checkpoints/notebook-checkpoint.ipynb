{
 "cells": [
  {
   "cell_type": "code",
   "execution_count": 1,
   "metadata": {},
   "outputs": [],
   "source": [
    "# @hidden_cell\n",
    "# The project token is an authorization token that is used to access project resources like data sources, connections, and used by platform APIs.\n",
    "from project_lib import Project\n",
    "project = Project(project_id='a321aafc-51b5-4008-aba2-9afa946f648e', project_access_token='p-e92fd8e33e0a36e826c7273ccf43ba951bb4e3cd')\n",
    "pc = project.project_context\n"
   ]
  },
  {
   "cell_type": "markdown",
   "metadata": {
    "collapsed": true
   },
   "source": [
    "# MARATONA BEHIND THE CODE 2020\n",
    "\n",
    "## DESAFIO 7 - BanCoppel"
   ]
  },
  {
   "cell_type": "markdown",
   "metadata": {},
   "source": [
    "<hr>"
   ]
  },
  {
   "cell_type": "markdown",
   "metadata": {},
   "source": [
    "## Instalando Librerias"
   ]
  },
  {
   "cell_type": "code",
   "execution_count": null,
   "metadata": {},
   "outputs": [],
   "source": [
    "!pip install scikit-learn==0.23.2 --upgrade\n",
    "!pip install pandas==1.1.1 --upgrade\n",
    "!pip install seaborn==0.10.1 --upgrade\n",
    "!pip install -U imbalanced-learn"
   ]
  },
  {
   "cell_type": "markdown",
   "metadata": {},
   "source": [
    "<hr>"
   ]
  },
  {
   "cell_type": "markdown",
   "metadata": {},
   "source": [
    "## Descargar los conjuntos de datos en formato .csv"
   ]
  },
  {
   "cell_type": "code",
   "execution_count": 2,
   "metadata": {},
   "outputs": [
    {
     "name": "stderr",
     "output_type": "stream",
     "text": [
      "Using TensorFlow backend.\n"
     ]
    }
   ],
   "source": [
    "import pandas as pd\n",
    "import numpy as np\n",
    "\n",
    "import itertools\n",
    "\n",
    "from collections import Counter\n",
    "\n",
    "from sklearn.preprocessing import StandardScaler\n",
    "from sklearn.preprocessing import OneHotEncoder\n",
    "from sklearn.preprocessing import LabelEncoder\n",
    "\n",
    "from sklearn.model_selection import StratifiedKFold\n",
    "from sklearn.model_selection import cross_val_score\n",
    "from sklearn.model_selection import train_test_split\n",
    "from sklearn.model_selection import GridSearchCV\n",
    "\n",
    "from sklearn.tree import DecisionTreeClassifier\n",
    "from sklearn.ensemble import ExtraTreesClassifier\n",
    "from sklearn.ensemble import RandomForestClassifier\n",
    "from sklearn.svm import SVC\n",
    "from xgboost import XGBClassifier\n",
    "\n",
    "from imblearn.over_sampling import SMOTE\n",
    "\n",
    "from sklearn.impute import SimpleImputer\n",
    "\n",
    "from sklearn.metrics import classification_report, confusion_matrix, accuracy_score, make_scorer\n",
    "\n",
    "import matplotlib.pyplot as plt\n",
    "\n",
    "import seaborn as sns\n",
    "\n",
    "from keras.models import Sequential\n",
    "from keras.layers import Dense\n",
    "from keras.wrappers.scikit_learn import KerasClassifier"
   ]
  },
  {
   "cell_type": "code",
   "execution_count": 3,
   "metadata": {},
   "outputs": [
    {
     "name": "stdout",
     "output_type": "stream",
     "text": [
      "--2020-09-17 14:21:40--  https://gitlab.com/JoaoPedroPP/datasets/-/raw/master/training_dataset.csv\n",
      "Resolving gitlab.com (gitlab.com)... 172.65.251.78, 2606:4700:90:0:f22e:fbec:5bed:a9b9\n",
      "Connecting to gitlab.com (gitlab.com)|172.65.251.78|:443... connected.\n",
      "HTTP request sent, awaiting response... 200 OK\n",
      "Length: unspecified [text/plain]\n",
      "Saving to: ‘training_dataset.csv.1’\n",
      "\n",
      "    [ <=>                                   ] 2,327,419   --.-K/s   in 0.02s   \n",
      "\n",
      "2020-09-17 14:21:40 (122 MB/s) - ‘training_dataset.csv.1’ saved [2327419]\n",
      "\n"
     ]
    },
    {
     "data": {
      "text/html": [
       "<div>\n",
       "<style scoped>\n",
       "    .dataframe tbody tr th:only-of-type {\n",
       "        vertical-align: middle;\n",
       "    }\n",
       "\n",
       "    .dataframe tbody tr th {\n",
       "        vertical-align: top;\n",
       "    }\n",
       "\n",
       "    .dataframe thead th {\n",
       "        text-align: right;\n",
       "    }\n",
       "</style>\n",
       "<table border=\"1\" class=\"dataframe\">\n",
       "  <thead>\n",
       "    <tr style=\"text-align: right;\">\n",
       "      <th></th>\n",
       "      <th>ID</th>\n",
       "      <th>Genero</th>\n",
       "      <th>Años</th>\n",
       "      <th>Estado_civil</th>\n",
       "      <th>Trabajo</th>\n",
       "      <th>Sector</th>\n",
       "      <th>Telefono</th>\n",
       "      <th>Anos_usando_internet_banking</th>\n",
       "      <th>Anos_usando_banca_movil</th>\n",
       "      <th>Banca_movil_userfriendly</th>\n",
       "      <th>Frecuencia_internet_banking_mes</th>\n",
       "      <th>Frecuencia_banca_movil_mes</th>\n",
       "      <th>Frecuencia_pagamentos_tarjeta_mes</th>\n",
       "      <th>Frecuencia_tarjeta_virtual_mes</th>\n",
       "      <th>Frecuencia_saldo_cuenta_mes</th>\n",
       "      <th>TARGET</th>\n",
       "    </tr>\n",
       "  </thead>\n",
       "  <tbody>\n",
       "    <tr>\n",
       "      <th>23994</th>\n",
       "      <td>160</td>\n",
       "      <td>F</td>\n",
       "      <td>40.0</td>\n",
       "      <td>Soltero</td>\n",
       "      <td>Profesor</td>\n",
       "      <td>Sector privado</td>\n",
       "      <td>Iphone 6+</td>\n",
       "      <td>10.0</td>\n",
       "      <td>3.0</td>\n",
       "      <td>Si</td>\n",
       "      <td>31.0</td>\n",
       "      <td>0.0</td>\n",
       "      <td>0.0</td>\n",
       "      <td>0.0</td>\n",
       "      <td>31.0</td>\n",
       "      <td>Perfil_3</td>\n",
       "    </tr>\n",
       "    <tr>\n",
       "      <th>23995</th>\n",
       "      <td>155</td>\n",
       "      <td>F</td>\n",
       "      <td>24.0</td>\n",
       "      <td>NaN</td>\n",
       "      <td>Profesor</td>\n",
       "      <td>Institucion publica</td>\n",
       "      <td>L G</td>\n",
       "      <td>15.0</td>\n",
       "      <td>6.0</td>\n",
       "      <td>Si</td>\n",
       "      <td>30.0</td>\n",
       "      <td>30.0</td>\n",
       "      <td>31.0</td>\n",
       "      <td>30.0</td>\n",
       "      <td>7.0</td>\n",
       "      <td>Perfil_0</td>\n",
       "    </tr>\n",
       "    <tr>\n",
       "      <th>23996</th>\n",
       "      <td>229</td>\n",
       "      <td>F</td>\n",
       "      <td>24.0</td>\n",
       "      <td>Casado</td>\n",
       "      <td>Profesor</td>\n",
       "      <td>Desempleados</td>\n",
       "      <td>LG V10</td>\n",
       "      <td>5.0</td>\n",
       "      <td>3.0</td>\n",
       "      <td>Si</td>\n",
       "      <td>0.0</td>\n",
       "      <td>30.0</td>\n",
       "      <td>1.0</td>\n",
       "      <td>0.0</td>\n",
       "      <td>0.0</td>\n",
       "      <td>Perfil_4</td>\n",
       "    </tr>\n",
       "    <tr>\n",
       "      <th>23997</th>\n",
       "      <td>214</td>\n",
       "      <td>F</td>\n",
       "      <td>24.0</td>\n",
       "      <td>Soltero</td>\n",
       "      <td>Desempleados</td>\n",
       "      <td>Desempleados</td>\n",
       "      <td>Android</td>\n",
       "      <td>5.0</td>\n",
       "      <td>6.0</td>\n",
       "      <td>No</td>\n",
       "      <td>7.0</td>\n",
       "      <td>0.0</td>\n",
       "      <td>1.0</td>\n",
       "      <td>1.0</td>\n",
       "      <td>0.0</td>\n",
       "      <td>Perfil_4</td>\n",
       "    </tr>\n",
       "    <tr>\n",
       "      <th>23998</th>\n",
       "      <td>30</td>\n",
       "      <td>M</td>\n",
       "      <td>30.0</td>\n",
       "      <td>Casado</td>\n",
       "      <td>Servidor publico</td>\n",
       "      <td>Institucion publica</td>\n",
       "      <td>0</td>\n",
       "      <td>5.0</td>\n",
       "      <td>4.0</td>\n",
       "      <td>No</td>\n",
       "      <td>31.0</td>\n",
       "      <td>31.0</td>\n",
       "      <td>0.0</td>\n",
       "      <td>0.0</td>\n",
       "      <td>0.0</td>\n",
       "      <td>Perfil_3</td>\n",
       "    </tr>\n",
       "  </tbody>\n",
       "</table>\n",
       "</div>"
      ],
      "text/plain": [
       "        ID Genero  Años Estado_civil           Trabajo               Sector  \\\n",
       "23994  160      F  40.0      Soltero          Profesor       Sector privado   \n",
       "23995  155      F  24.0          NaN          Profesor  Institucion publica   \n",
       "23996  229      F  24.0       Casado          Profesor         Desempleados   \n",
       "23997  214      F  24.0      Soltero      Desempleados         Desempleados   \n",
       "23998   30      M  30.0       Casado  Servidor publico  Institucion publica   \n",
       "\n",
       "        Telefono  Anos_usando_internet_banking  Anos_usando_banca_movil  \\\n",
       "23994  Iphone 6+                          10.0                      3.0   \n",
       "23995        L G                          15.0                      6.0   \n",
       "23996     LG V10                           5.0                      3.0   \n",
       "23997    Android                           5.0                      6.0   \n",
       "23998          0                           5.0                      4.0   \n",
       "\n",
       "      Banca_movil_userfriendly  Frecuencia_internet_banking_mes  \\\n",
       "23994                       Si                             31.0   \n",
       "23995                       Si                             30.0   \n",
       "23996                       Si                              0.0   \n",
       "23997                       No                              7.0   \n",
       "23998                       No                             31.0   \n",
       "\n",
       "       Frecuencia_banca_movil_mes  Frecuencia_pagamentos_tarjeta_mes  \\\n",
       "23994                         0.0                                0.0   \n",
       "23995                        30.0                               31.0   \n",
       "23996                        30.0                                1.0   \n",
       "23997                         0.0                                1.0   \n",
       "23998                        31.0                                0.0   \n",
       "\n",
       "       Frecuencia_tarjeta_virtual_mes  Frecuencia_saldo_cuenta_mes    TARGET  \n",
       "23994                             0.0                         31.0  Perfil_3  \n",
       "23995                            30.0                          7.0  Perfil_0  \n",
       "23996                             0.0                          0.0  Perfil_4  \n",
       "23997                             1.0                          0.0  Perfil_4  \n",
       "23998                             0.0                          0.0  Perfil_3  "
      ]
     },
     "execution_count": 3,
     "metadata": {},
     "output_type": "execute_result"
    }
   ],
   "source": [
    "!wget --no-check-certificate --content-disposition https://gitlab.com/JoaoPedroPP/datasets/-/raw/master/training_dataset.csv\n",
    "df_training_dataset = pd.read_csv(r'training_dataset.csv')\n",
    "df_training_dataset.tail()"
   ]
  },
  {
   "cell_type": "code",
   "execution_count": 4,
   "metadata": {},
   "outputs": [
    {
     "name": "stdout",
     "output_type": "stream",
     "text": [
      "Cols:  16  Rows:  23999\n"
     ]
    }
   ],
   "source": [
    "print(\"Cols: \", len(df_training_dataset.columns), \" Rows: \", len(df_training_dataset))"
   ]
  },
  {
   "cell_type": "code",
   "execution_count": 5,
   "metadata": {},
   "outputs": [
    {
     "name": "stdout",
     "output_type": "stream",
     "text": [
      "Valores nulos del df_training_dataset despues de la transformación DropNA: \n",
      "\n",
      "ID                                      0\n",
      "Genero                                889\n",
      "Años                                  268\n",
      "Estado_civil                          704\n",
      "Trabajo                              2955\n",
      "Sector                                359\n",
      "Telefono                             1421\n",
      "Anos_usando_internet_banking          644\n",
      "Anos_usando_banca_movil              1301\n",
      "Banca_movil_userfriendly                0\n",
      "Frecuencia_internet_banking_mes      2724\n",
      "Frecuencia_banca_movil_mes           1271\n",
      "Frecuencia_pagamentos_tarjeta_mes     285\n",
      "Frecuencia_tarjeta_virtual_mes        475\n",
      "Frecuencia_saldo_cuenta_mes           570\n",
      "TARGET                                  0\n",
      "dtype: int64\n",
      "\n"
     ]
    }
   ],
   "source": [
    "# # Mostrando los datos nulos del dataset despues de la primera transformación (df)\n",
    "print(\"Valores nulos del df_training_dataset despues de la transformación DropNA: \\n\\n{}\\n\".format(df_training_dataset.isnull().sum(axis = 0)))"
   ]
  },
  {
   "cell_type": "markdown",
   "metadata": {},
   "source": [
    "<hr>\n",
    "\n",
    "## Desglose del desafío: clasificación multiclase\n",
    "\n",
    "Este es un desafio cuyo objetivo de negocio es la segmentación de usuario de aplicativos de BanCopp. Podemos utilizar  dos enfoques: Machine Learning supervisado (clasificación) o no supervisado (clustering). En este desafío será usado la clasificación porque el conjunto de datos ya está disponible con \"labels\", o en otras palabras, ya con la variable objetivo. \n",
    "\n",
    "En la biblioteca scikit-learn tenemos diversos algoritmos para clasificación. El participante es libre para utilizar el framework que desee para completar este desafío.\n",
    "\n",
    "En este notebook será mostrado un ejemplo usando el algoritmo \"Decision Tree\" para clasificar los estudantes en seis diferentes perfiles."
   ]
  },
  {
   "cell_type": "markdown",
   "metadata": {},
   "source": [
    "<hr>"
   ]
  },
  {
   "cell_type": "markdown",
   "metadata": {},
   "source": [
    "## Visualizar datos"
   ]
  },
  {
   "cell_type": "code",
   "execution_count": 6,
   "metadata": {},
   "outputs": [],
   "source": [
    "def countTargets(data):\n",
    "    target_count = data.TARGET.value_counts()\n",
    "    \n",
    "    vals = [target_count['Perfil_0'], target_count['Perfil_1'], target_count['Perfil_2'], target_count['Perfil_3'], target_count['Perfil_4'], target_count['Perfil_5']]\n",
    "    proportions = [ round(vals[i] / sum(target_count.values), 4) for i in range(len(vals)) ]\n",
    "    \n",
    "    for x in range(len(vals)):\n",
    "        print('Perfil ', str(x), ':', vals[x], '\\tProportion:', proportions[x], ': 1', '\\tWeight:',round(proportions[x]*100, 2), '%')\n",
    "    \n",
    "    return target_count"
   ]
  },
  {
   "cell_type": "code",
   "execution_count": 7,
   "metadata": {},
   "outputs": [
    {
     "name": "stdout",
     "output_type": "stream",
     "text": [
      "Perfil  0 : 778 \tProportion: 0.0324 : 1 \tWeight: 3.24 %\n",
      "Perfil  1 : 2143 \tProportion: 0.0893 : 1 \tWeight: 8.93 %\n",
      "Perfil  2 : 3762 \tProportion: 0.1568 : 1 \tWeight: 15.68 %\n",
      "Perfil  3 : 4977 \tProportion: 0.2074 : 1 \tWeight: 20.74 %\n",
      "Perfil  4 : 6124 \tProportion: 0.2552 : 1 \tWeight: 25.52 %\n",
      "Perfil  5 : 6215 \tProportion: 0.259 : 1 \tWeight: 25.9 %\n"
     ]
    },
    {
     "data": {
      "image/png": "[encoded data removed]",
      "text/plain": [
       "<Figure size 432x288 with 1 Axes>"
      ]
     },
     "metadata": {
      "needs_background": "light"
     },
     "output_type": "display_data"
    }
   ],
   "source": [
    "countTargets(df_training_dataset).plot(kind='bar', title='Count (Perfil)', color='navajowhite');"
   ]
  },
  {
   "cell_type": "code",
   "execution_count": 8,
   "metadata": {},
   "outputs": [
    {
     "name": "stdout",
     "output_type": "stream",
     "text": [
      "Cols:  16  Rows:  23999\n"
     ]
    }
   ],
   "source": [
    "print(\"Cols: \", len(df_training_dataset.columns), \" Rows: \", len(df_training_dataset))"
   ]
  },
  {
   "cell_type": "code",
   "execution_count": 9,
   "metadata": {},
   "outputs": [],
   "source": [
    "a = df_training_dataset.isna().sum(axis = 1)"
   ]
  },
  {
   "cell_type": "code",
   "execution_count": 10,
   "metadata": {},
   "outputs": [
    {
     "data": {
      "text/plain": [
       "Counter({2: 2257, 3: 347, 4: 45, 5: 5})"
      ]
     },
     "execution_count": 10,
     "metadata": {},
     "output_type": "execute_result"
    }
   ],
   "source": [
    "Counter(a[a>=2])"
   ]
  },
  {
   "cell_type": "code",
   "execution_count": 11,
   "metadata": {},
   "outputs": [
    {
     "name": "stdout",
     "output_type": "stream",
     "text": [
      "<class 'pandas.core.frame.DataFrame'>\n",
      "RangeIndex: 23999 entries, 0 to 23998\n",
      "Data columns (total 16 columns):\n",
      " #   Column                             Non-Null Count  Dtype  \n",
      "---  ------                             --------------  -----  \n",
      " 0   ID                                 23999 non-null  int64  \n",
      " 1   Genero                             23110 non-null  object \n",
      " 2   Años                               23731 non-null  float64\n",
      " 3   Estado_civil                       23295 non-null  object \n",
      " 4   Trabajo                            21044 non-null  object \n",
      " 5   Sector                             23640 non-null  object \n",
      " 6   Telefono                           22578 non-null  object \n",
      " 7   Anos_usando_internet_banking       23355 non-null  float64\n",
      " 8   Anos_usando_banca_movil            22698 non-null  float64\n",
      " 9   Banca_movil_userfriendly           23999 non-null  object \n",
      " 10  Frecuencia_internet_banking_mes    21275 non-null  float64\n",
      " 11  Frecuencia_banca_movil_mes         22728 non-null  float64\n",
      " 12  Frecuencia_pagamentos_tarjeta_mes  23714 non-null  float64\n",
      " 13  Frecuencia_tarjeta_virtual_mes     23524 non-null  float64\n",
      " 14  Frecuencia_saldo_cuenta_mes        23429 non-null  float64\n",
      " 15  TARGET                             23999 non-null  object \n",
      "dtypes: float64(8), int64(1), object(7)\n",
      "memory usage: 2.9+ MB\n"
     ]
    }
   ],
   "source": [
    "df_training_dataset.info()"
   ]
  },
  {
   "cell_type": "code",
   "execution_count": 81,
   "metadata": {},
   "outputs": [],
   "source": [
    "df_training_dataset_1 = df_training_dataset.dropna(thresh=14, inplace=False)"
   ]
  },
  {
   "cell_type": "code",
   "execution_count": 82,
   "metadata": {},
   "outputs": [],
   "source": [
    "df_training_dataset_1.reset_index(drop=True, inplace=True)"
   ]
  },
  {
   "cell_type": "code",
   "execution_count": 83,
   "metadata": {},
   "outputs": [
    {
     "name": "stdout",
     "output_type": "stream",
     "text": [
      "Cols:  16  Rows:  23602\n"
     ]
    }
   ],
   "source": [
    "print(\"Cols: \", len(df_training_dataset_1.columns), \" Rows: \", len(df_training_dataset_1))"
   ]
  },
  {
   "cell_type": "code",
   "execution_count": 84,
   "metadata": {},
   "outputs": [
    {
     "name": "stdout",
     "output_type": "stream",
     "text": [
      "Perfil  0 : 771 \tProportion: 0.0327 : 1 \tWeight: 3.27 %\n",
      "Perfil  1 : 2132 \tProportion: 0.0903 : 1 \tWeight: 9.03 %\n",
      "Perfil  2 : 3754 \tProportion: 0.1591 : 1 \tWeight: 15.91 %\n",
      "Perfil  3 : 4965 \tProportion: 0.2104 : 1 \tWeight: 21.04 %\n",
      "Perfil  4 : 6109 \tProportion: 0.2588 : 1 \tWeight: 25.88 %\n",
      "Perfil  5 : 5871 \tProportion: 0.2488 : 1 \tWeight: 24.88 %\n"
     ]
    },
    {
     "data": {
      "image/png": "[encoded data removed]",
      "text/plain": [
       "<Figure size 432x288 with 1 Axes>"
      ]
     },
     "metadata": {
      "needs_background": "light"
     },
     "output_type": "display_data"
    }
   ],
   "source": [
    "countTargets(df_training_dataset_1).plot(kind='bar', title='Count (Perfil)', color='navajowhite');"
   ]
  },
  {
   "cell_type": "code",
   "execution_count": 85,
   "metadata": {},
   "outputs": [
    {
     "name": "stderr",
     "output_type": "stream",
     "text": [
      "/opt/conda/envs/Python36/lib/python3.6/site-packages/pandas/core/series.py:4523: SettingWithCopyWarning: \n",
      "A value is trying to be set on a copy of a slice from a DataFrame\n",
      "\n",
      "See the caveats in the documentation: https://pandas.pydata.org/pandas-docs/stable/user_guide/indexing.html#returning-a-view-versus-a-copy\n",
      "  downcast=downcast,\n"
     ]
    }
   ],
   "source": [
    "for feature in ['Años', 'Anos_usando_internet_banking', 'Anos_usando_banca_movil',]:\n",
    "    df_training_dataset_1.loc[:, (feature)].fillna(df_training_dataset_1[feature].mean(), inplace=True)\n",
    "    \n",
    "for feature in  ['Frecuencia_internet_banking_mes', 'Frecuencia_banca_movil_mes',\n",
    "               'Frecuencia_pagamentos_tarjeta_mes', 'Frecuencia_tarjeta_virtual_mes', 'Frecuencia_saldo_cuenta_mes']:\n",
    "    df_training_dataset_1.loc[:, (feature)].fillna(df_training_dataset_1[feature].mean(), inplace=True)"
   ]
  },
  {
   "cell_type": "code",
   "execution_count": 86,
   "metadata": {},
   "outputs": [],
   "source": [
    "for feature in ['Genero', 'Estado_civil', 'Trabajo', 'Sector', 'Telefono']:\n",
    "    df_training_dataset_1[feature].fillna(df_training_dataset_1[feature].value_counts().idxmax(), inplace=True)"
   ]
  },
  {
   "cell_type": "code",
   "execution_count": 87,
   "metadata": {
    "scrolled": true
   },
   "outputs": [
    {
     "name": "stdout",
     "output_type": "stream",
     "text": [
      "Valores nulos del df_training_dataset despues de la transformación DropNA: \n",
      "\n",
      "ID                                   0\n",
      "Genero                               0\n",
      "Años                                 0\n",
      "Estado_civil                         0\n",
      "Trabajo                              0\n",
      "Sector                               0\n",
      "Telefono                             0\n",
      "Anos_usando_internet_banking         0\n",
      "Anos_usando_banca_movil              0\n",
      "Banca_movil_userfriendly             0\n",
      "Frecuencia_internet_banking_mes      0\n",
      "Frecuencia_banca_movil_mes           0\n",
      "Frecuencia_pagamentos_tarjeta_mes    0\n",
      "Frecuencia_tarjeta_virtual_mes       0\n",
      "Frecuencia_saldo_cuenta_mes          0\n",
      "TARGET                               0\n",
      "dtype: int64\n",
      "\n"
     ]
    }
   ],
   "source": [
    "# # Mostrando los datos nulos del dataset despues de la primera transformación (df)\n",
    "print(\"Valores nulos del df_training_dataset despues de la transformación DropNA: \\n\\n{}\\n\".format(df_training_dataset_1.isnull().sum(axis = 0)))"
   ]
  },
  {
   "cell_type": "code",
   "execution_count": null,
   "metadata": {},
   "outputs": [],
   "source": [
    "len(df_training_dataset_1)"
   ]
  },
  {
   "cell_type": "code",
   "execution_count": null,
   "metadata": {},
   "outputs": [],
   "source": [
    "Counter(df_training_dataset_1['Genero'])"
   ]
  },
  {
   "cell_type": "code",
   "execution_count": null,
   "metadata": {},
   "outputs": [],
   "source": [
    "Counter(df_training_dataset_1['Sector'])"
   ]
  },
  {
   "cell_type": "code",
   "execution_count": null,
   "metadata": {},
   "outputs": [],
   "source": [
    "Counter(df_training_dataset_1['Estado_civil'])"
   ]
  },
  {
   "cell_type": "code",
   "execution_count": null,
   "metadata": {},
   "outputs": [],
   "source": [
    "Counter(df_training_dataset_1['Trabajo'])"
   ]
  },
  {
   "cell_type": "markdown",
   "metadata": {},
   "source": [
    "## Pre-procesando el dataset antes del entrenamiento"
   ]
  },
  {
   "cell_type": "markdown",
   "metadata": {},
   "source": [
    "#### Eliminando colunas no desadas"
   ]
  },
  {
   "cell_type": "code",
   "execution_count": 88,
   "metadata": {},
   "outputs": [],
   "source": [
    "df_training = df_training_dataset_1.drop(columns=['ID'], inplace=False)"
   ]
  },
  {
   "cell_type": "code",
   "execution_count": 89,
   "metadata": {},
   "outputs": [
    {
     "data": {
      "text/html": [
       "<div>\n",
       "<style scoped>\n",
       "    .dataframe tbody tr th:only-of-type {\n",
       "        vertical-align: middle;\n",
       "    }\n",
       "\n",
       "    .dataframe tbody tr th {\n",
       "        vertical-align: top;\n",
       "    }\n",
       "\n",
       "    .dataframe thead th {\n",
       "        text-align: right;\n",
       "    }\n",
       "</style>\n",
       "<table border=\"1\" class=\"dataframe\">\n",
       "  <thead>\n",
       "    <tr style=\"text-align: right;\">\n",
       "      <th></th>\n",
       "      <th>Genero</th>\n",
       "      <th>Años</th>\n",
       "      <th>Estado_civil</th>\n",
       "      <th>Trabajo</th>\n",
       "      <th>Sector</th>\n",
       "      <th>Telefono</th>\n",
       "      <th>Anos_usando_internet_banking</th>\n",
       "      <th>Anos_usando_banca_movil</th>\n",
       "      <th>Banca_movil_userfriendly</th>\n",
       "      <th>Frecuencia_internet_banking_mes</th>\n",
       "      <th>Frecuencia_banca_movil_mes</th>\n",
       "      <th>Frecuencia_pagamentos_tarjeta_mes</th>\n",
       "      <th>Frecuencia_tarjeta_virtual_mes</th>\n",
       "      <th>Frecuencia_saldo_cuenta_mes</th>\n",
       "      <th>TARGET</th>\n",
       "    </tr>\n",
       "  </thead>\n",
       "  <tbody>\n",
       "    <tr>\n",
       "      <th>23597</th>\n",
       "      <td>F</td>\n",
       "      <td>40.0</td>\n",
       "      <td>Soltero</td>\n",
       "      <td>Profesor</td>\n",
       "      <td>Sector privado</td>\n",
       "      <td>Iphone 6+</td>\n",
       "      <td>10.0</td>\n",
       "      <td>3.0</td>\n",
       "      <td>Si</td>\n",
       "      <td>31.0</td>\n",
       "      <td>0.0</td>\n",
       "      <td>0.0</td>\n",
       "      <td>0.0</td>\n",
       "      <td>31.0</td>\n",
       "      <td>Perfil_3</td>\n",
       "    </tr>\n",
       "    <tr>\n",
       "      <th>23598</th>\n",
       "      <td>F</td>\n",
       "      <td>24.0</td>\n",
       "      <td>Casado</td>\n",
       "      <td>Profesor</td>\n",
       "      <td>Institucion publica</td>\n",
       "      <td>L G</td>\n",
       "      <td>15.0</td>\n",
       "      <td>6.0</td>\n",
       "      <td>Si</td>\n",
       "      <td>30.0</td>\n",
       "      <td>30.0</td>\n",
       "      <td>31.0</td>\n",
       "      <td>30.0</td>\n",
       "      <td>7.0</td>\n",
       "      <td>Perfil_0</td>\n",
       "    </tr>\n",
       "    <tr>\n",
       "      <th>23599</th>\n",
       "      <td>F</td>\n",
       "      <td>24.0</td>\n",
       "      <td>Casado</td>\n",
       "      <td>Profesor</td>\n",
       "      <td>Desempleados</td>\n",
       "      <td>LG V10</td>\n",
       "      <td>5.0</td>\n",
       "      <td>3.0</td>\n",
       "      <td>Si</td>\n",
       "      <td>0.0</td>\n",
       "      <td>30.0</td>\n",
       "      <td>1.0</td>\n",
       "      <td>0.0</td>\n",
       "      <td>0.0</td>\n",
       "      <td>Perfil_4</td>\n",
       "    </tr>\n",
       "    <tr>\n",
       "      <th>23600</th>\n",
       "      <td>F</td>\n",
       "      <td>24.0</td>\n",
       "      <td>Soltero</td>\n",
       "      <td>Desempleados</td>\n",
       "      <td>Desempleados</td>\n",
       "      <td>Android</td>\n",
       "      <td>5.0</td>\n",
       "      <td>6.0</td>\n",
       "      <td>No</td>\n",
       "      <td>7.0</td>\n",
       "      <td>0.0</td>\n",
       "      <td>1.0</td>\n",
       "      <td>1.0</td>\n",
       "      <td>0.0</td>\n",
       "      <td>Perfil_4</td>\n",
       "    </tr>\n",
       "    <tr>\n",
       "      <th>23601</th>\n",
       "      <td>M</td>\n",
       "      <td>30.0</td>\n",
       "      <td>Casado</td>\n",
       "      <td>Servidor publico</td>\n",
       "      <td>Institucion publica</td>\n",
       "      <td>0</td>\n",
       "      <td>5.0</td>\n",
       "      <td>4.0</td>\n",
       "      <td>No</td>\n",
       "      <td>31.0</td>\n",
       "      <td>31.0</td>\n",
       "      <td>0.0</td>\n",
       "      <td>0.0</td>\n",
       "      <td>0.0</td>\n",
       "      <td>Perfil_3</td>\n",
       "    </tr>\n",
       "  </tbody>\n",
       "</table>\n",
       "</div>"
      ],
      "text/plain": [
       "      Genero  Años Estado_civil           Trabajo               Sector  \\\n",
       "23597      F  40.0      Soltero          Profesor       Sector privado   \n",
       "23598      F  24.0       Casado          Profesor  Institucion publica   \n",
       "23599      F  24.0       Casado          Profesor         Desempleados   \n",
       "23600      F  24.0      Soltero      Desempleados         Desempleados   \n",
       "23601      M  30.0       Casado  Servidor publico  Institucion publica   \n",
       "\n",
       "        Telefono  Anos_usando_internet_banking  Anos_usando_banca_movil  \\\n",
       "23597  Iphone 6+                          10.0                      3.0   \n",
       "23598        L G                          15.0                      6.0   \n",
       "23599     LG V10                           5.0                      3.0   \n",
       "23600    Android                           5.0                      6.0   \n",
       "23601          0                           5.0                      4.0   \n",
       "\n",
       "      Banca_movil_userfriendly  Frecuencia_internet_banking_mes  \\\n",
       "23597                       Si                             31.0   \n",
       "23598                       Si                             30.0   \n",
       "23599                       Si                              0.0   \n",
       "23600                       No                              7.0   \n",
       "23601                       No                             31.0   \n",
       "\n",
       "       Frecuencia_banca_movil_mes  Frecuencia_pagamentos_tarjeta_mes  \\\n",
       "23597                         0.0                                0.0   \n",
       "23598                        30.0                               31.0   \n",
       "23599                        30.0                                1.0   \n",
       "23600                         0.0                                1.0   \n",
       "23601                        31.0                                0.0   \n",
       "\n",
       "       Frecuencia_tarjeta_virtual_mes  Frecuencia_saldo_cuenta_mes    TARGET  \n",
       "23597                             0.0                         31.0  Perfil_3  \n",
       "23598                            30.0                          7.0  Perfil_0  \n",
       "23599                             0.0                          0.0  Perfil_4  \n",
       "23600                             1.0                          0.0  Perfil_4  \n",
       "23601                             0.0                          0.0  Perfil_3  "
      ]
     },
     "execution_count": 89,
     "metadata": {},
     "output_type": "execute_result"
    }
   ],
   "source": [
    "df_training.tail()"
   ]
  },
  {
   "cell_type": "code",
   "execution_count": 90,
   "metadata": {},
   "outputs": [
    {
     "name": "stdout",
     "output_type": "stream",
     "text": [
      "Cols:  15  Rows:  23602\n"
     ]
    }
   ],
   "source": [
    "print(\"Cols: \", len(df_training.columns), \" Rows: \", len(df_training))"
   ]
  },
  {
   "cell_type": "markdown",
   "metadata": {},
   "source": [
    "#### Label enconder"
   ]
  },
  {
   "cell_type": "code",
   "execution_count": 91,
   "metadata": {},
   "outputs": [],
   "source": [
    "le_bmuf = LabelEncoder()\n",
    "target_label_bmuf = pd.DataFrame(le_bmuf.fit_transform(df_training['Banca_movil_userfriendly']))\n",
    "df_training.drop(columns=['Banca_movil_userfriendly'], inplace=True)\n",
    "df_training['Banca_movil_userfriendly'] = target_label_bmuf"
   ]
  },
  {
   "cell_type": "code",
   "execution_count": 92,
   "metadata": {},
   "outputs": [],
   "source": [
    "le_sector = LabelEncoder()\n",
    "target_label_sector = pd.DataFrame(le_sector.fit_transform(df_training['Sector']))\n",
    "df_training.drop(columns=['Sector'], inplace=True)\n",
    "df_training['Sector'] = target_label_sector"
   ]
  },
  {
   "cell_type": "code",
   "execution_count": 93,
   "metadata": {},
   "outputs": [],
   "source": [
    "le_telefono = LabelEncoder()\n",
    "target_label_telefono = pd.DataFrame(le_telefono.fit_transform(df_training['Telefono']))\n",
    "df_training.drop(columns=['Telefono'], inplace=True)\n",
    "df_training['Telefono'] = target_label_telefono"
   ]
  },
  {
   "cell_type": "code",
   "execution_count": 94,
   "metadata": {},
   "outputs": [],
   "source": [
    "le_trabajo = LabelEncoder()\n",
    "target_label_trabajo = pd.DataFrame(le_trabajo.fit_transform(df_training['Trabajo']))\n",
    "df_training.drop(columns=['Trabajo'], inplace=True)\n",
    "df_training['Trabajo'] = target_label_trabajo"
   ]
  },
  {
   "cell_type": "code",
   "execution_count": 95,
   "metadata": {},
   "outputs": [],
   "source": [
    "le_gen = LabelEncoder()\n",
    "target_label_gen = pd.DataFrame(le_gen.fit_transform(df_training['Genero']))\n",
    "df_training.drop(columns=['Genero'], inplace=True)\n",
    "df_training['Genero'] = target_label_gen"
   ]
  },
  {
   "cell_type": "code",
   "execution_count": 96,
   "metadata": {},
   "outputs": [],
   "source": [
    "le_ecivil = LabelEncoder()\n",
    "target_label_ecivil = pd.DataFrame(le_ecivil.fit_transform(df_training['Estado_civil']))\n",
    "df_training.drop(columns=['Estado_civil'], inplace=True)\n",
    "df_training['Estado_civil'] = target_label_ecivil"
   ]
  },
  {
   "cell_type": "code",
   "execution_count": 97,
   "metadata": {},
   "outputs": [],
   "source": [
    "le_target = LabelEncoder()\n",
    "target_label_target = pd.DataFrame(le_target.fit_transform(df_training['TARGET']))\n",
    "df_training.drop(columns=['TARGET'], inplace=True)\n",
    "df_training['TARGET'] = target_label_target"
   ]
  },
  {
   "cell_type": "code",
   "execution_count": 98,
   "metadata": {},
   "outputs": [
    {
     "data": {
      "text/html": [
       "<div>\n",
       "<style scoped>\n",
       "    .dataframe tbody tr th:only-of-type {\n",
       "        vertical-align: middle;\n",
       "    }\n",
       "\n",
       "    .dataframe tbody tr th {\n",
       "        vertical-align: top;\n",
       "    }\n",
       "\n",
       "    .dataframe thead th {\n",
       "        text-align: right;\n",
       "    }\n",
       "</style>\n",
       "<table border=\"1\" class=\"dataframe\">\n",
       "  <thead>\n",
       "    <tr style=\"text-align: right;\">\n",
       "      <th></th>\n",
       "      <th>Años</th>\n",
       "      <th>Anos_usando_internet_banking</th>\n",
       "      <th>Anos_usando_banca_movil</th>\n",
       "      <th>Frecuencia_internet_banking_mes</th>\n",
       "      <th>Frecuencia_banca_movil_mes</th>\n",
       "      <th>Frecuencia_pagamentos_tarjeta_mes</th>\n",
       "      <th>Frecuencia_tarjeta_virtual_mes</th>\n",
       "      <th>Frecuencia_saldo_cuenta_mes</th>\n",
       "      <th>Banca_movil_userfriendly</th>\n",
       "      <th>Sector</th>\n",
       "      <th>Telefono</th>\n",
       "      <th>Trabajo</th>\n",
       "      <th>Genero</th>\n",
       "      <th>Estado_civil</th>\n",
       "      <th>TARGET</th>\n",
       "    </tr>\n",
       "  </thead>\n",
       "  <tbody>\n",
       "    <tr>\n",
       "      <th>23597</th>\n",
       "      <td>40.0</td>\n",
       "      <td>10.0</td>\n",
       "      <td>3.0</td>\n",
       "      <td>31.0</td>\n",
       "      <td>0.0</td>\n",
       "      <td>0.0</td>\n",
       "      <td>0.0</td>\n",
       "      <td>31.0</td>\n",
       "      <td>1</td>\n",
       "      <td>2</td>\n",
       "      <td>24</td>\n",
       "      <td>22</td>\n",
       "      <td>1</td>\n",
       "      <td>1</td>\n",
       "      <td>3</td>\n",
       "    </tr>\n",
       "    <tr>\n",
       "      <th>23598</th>\n",
       "      <td>24.0</td>\n",
       "      <td>15.0</td>\n",
       "      <td>6.0</td>\n",
       "      <td>30.0</td>\n",
       "      <td>30.0</td>\n",
       "      <td>31.0</td>\n",
       "      <td>30.0</td>\n",
       "      <td>7.0</td>\n",
       "      <td>1</td>\n",
       "      <td>1</td>\n",
       "      <td>31</td>\n",
       "      <td>22</td>\n",
       "      <td>1</td>\n",
       "      <td>0</td>\n",
       "      <td>0</td>\n",
       "    </tr>\n",
       "    <tr>\n",
       "      <th>23599</th>\n",
       "      <td>24.0</td>\n",
       "      <td>5.0</td>\n",
       "      <td>3.0</td>\n",
       "      <td>0.0</td>\n",
       "      <td>30.0</td>\n",
       "      <td>1.0</td>\n",
       "      <td>0.0</td>\n",
       "      <td>0.0</td>\n",
       "      <td>1</td>\n",
       "      <td>0</td>\n",
       "      <td>36</td>\n",
       "      <td>22</td>\n",
       "      <td>1</td>\n",
       "      <td>0</td>\n",
       "      <td>4</td>\n",
       "    </tr>\n",
       "    <tr>\n",
       "      <th>23600</th>\n",
       "      <td>24.0</td>\n",
       "      <td>5.0</td>\n",
       "      <td>6.0</td>\n",
       "      <td>7.0</td>\n",
       "      <td>0.0</td>\n",
       "      <td>1.0</td>\n",
       "      <td>1.0</td>\n",
       "      <td>0.0</td>\n",
       "      <td>0</td>\n",
       "      <td>0</td>\n",
       "      <td>2</td>\n",
       "      <td>5</td>\n",
       "      <td>1</td>\n",
       "      <td>1</td>\n",
       "      <td>4</td>\n",
       "    </tr>\n",
       "    <tr>\n",
       "      <th>23601</th>\n",
       "      <td>30.0</td>\n",
       "      <td>5.0</td>\n",
       "      <td>4.0</td>\n",
       "      <td>31.0</td>\n",
       "      <td>31.0</td>\n",
       "      <td>0.0</td>\n",
       "      <td>0.0</td>\n",
       "      <td>0.0</td>\n",
       "      <td>0</td>\n",
       "      <td>1</td>\n",
       "      <td>0</td>\n",
       "      <td>26</td>\n",
       "      <td>2</td>\n",
       "      <td>0</td>\n",
       "      <td>3</td>\n",
       "    </tr>\n",
       "  </tbody>\n",
       "</table>\n",
       "</div>"
      ],
      "text/plain": [
       "       Años  Anos_usando_internet_banking  Anos_usando_banca_movil  \\\n",
       "23597  40.0                          10.0                      3.0   \n",
       "23598  24.0                          15.0                      6.0   \n",
       "23599  24.0                           5.0                      3.0   \n",
       "23600  24.0                           5.0                      6.0   \n",
       "23601  30.0                           5.0                      4.0   \n",
       "\n",
       "       Frecuencia_internet_banking_mes  Frecuencia_banca_movil_mes  \\\n",
       "23597                             31.0                         0.0   \n",
       "23598                             30.0                        30.0   \n",
       "23599                              0.0                        30.0   \n",
       "23600                              7.0                         0.0   \n",
       "23601                             31.0                        31.0   \n",
       "\n",
       "       Frecuencia_pagamentos_tarjeta_mes  Frecuencia_tarjeta_virtual_mes  \\\n",
       "23597                                0.0                             0.0   \n",
       "23598                               31.0                            30.0   \n",
       "23599                                1.0                             0.0   \n",
       "23600                                1.0                             1.0   \n",
       "23601                                0.0                             0.0   \n",
       "\n",
       "       Frecuencia_saldo_cuenta_mes  Banca_movil_userfriendly  Sector  \\\n",
       "23597                         31.0                         1       2   \n",
       "23598                          7.0                         1       1   \n",
       "23599                          0.0                         1       0   \n",
       "23600                          0.0                         0       0   \n",
       "23601                          0.0                         0       1   \n",
       "\n",
       "       Telefono  Trabajo  Genero  Estado_civil  TARGET  \n",
       "23597        24       22       1             1       3  \n",
       "23598        31       22       1             0       0  \n",
       "23599        36       22       1             0       4  \n",
       "23600         2        5       1             1       4  \n",
       "23601         0       26       2             0       3  "
      ]
     },
     "execution_count": 98,
     "metadata": {},
     "output_type": "execute_result"
    }
   ],
   "source": [
    "df_training.tail()"
   ]
  },
  {
   "cell_type": "markdown",
   "metadata": {},
   "source": [
    "#### Correlaciones de features"
   ]
  },
  {
   "cell_type": "code",
   "execution_count": 99,
   "metadata": {},
   "outputs": [
    {
     "data": {
      "image/png": "[encoded data removed]",
      "text/plain": [
       "<Figure size 1224x1080 with 2 Axes>"
      ]
     },
     "metadata": {
      "needs_background": "light"
     },
     "output_type": "display_data"
    }
   ],
   "source": [
    "#Using Pearson Correlation\n",
    "plt.figure(figsize=(17,15))\n",
    "cor = df_training.corr()\n",
    "sns.heatmap(cor, annot=True, cmap=plt.cm.Oranges)\n",
    "plt.show()"
   ]
  },
  {
   "cell_type": "code",
   "execution_count": 100,
   "metadata": {},
   "outputs": [
    {
     "data": {
      "text/plain": [
       "Años                                 0.001367\n",
       "Anos_usando_internet_banking         0.046880\n",
       "Anos_usando_banca_movil              0.037713\n",
       "Frecuencia_internet_banking_mes      0.282197\n",
       "Frecuencia_banca_movil_mes           0.301318\n",
       "Frecuencia_pagamentos_tarjeta_mes    0.170373\n",
       "Frecuencia_tarjeta_virtual_mes       0.117304\n",
       "Frecuencia_saldo_cuenta_mes          0.196014\n",
       "Banca_movil_userfriendly             0.004646\n",
       "Sector                               0.001048\n",
       "Telefono                             0.011743\n",
       "Trabajo                              0.007661\n",
       "Genero                               0.006965\n",
       "Estado_civil                         0.003133\n",
       "TARGET                               1.000000\n",
       "Name: TARGET, dtype: float64"
      ]
     },
     "execution_count": 100,
     "metadata": {},
     "output_type": "execute_result"
    }
   ],
   "source": [
    "#Correlation with output variable\n",
    "cor_target = abs(cor[\"TARGET\"])#Selecting highly correlated features\n",
    "relevant_features = cor_target[cor_target>0.0]\n",
    "relevant_features"
   ]
  },
  {
   "cell_type": "code",
   "execution_count": 101,
   "metadata": {},
   "outputs": [],
   "source": [
    "df_training_dataset_2 = df_training.drop(columns=['Años', 'Banca_movil_userfriendly', 'Sector', 'Telefono', 'Genero', 'Estado_civil'], inplace=False)"
   ]
  },
  {
   "cell_type": "code",
   "execution_count": 102,
   "metadata": {},
   "outputs": [],
   "source": [
    "target_label = pd.DataFrame(le_target.inverse_transform(df_training_dataset_2['TARGET']))\n",
    "df_training_dataset_2.drop(columns=['TARGET'], inplace=True)\n",
    "df_training_dataset_2['TARGET'] = target_label"
   ]
  },
  {
   "cell_type": "code",
   "execution_count": 103,
   "metadata": {},
   "outputs": [
    {
     "data": {
      "text/html": [
       "<div>\n",
       "<style scoped>\n",
       "    .dataframe tbody tr th:only-of-type {\n",
       "        vertical-align: middle;\n",
       "    }\n",
       "\n",
       "    .dataframe tbody tr th {\n",
       "        vertical-align: top;\n",
       "    }\n",
       "\n",
       "    .dataframe thead th {\n",
       "        text-align: right;\n",
       "    }\n",
       "</style>\n",
       "<table border=\"1\" class=\"dataframe\">\n",
       "  <thead>\n",
       "    <tr style=\"text-align: right;\">\n",
       "      <th></th>\n",
       "      <th>Anos_usando_internet_banking</th>\n",
       "      <th>Anos_usando_banca_movil</th>\n",
       "      <th>Frecuencia_internet_banking_mes</th>\n",
       "      <th>Frecuencia_banca_movil_mes</th>\n",
       "      <th>Frecuencia_pagamentos_tarjeta_mes</th>\n",
       "      <th>Frecuencia_tarjeta_virtual_mes</th>\n",
       "      <th>Frecuencia_saldo_cuenta_mes</th>\n",
       "      <th>Trabajo</th>\n",
       "      <th>TARGET</th>\n",
       "    </tr>\n",
       "  </thead>\n",
       "  <tbody>\n",
       "    <tr>\n",
       "      <th>0</th>\n",
       "      <td>0.0</td>\n",
       "      <td>6.0</td>\n",
       "      <td>50.0</td>\n",
       "      <td>0.000000</td>\n",
       "      <td>1.0</td>\n",
       "      <td>0.0</td>\n",
       "      <td>30.0</td>\n",
       "      <td>22</td>\n",
       "      <td>Perfil_2</td>\n",
       "    </tr>\n",
       "    <tr>\n",
       "      <th>1</th>\n",
       "      <td>5.0</td>\n",
       "      <td>3.0</td>\n",
       "      <td>31.0</td>\n",
       "      <td>4.000000</td>\n",
       "      <td>31.0</td>\n",
       "      <td>0.0</td>\n",
       "      <td>30.0</td>\n",
       "      <td>22</td>\n",
       "      <td>Perfil_1</td>\n",
       "    </tr>\n",
       "    <tr>\n",
       "      <th>2</th>\n",
       "      <td>0.0</td>\n",
       "      <td>3.0</td>\n",
       "      <td>50.0</td>\n",
       "      <td>31.000000</td>\n",
       "      <td>15.0</td>\n",
       "      <td>1.0</td>\n",
       "      <td>15.0</td>\n",
       "      <td>26</td>\n",
       "      <td>Perfil_4</td>\n",
       "    </tr>\n",
       "    <tr>\n",
       "      <th>3</th>\n",
       "      <td>5.0</td>\n",
       "      <td>3.0</td>\n",
       "      <td>30.0</td>\n",
       "      <td>7.000000</td>\n",
       "      <td>30.0</td>\n",
       "      <td>0.0</td>\n",
       "      <td>31.0</td>\n",
       "      <td>13</td>\n",
       "      <td>Perfil_1</td>\n",
       "    </tr>\n",
       "    <tr>\n",
       "      <th>4</th>\n",
       "      <td>6.0</td>\n",
       "      <td>0.0</td>\n",
       "      <td>4.0</td>\n",
       "      <td>17.378119</td>\n",
       "      <td>1.0</td>\n",
       "      <td>15.0</td>\n",
       "      <td>1.0</td>\n",
       "      <td>11</td>\n",
       "      <td>Perfil_3</td>\n",
       "    </tr>\n",
       "  </tbody>\n",
       "</table>\n",
       "</div>"
      ],
      "text/plain": [
       "   Anos_usando_internet_banking  Anos_usando_banca_movil  \\\n",
       "0                           0.0                      6.0   \n",
       "1                           5.0                      3.0   \n",
       "2                           0.0                      3.0   \n",
       "3                           5.0                      3.0   \n",
       "4                           6.0                      0.0   \n",
       "\n",
       "   Frecuencia_internet_banking_mes  Frecuencia_banca_movil_mes  \\\n",
       "0                             50.0                    0.000000   \n",
       "1                             31.0                    4.000000   \n",
       "2                             50.0                   31.000000   \n",
       "3                             30.0                    7.000000   \n",
       "4                              4.0                   17.378119   \n",
       "\n",
       "   Frecuencia_pagamentos_tarjeta_mes  Frecuencia_tarjeta_virtual_mes  \\\n",
       "0                                1.0                             0.0   \n",
       "1                               31.0                             0.0   \n",
       "2                               15.0                             1.0   \n",
       "3                               30.0                             0.0   \n",
       "4                                1.0                            15.0   \n",
       "\n",
       "   Frecuencia_saldo_cuenta_mes  Trabajo    TARGET  \n",
       "0                         30.0       22  Perfil_2  \n",
       "1                         30.0       22  Perfil_1  \n",
       "2                         15.0       26  Perfil_4  \n",
       "3                         31.0       13  Perfil_1  \n",
       "4                          1.0       11  Perfil_3  "
      ]
     },
     "execution_count": 103,
     "metadata": {},
     "output_type": "execute_result"
    }
   ],
   "source": [
    "df_training_dataset_2.head()"
   ]
  },
  {
   "cell_type": "markdown",
   "metadata": {},
   "source": [
    "#### Tratamiento de variables categóricas"
   ]
  },
  {
   "cell_type": "code",
   "execution_count": null,
   "metadata": {},
   "outputs": [],
   "source": [
    "df_training_dataset_2 = pd.get_dummies(df_training_dataset_2, columns=['Genero'])\n",
    "df_training_dataset_2.tail()"
   ]
  },
  {
   "cell_type": "code",
   "execution_count": null,
   "metadata": {},
   "outputs": [],
   "source": [
    "enc = OneHotEncoder(handle_unknown='ignore')\n",
    "ohenc = pd.DataFrame(enc.fit_transform(df_training_dataset_rmcolumns[['Banca_movil_userfriendly']]).toarray()).add_prefix('bmuf_')\n",
    "df_training = df_training_dataset_rmcolumns.drop(columns=['Banca_movil_userfriendly'], inplace=False)\n",
    "df_training['Banca_movil_userfriendly'] = ohenc\n",
    "df_training.tail()"
   ]
  },
  {
   "cell_type": "markdown",
   "metadata": {},
   "source": [
    "<hr>"
   ]
  },
  {
   "cell_type": "markdown",
   "metadata": {},
   "source": [
    "## Entrenando un clasificador con base en un árbol de decisión"
   ]
  },
  {
   "cell_type": "markdown",
   "metadata": {},
   "source": [
    "### Selecionando FEATURES y definiendo la variable TARGET"
   ]
  },
  {
   "cell_type": "code",
   "execution_count": 104,
   "metadata": {},
   "outputs": [
    {
     "data": {
      "text/plain": [
       "9"
      ]
     },
     "execution_count": 104,
     "metadata": {},
     "output_type": "execute_result"
    }
   ],
   "source": [
    "len(df_training_dataset_2.columns)"
   ]
  },
  {
   "cell_type": "code",
   "execution_count": 105,
   "metadata": {},
   "outputs": [
    {
     "data": {
      "text/plain": [
       "8"
      ]
     },
     "execution_count": 105,
     "metadata": {},
     "output_type": "execute_result"
    }
   ],
   "source": [
    "features_columns = np.array(df_training_dataset_2.columns)\n",
    "features_columns = np.delete(features_columns, np.where(features_columns == 'TARGET'))\n",
    "len(features_columns)"
   ]
  },
  {
   "cell_type": "code",
   "execution_count": 106,
   "metadata": {},
   "outputs": [],
   "source": [
    "features = df_training_dataset_2[\n",
    "    features_columns\n",
    "]\n",
    "target = df_training_dataset_2['TARGET']  ## No cambie esta variable\n",
    "\n",
    "# Numero de variables independientes\n",
    "iv = 7"
   ]
  },
  {
   "cell_type": "markdown",
   "metadata": {},
   "source": [
    "### GridSearch and crossValidation"
   ]
  },
  {
   "cell_type": "code",
   "execution_count": 107,
   "metadata": {},
   "outputs": [],
   "source": [
    "X_train, X_test, y_train, y_test = train_test_split(features, target, train_size=0.99, random_state=0)"
   ]
  },
  {
   "cell_type": "code",
   "execution_count": 108,
   "metadata": {},
   "outputs": [
    {
     "data": {
      "text/html": [
       "<div>\n",
       "<style scoped>\n",
       "    .dataframe tbody tr th:only-of-type {\n",
       "        vertical-align: middle;\n",
       "    }\n",
       "\n",
       "    .dataframe tbody tr th {\n",
       "        vertical-align: top;\n",
       "    }\n",
       "\n",
       "    .dataframe thead th {\n",
       "        text-align: right;\n",
       "    }\n",
       "</style>\n",
       "<table border=\"1\" class=\"dataframe\">\n",
       "  <thead>\n",
       "    <tr style=\"text-align: right;\">\n",
       "      <th></th>\n",
       "      <th>Anos_usando_internet_banking</th>\n",
       "      <th>Anos_usando_banca_movil</th>\n",
       "      <th>Frecuencia_internet_banking_mes</th>\n",
       "      <th>Frecuencia_banca_movil_mes</th>\n",
       "      <th>Frecuencia_pagamentos_tarjeta_mes</th>\n",
       "      <th>Frecuencia_tarjeta_virtual_mes</th>\n",
       "      <th>Frecuencia_saldo_cuenta_mes</th>\n",
       "      <th>Trabajo</th>\n",
       "    </tr>\n",
       "  </thead>\n",
       "  <tbody>\n",
       "    <tr>\n",
       "      <th>16905</th>\n",
       "      <td>10.0</td>\n",
       "      <td>3.0</td>\n",
       "      <td>31.0</td>\n",
       "      <td>50.0</td>\n",
       "      <td>1.0</td>\n",
       "      <td>0.0</td>\n",
       "      <td>4.000000</td>\n",
       "      <td>15</td>\n",
       "    </tr>\n",
       "    <tr>\n",
       "      <th>3502</th>\n",
       "      <td>10.0</td>\n",
       "      <td>3.0</td>\n",
       "      <td>31.0</td>\n",
       "      <td>31.0</td>\n",
       "      <td>1.0</td>\n",
       "      <td>0.0</td>\n",
       "      <td>31.000000</td>\n",
       "      <td>11</td>\n",
       "    </tr>\n",
       "    <tr>\n",
       "      <th>7411</th>\n",
       "      <td>0.0</td>\n",
       "      <td>3.0</td>\n",
       "      <td>4.0</td>\n",
       "      <td>1.0</td>\n",
       "      <td>15.0</td>\n",
       "      <td>0.0</td>\n",
       "      <td>0.000000</td>\n",
       "      <td>11</td>\n",
       "    </tr>\n",
       "    <tr>\n",
       "      <th>14969</th>\n",
       "      <td>5.0</td>\n",
       "      <td>3.0</td>\n",
       "      <td>31.0</td>\n",
       "      <td>7.0</td>\n",
       "      <td>1.0</td>\n",
       "      <td>15.0</td>\n",
       "      <td>0.000000</td>\n",
       "      <td>22</td>\n",
       "    </tr>\n",
       "    <tr>\n",
       "      <th>10349</th>\n",
       "      <td>10.0</td>\n",
       "      <td>3.0</td>\n",
       "      <td>4.0</td>\n",
       "      <td>0.0</td>\n",
       "      <td>1.0</td>\n",
       "      <td>1.0</td>\n",
       "      <td>10.510941</td>\n",
       "      <td>22</td>\n",
       "    </tr>\n",
       "  </tbody>\n",
       "</table>\n",
       "</div>"
      ],
      "text/plain": [
       "       Anos_usando_internet_banking  Anos_usando_banca_movil  \\\n",
       "16905                          10.0                      3.0   \n",
       "3502                           10.0                      3.0   \n",
       "7411                            0.0                      3.0   \n",
       "14969                           5.0                      3.0   \n",
       "10349                          10.0                      3.0   \n",
       "\n",
       "       Frecuencia_internet_banking_mes  Frecuencia_banca_movil_mes  \\\n",
       "16905                             31.0                        50.0   \n",
       "3502                              31.0                        31.0   \n",
       "7411                               4.0                         1.0   \n",
       "14969                             31.0                         7.0   \n",
       "10349                              4.0                         0.0   \n",
       "\n",
       "       Frecuencia_pagamentos_tarjeta_mes  Frecuencia_tarjeta_virtual_mes  \\\n",
       "16905                                1.0                             0.0   \n",
       "3502                                 1.0                             0.0   \n",
       "7411                                15.0                             0.0   \n",
       "14969                                1.0                            15.0   \n",
       "10349                                1.0                             1.0   \n",
       "\n",
       "       Frecuencia_saldo_cuenta_mes  Trabajo  \n",
       "16905                     4.000000       15  \n",
       "3502                     31.000000       11  \n",
       "7411                      0.000000       11  \n",
       "14969                     0.000000       22  \n",
       "10349                    10.510941       22  "
      ]
     },
     "execution_count": 108,
     "metadata": {},
     "output_type": "execute_result"
    }
   ],
   "source": [
    "X_train.head()"
   ]
  },
  {
   "cell_type": "code",
   "execution_count": 109,
   "metadata": {},
   "outputs": [
    {
     "name": "stdout",
     "output_type": "stream",
     "text": [
      "Distribucion: Counter({'Perfil_4': 6042, 'Perfil_5': 5820, 'Perfil_3': 4918, 'Perfil_2': 3709, 'Perfil_1': 2112, 'Perfil_0': 764})\n"
     ]
    }
   ],
   "source": [
    "print('Distribucion: %s' % Counter(y_train))"
   ]
  },
  {
   "cell_type": "code",
   "execution_count": 110,
   "metadata": {},
   "outputs": [
    {
     "name": "stderr",
     "output_type": "stream",
     "text": [
      "/opt/conda/envs/Python36/lib/python3.6/site-packages/pandas/core/indexing.py:1736: SettingWithCopyWarning: \n",
      "A value is trying to be set on a copy of a slice from a DataFrame.\n",
      "Try using .loc[row_indexer,col_indexer] = value instead\n",
      "\n",
      "See the caveats in the documentation: https://pandas.pydata.org/pandas-docs/stable/user_guide/indexing.html#returning-a-view-versus-a-copy\n",
      "  isetter(loc, value[:, i].tolist())\n",
      "/opt/conda/envs/Python36/lib/python3.6/site-packages/pandas/core/indexing.py:1736: SettingWithCopyWarning: \n",
      "A value is trying to be set on a copy of a slice from a DataFrame.\n",
      "Try using .loc[row_indexer,col_indexer] = value instead\n",
      "\n",
      "See the caveats in the documentation: https://pandas.pydata.org/pandas-docs/stable/user_guide/indexing.html#returning-a-view-versus-a-copy\n",
      "  isetter(loc, value[:, i].tolist())\n"
     ]
    }
   ],
   "source": [
    "sc = StandardScaler()\n",
    "X_train.iloc[:, :iv] = sc.fit_transform(X_train.iloc[:, :iv])\n",
    "X_test.iloc[:, :iv] = sc.transform(X_test.iloc[:, :iv])"
   ]
  },
  {
   "cell_type": "markdown",
   "metadata": {},
   "source": [
    "#### RFC"
   ]
  },
  {
   "cell_type": "code",
   "execution_count": null,
   "metadata": {},
   "outputs": [],
   "source": [
    "clf = RandomForestClassifier()\n",
    "\n",
    "parameters = {'n_estimators': [30, 60, 90],\n",
    "              'max_features': ['log2', 'sqrt','auto'],\n",
    "              'criterion': ['entropy', 'gini'],\n",
    "              'max_depth': [15, 50, 75],\n",
    "              'min_samples_split': [2, 3, 5],\n",
    "              'min_samples_leaf': [1, 5, 8]\n",
    "             }"
   ]
  },
  {
   "cell_type": "markdown",
   "metadata": {},
   "source": [
    "#### ETC"
   ]
  },
  {
   "cell_type": "code",
   "execution_count": null,
   "metadata": {},
   "outputs": [],
   "source": [
    "clf = ExtraTreesClassifier()\n",
    "\n",
    "parameters = {'n_estimators': [30, 60, 90],\n",
    "              'max_features': ['log2', 'sqrt','auto'],\n",
    "              'criterion': ['entropy', 'gini'],\n",
    "              'max_depth': [15, 50, 75],\n",
    "              'min_samples_split': [2, 3, 5],\n",
    "              'min_samples_leaf': [1, 5, 8]\n",
    "             }"
   ]
  },
  {
   "cell_type": "markdown",
   "metadata": {},
   "source": [
    "#### DTC"
   ]
  },
  {
   "cell_type": "code",
   "execution_count": null,
   "metadata": {},
   "outputs": [],
   "source": [
    "clf = DecisionTreeClassifier()\n",
    "\n",
    "parameters = {'max_features': ['log2', 'sqrt','auto'],\n",
    "              'criterion': ['entropy', 'gini'],\n",
    "              'max_depth': [5, 15, 20, 50],\n",
    "              'min_samples_split': [2, 3, 5],\n",
    "              'min_samples_leaf': [1, 5, 8],\n",
    "              'splitter': ['best', 'random']\n",
    "             }"
   ]
  },
  {
   "cell_type": "markdown",
   "metadata": {},
   "source": [
    "#### SVC"
   ]
  },
  {
   "cell_type": "code",
   "execution_count": null,
   "metadata": {},
   "outputs": [],
   "source": [
    "clf = SVC()\n",
    "\n",
    "parameters = {'C': [0.1, 1, 10, 100, 1000],\n",
    "              'gamma': [1, 0.1, 0.01, 0.001, 0.0001]\n",
    "             }"
   ]
  },
  {
   "cell_type": "code",
   "execution_count": null,
   "metadata": {},
   "outputs": [],
   "source": [
    "clf = XGBClassifier()\n",
    "\n",
    "parameters = {'booster': ['gbtree', 'dart']\n",
    "             }"
   ]
  },
  {
   "cell_type": "code",
   "execution_count": null,
   "metadata": {},
   "outputs": [],
   "source": [
    "def baseline_model():\n",
    "    model = Sequential()\n",
    "    model.add(Dense(20, input_dim=4, activation='relu'))\n",
    "    model.add(Dense(6, activation='softmax'))\n",
    "    model.compile(loss='categorical_crossentropy', optimizer='adam', metrics=['accuracy'])\n",
    "    return model"
   ]
  },
  {
   "cell_type": "code",
   "execution_count": null,
   "metadata": {},
   "outputs": [],
   "source": [
    "estimator = KerasClassifier(build_fn=create_baseline, epochs=200, batch_size=5, verbose=0)\n",
    "kfold = StratifiedKFold(n_splits=10, shuffle=True)\n",
    "results = cross_val_score(estimator, X=X_train, y=y_train, cv=kfold)\n",
    "print(\"Baseline: %.2f%% (%.2f%%)\" % (results.mean()*100, results.std()*100))"
   ]
  },
  {
   "cell_type": "markdown",
   "metadata": {},
   "source": [
    "#### GridSearch"
   ]
  },
  {
   "cell_type": "code",
   "execution_count": null,
   "metadata": {},
   "outputs": [],
   "source": [
    "acc_scorer = make_scorer(accuracy_score)\n",
    "\n",
    "grid_obj = GridSearchCV(clf, parameters, scoring=acc_scorer)\n",
    "grid_obj = grid_obj.fit(X_train, y_train)\n",
    "\n",
    "clf = grid_obj.best_estimator_\n",
    "\n",
    "clf.fit(X_train, y_train)"
   ]
  },
  {
   "cell_type": "code",
   "execution_count": null,
   "metadata": {},
   "outputs": [],
   "source": [
    "predictions = clf.predict(X_test)\n",
    "print(accuracy_score(y_test, predictions))"
   ]
  },
  {
   "cell_type": "markdown",
   "metadata": {},
   "source": [
    "#### Cross Validation"
   ]
  },
  {
   "cell_type": "code",
   "execution_count": null,
   "metadata": {},
   "outputs": [],
   "source": [
    "classifier = SVC(C=1000, gamma=0.01)\n",
    "all_accuracies = cross_val_score(estimator=classifier, X=X_train, y=y_train, cv=5)"
   ]
  },
  {
   "cell_type": "code",
   "execution_count": 111,
   "metadata": {},
   "outputs": [],
   "source": [
    "#classifier = RandomForestClassifier(max_depth=50, min_samples_split=5, n_estimators=90)\n",
    "classifier = RandomForestClassifier(max_depth=50, max_features='sqrt', min_samples_split=5, n_estimators=100)\n",
    "all_accuracies = cross_val_score(estimator=classifier, X=X_train, y=y_train, cv=10)"
   ]
  },
  {
   "cell_type": "code",
   "execution_count": 112,
   "metadata": {},
   "outputs": [
    {
     "name": "stdout",
     "output_type": "stream",
     "text": [
      "[0.86692341 0.8703466  0.86649551 0.85836543 0.86435601 0.87585616\n",
      " 0.86943493 0.86258562 0.86044521 0.8510274 ]\n"
     ]
    }
   ],
   "source": [
    "print(all_accuracies)"
   ]
  },
  {
   "cell_type": "code",
   "execution_count": 113,
   "metadata": {},
   "outputs": [
    {
     "name": "stdout",
     "output_type": "stream",
     "text": [
      "0.8645836264148512\n"
     ]
    }
   ],
   "source": [
    "print(all_accuracies.mean())"
   ]
  },
  {
   "cell_type": "markdown",
   "metadata": {},
   "source": [
    "#### Cross Validation KFold"
   ]
  },
  {
   "cell_type": "code",
   "execution_count": 114,
   "metadata": {},
   "outputs": [],
   "source": [
    "skf = StratifiedKFold(n_splits=10, shuffle=True, random_state=1)  \n",
    "\n",
    "classifier = RandomForestClassifier(max_depth=50, max_features='sqrt', min_samples_split=5, n_estimators=100)\n",
    "all_accuracies = cross_val_score(estimator=classifier, X=X_train, y=y_train, cv=skf)"
   ]
  },
  {
   "cell_type": "code",
   "execution_count": 115,
   "metadata": {},
   "outputs": [
    {
     "name": "stdout",
     "output_type": "stream",
     "text": [
      "[0.85579803 0.86521181 0.86221652 0.8677792  0.86178862 0.87628425\n",
      " 0.85958904 0.86857877 0.86643836 0.85873288]\n"
     ]
    }
   ],
   "source": [
    "print(all_accuracies)"
   ]
  },
  {
   "cell_type": "code",
   "execution_count": 116,
   "metadata": {},
   "outputs": [
    {
     "name": "stdout",
     "output_type": "stream",
     "text": [
      "0.8642417468244619\n"
     ]
    }
   ],
   "source": [
    "print(all_accuracies.mean())"
   ]
  },
  {
   "cell_type": "markdown",
   "metadata": {},
   "source": [
    "<hr>\n",
    "\n",
    "####  Entrenar el modelo"
   ]
  },
  {
   "cell_type": "code",
   "execution_count": 117,
   "metadata": {},
   "outputs": [],
   "source": [
    "X_train, X_test, y_train, y_test = train_test_split(features, target, train_size=0.85, random_state=33, stratify=target, shuffle=True)"
   ]
  },
  {
   "cell_type": "code",
   "execution_count": 118,
   "metadata": {},
   "outputs": [
    {
     "name": "stdout",
     "output_type": "stream",
     "text": [
      "Distribucion de clases: Counter({'Perfil_4': 5193, 'Perfil_5': 4990, 'Perfil_3': 4220, 'Perfil_2': 3191, 'Perfil_1': 1812, 'Perfil_0': 655})\n"
     ]
    }
   ],
   "source": [
    "print('Distribucion de clases:', Counter(y_train))"
   ]
  },
  {
   "cell_type": "code",
   "execution_count": 119,
   "metadata": {},
   "outputs": [
    {
     "name": "stderr",
     "output_type": "stream",
     "text": [
      "/opt/conda/envs/Python36/lib/python3.6/site-packages/pandas/core/indexing.py:1736: SettingWithCopyWarning: \n",
      "A value is trying to be set on a copy of a slice from a DataFrame.\n",
      "Try using .loc[row_indexer,col_indexer] = value instead\n",
      "\n",
      "See the caveats in the documentation: https://pandas.pydata.org/pandas-docs/stable/user_guide/indexing.html#returning-a-view-versus-a-copy\n",
      "  isetter(loc, value[:, i].tolist())\n",
      "/opt/conda/envs/Python36/lib/python3.6/site-packages/pandas/core/indexing.py:1736: SettingWithCopyWarning: \n",
      "A value is trying to be set on a copy of a slice from a DataFrame.\n",
      "Try using .loc[row_indexer,col_indexer] = value instead\n",
      "\n",
      "See the caveats in the documentation: https://pandas.pydata.org/pandas-docs/stable/user_guide/indexing.html#returning-a-view-versus-a-copy\n",
      "  isetter(loc, value[:, i].tolist())\n"
     ]
    }
   ],
   "source": [
    "sc = StandardScaler()\n",
    "X_train.iloc[:, :iv] = sc.fit_transform(X_train.iloc[:, :iv])\n",
    "X_test.iloc[:, :iv] = sc.transform(X_test.iloc[:, :iv])"
   ]
  },
  {
   "cell_type": "markdown",
   "metadata": {},
   "source": [
    "1. ExtraTreesClassifier(max_depth=15, min_samples_split=3, n_estimators=90)\n",
    "0.8496897071753396\n",
    "0.8496897071753396\n",
    "\n",
    "2. RandomForestClassifier(max_depth=15, max_features='sqrt', min_samples_split=5)\n",
    "0.8502237089570924\n",
    "0.8509845057382919\n",
    "\n",
    "3. ExtraTreesClassifier(max_depth=15, max_features='log2', min_samples_split=5, n_estimators=90)"
   ]
  },
  {
   "cell_type": "code",
   "execution_count": 120,
   "metadata": {},
   "outputs": [
    {
     "data": {
      "text/plain": [
       "RandomForestClassifier(max_depth=50, max_features='sqrt', min_samples_split=5)"
      ]
     },
     "execution_count": 120,
     "metadata": {},
     "output_type": "execute_result"
    }
   ],
   "source": [
    "dtc = RandomForestClassifier(max_depth=50, max_features='sqrt', min_samples_split=5, n_estimators=100)\n",
    "dtc.fit(X_train, y_train)"
   ]
  },
  {
   "cell_type": "markdown",
   "metadata": {},
   "source": [
    "#### Feature importance"
   ]
  },
  {
   "cell_type": "code",
   "execution_count": 121,
   "metadata": {},
   "outputs": [
    {
     "data": {
      "text/plain": [
       "<BarContainer object of 8 artists>"
      ]
     },
     "execution_count": 121,
     "metadata": {},
     "output_type": "execute_result"
    },
    {
     "data": {
      "image/png": "[encoded data removed]",
      "text/plain": [
       "<Figure size 576x360 with 1 Axes>"
      ]
     },
     "metadata": {
      "needs_background": "light"
     },
     "output_type": "display_data"
    }
   ],
   "source": [
    "plt.rcParams.update({'figure.figsize': (8.0, 5.0)})\n",
    "plt.rcParams.update({'font.size': 10})\n",
    "\n",
    "plt.barh(features_columns, dtc.feature_importances_, color='navajowhite')"
   ]
  },
  {
   "cell_type": "markdown",
   "metadata": {},
   "source": [
    "#### Haciendo predicciones en la muestra de prueba"
   ]
  },
  {
   "cell_type": "code",
   "execution_count": 122,
   "metadata": {},
   "outputs": [
    {
     "name": "stdout",
     "output_type": "stream",
     "text": [
      "['Perfil_5' 'Perfil_1' 'Perfil_5' ... 'Perfil_5' 'Perfil_3' 'Perfil_3']\n"
     ]
    }
   ],
   "source": [
    "y_pred = dtc.predict(X_test)\n",
    "print(y_pred)"
   ]
  },
  {
   "cell_type": "markdown",
   "metadata": {},
   "source": [
    "#### Analizando la calidad del modelo a través de la matriz de confusión"
   ]
  },
  {
   "cell_type": "code",
   "execution_count": 123,
   "metadata": {},
   "outputs": [],
   "source": [
    "def plot_confusion_matrix(cm, target_names, title='Confusion matrix', cmap=None, normalize=True):\n",
    "    accuracy = np.trace(cm) / float(np.sum(cm))\n",
    "    misclass = 1 - accuracy\n",
    "    \n",
    "    if cmap is None:\n",
    "        cmap = plt.get_cmap('Oranges')\n",
    "    plt.figure(figsize=(8, 6))\n",
    "    plt.imshow(cm, interpolation='nearest', cmap=cmap)\n",
    "    plt.title(title)\n",
    "    plt.colorbar()\n",
    "    \n",
    "    if target_names is not None:\n",
    "        tick_marks = np.arange(len(target_names))\n",
    "        plt.xticks(tick_marks, target_names, rotation=45)\n",
    "        plt.yticks(tick_marks, target_names)\n",
    "    if normalize:\n",
    "        cm = cm.astype('float') / cm.sum(axis=1)[:, np.newaxis]\n",
    "    thresh = cm.max() / 1.5 if normalize else cm.max() / 2\n",
    "    \n",
    "    for i, j in itertools.product(range(cm.shape[0]), range(cm.shape[1])):\n",
    "        if normalize:\n",
    "            plt.text(j, i, \"{:0.2f}\".format(cm[i, j]),\n",
    "                     horizontalalignment=\"center\",\n",
    "                     color=\"white\" if cm[i, j] > thresh else \"black\")\n",
    "        else:\n",
    "            plt.text(j, i, \"{:,}\".format(cm[i, j]),\n",
    "                     horizontalalignment=\"center\",\n",
    "                     color=\"white\" if cm[i, j] > thresh else \"black\")\n",
    "    plt.tight_layout()\n",
    "    plt.ylabel('True label')\n",
    "    plt.xlabel('Predicted label\\naccuracy={:0.4f}; misclass={:0.4f}'.format(accuracy, misclass))\n",
    "    plt.show()"
   ]
  },
  {
   "cell_type": "code",
   "execution_count": 124,
   "metadata": {},
   "outputs": [
    {
     "data": {
      "image/png": "[encoded data removed]",
      "text/plain": [
       "<Figure size 576x432 with 2 Axes>"
      ]
     },
     "metadata": {
      "needs_background": "light"
     },
     "output_type": "display_data"
    }
   ],
   "source": [
    "plot_confusion_matrix(confusion_matrix(y_test, y_pred), ['perfil0', 'perfil1', 'perfil2', 'perfil3', 'perfil4', 'perfil5'])"
   ]
  },
  {
   "cell_type": "code",
   "execution_count": 125,
   "metadata": {},
   "outputs": [
    {
     "name": "stdout",
     "output_type": "stream",
     "text": [
      "[[ 38  21  13  11  17  16]\n",
      " [  1 229  38  15  23  14]\n",
      " [  1  23 466  44  17  12]\n",
      " [  0  10  22 676  24  13]\n",
      " [  0   9  10  35 854   8]\n",
      " [  0  11  17  14  14 825]]\n",
      "              precision    recall  f1-score   support\n",
      "\n",
      "    Perfil_0       0.95      0.33      0.49       116\n",
      "    Perfil_1       0.76      0.72      0.74       320\n",
      "    Perfil_2       0.82      0.83      0.83       563\n",
      "    Perfil_3       0.85      0.91      0.88       745\n",
      "    Perfil_4       0.90      0.93      0.92       916\n",
      "    Perfil_5       0.93      0.94      0.93       881\n",
      "\n",
      "    accuracy                           0.87      3541\n",
      "   macro avg       0.87      0.77      0.80      3541\n",
      "weighted avg       0.87      0.87      0.87      3541\n",
      "\n",
      "0.872070036712793\n"
     ]
    }
   ],
   "source": [
    "print(confusion_matrix(y_test,y_pred))\n",
    "print(classification_report(y_test,y_pred))\n",
    "print(accuracy_score(y_test, y_pred))"
   ]
  },
  {
   "cell_type": "markdown",
   "metadata": {},
   "source": [
    "<hr>"
   ]
  },
  {
   "cell_type": "markdown",
   "metadata": {},
   "source": [
    "## Scoring de los datos necesarios para entregar la solución"
   ]
  },
  {
   "cell_type": "markdown",
   "metadata": {},
   "source": [
    "Como entrega de su solución, esperamos los resultados clasificados del seguiente dataset llamado \"to_be_scored.csv\":"
   ]
  },
  {
   "cell_type": "markdown",
   "metadata": {},
   "source": [
    "### Download la \"Hoja de evaluación\""
   ]
  },
  {
   "cell_type": "code",
   "execution_count": 126,
   "metadata": {
    "scrolled": false
   },
   "outputs": [
    {
     "name": "stdout",
     "output_type": "stream",
     "text": [
      "--2020-09-17 14:40:30--  https://gitlab.com/JoaoPedroPP/datasets/-/raw/master/to_be_scored.csv\n",
      "Resolving gitlab.com (gitlab.com)... 172.65.251.78, 2606:4700:90:0:f22e:fbec:5bed:a9b9\n",
      "Connecting to gitlab.com (gitlab.com)|172.65.251.78|:443... connected.\n",
      "HTTP request sent, awaiting response... 200 OK\n",
      "Length: unspecified [text/plain]\n",
      "Saving to: ‘to_be_scored.csv.1’\n",
      "\n",
      "    [ <=>                                   ] 87,631      --.-K/s   in 0.002s  \n",
      "\n",
      "2020-09-17 14:40:30 (41.7 MB/s) - ‘to_be_scored.csv.1’ saved [87631]\n",
      "\n"
     ]
    },
    {
     "data": {
      "text/html": [
       "<div>\n",
       "<style scoped>\n",
       "    .dataframe tbody tr th:only-of-type {\n",
       "        vertical-align: middle;\n",
       "    }\n",
       "\n",
       "    .dataframe tbody tr th {\n",
       "        vertical-align: top;\n",
       "    }\n",
       "\n",
       "    .dataframe thead th {\n",
       "        text-align: right;\n",
       "    }\n",
       "</style>\n",
       "<table border=\"1\" class=\"dataframe\">\n",
       "  <thead>\n",
       "    <tr style=\"text-align: right;\">\n",
       "      <th></th>\n",
       "      <th>ID</th>\n",
       "      <th>Genero</th>\n",
       "      <th>Años</th>\n",
       "      <th>Estado_civil</th>\n",
       "      <th>Trabajo</th>\n",
       "      <th>Sector</th>\n",
       "      <th>Telefono</th>\n",
       "      <th>Anos_usando_internet_banking</th>\n",
       "      <th>Anos_usando_banca_movil</th>\n",
       "      <th>Banca_movil_userfriendly</th>\n",
       "      <th>Frecuencia_internet_banking_mes</th>\n",
       "      <th>Frecuencia_banca_movil_mes</th>\n",
       "      <th>Frecuencia_pagamentos_tarjeta_mes</th>\n",
       "      <th>Frecuencia_tarjeta_virtual_mes</th>\n",
       "      <th>Frecuencia_saldo_cuenta_mes</th>\n",
       "    </tr>\n",
       "  </thead>\n",
       "  <tbody>\n",
       "    <tr>\n",
       "      <th>995</th>\n",
       "      <td>25</td>\n",
       "      <td>M</td>\n",
       "      <td>35.0</td>\n",
       "      <td>Casado</td>\n",
       "      <td>Desempleados</td>\n",
       "      <td>Sector privado</td>\n",
       "      <td>ASUS</td>\n",
       "      <td>5.0</td>\n",
       "      <td>3.0</td>\n",
       "      <td>No</td>\n",
       "      <td>7.0</td>\n",
       "      <td>50.0</td>\n",
       "      <td>1.0</td>\n",
       "      <td>0.0</td>\n",
       "      <td>31.0</td>\n",
       "    </tr>\n",
       "    <tr>\n",
       "      <th>996</th>\n",
       "      <td>179</td>\n",
       "      <td>M</td>\n",
       "      <td>40.0</td>\n",
       "      <td>Soltero</td>\n",
       "      <td>Profesor</td>\n",
       "      <td>Sector privado</td>\n",
       "      <td>Iphone</td>\n",
       "      <td>10.0</td>\n",
       "      <td>NaN</td>\n",
       "      <td>Si</td>\n",
       "      <td>0.0</td>\n",
       "      <td>1.0</td>\n",
       "      <td>0.0</td>\n",
       "      <td>15.0</td>\n",
       "      <td>1.0</td>\n",
       "    </tr>\n",
       "    <tr>\n",
       "      <th>997</th>\n",
       "      <td>222</td>\n",
       "      <td>M</td>\n",
       "      <td>30.0</td>\n",
       "      <td>Casado</td>\n",
       "      <td>Profesor</td>\n",
       "      <td>Institucion publica</td>\n",
       "      <td>LG G2</td>\n",
       "      <td>5.0</td>\n",
       "      <td>3.0</td>\n",
       "      <td>Si</td>\n",
       "      <td>31.0</td>\n",
       "      <td>31.0</td>\n",
       "      <td>0.0</td>\n",
       "      <td>0.0</td>\n",
       "      <td>NaN</td>\n",
       "    </tr>\n",
       "    <tr>\n",
       "      <th>998</th>\n",
       "      <td>238</td>\n",
       "      <td>F</td>\n",
       "      <td>35.0</td>\n",
       "      <td>Casado</td>\n",
       "      <td>Servidor publico</td>\n",
       "      <td>Desempleados</td>\n",
       "      <td>Iphone 5</td>\n",
       "      <td>15.0</td>\n",
       "      <td>4.0</td>\n",
       "      <td>No</td>\n",
       "      <td>0.0</td>\n",
       "      <td>4.0</td>\n",
       "      <td>1.0</td>\n",
       "      <td>0.0</td>\n",
       "      <td>31.0</td>\n",
       "    </tr>\n",
       "    <tr>\n",
       "      <th>999</th>\n",
       "      <td>152</td>\n",
       "      <td>M</td>\n",
       "      <td>35.0</td>\n",
       "      <td>Soltero</td>\n",
       "      <td>Profesor</td>\n",
       "      <td>Institucion publica</td>\n",
       "      <td>Iphone</td>\n",
       "      <td>0.0</td>\n",
       "      <td>NaN</td>\n",
       "      <td>Si</td>\n",
       "      <td>30.0</td>\n",
       "      <td>7.0</td>\n",
       "      <td>15.0</td>\n",
       "      <td>15.0</td>\n",
       "      <td>15.0</td>\n",
       "    </tr>\n",
       "  </tbody>\n",
       "</table>\n",
       "</div>"
      ],
      "text/plain": [
       "      ID Genero  Años Estado_civil           Trabajo               Sector  \\\n",
       "995   25      M  35.0       Casado      Desempleados       Sector privado   \n",
       "996  179      M  40.0      Soltero          Profesor       Sector privado   \n",
       "997  222      M  30.0       Casado          Profesor  Institucion publica   \n",
       "998  238      F  35.0       Casado  Servidor publico         Desempleados   \n",
       "999  152      M  35.0      Soltero          Profesor  Institucion publica   \n",
       "\n",
       "     Telefono  Anos_usando_internet_banking  Anos_usando_banca_movil  \\\n",
       "995      ASUS                           5.0                      3.0   \n",
       "996   Iphone                           10.0                      NaN   \n",
       "997     LG G2                           5.0                      3.0   \n",
       "998  Iphone 5                          15.0                      4.0   \n",
       "999    Iphone                           0.0                      NaN   \n",
       "\n",
       "    Banca_movil_userfriendly  Frecuencia_internet_banking_mes  \\\n",
       "995                       No                              7.0   \n",
       "996                       Si                              0.0   \n",
       "997                       Si                             31.0   \n",
       "998                       No                              0.0   \n",
       "999                       Si                             30.0   \n",
       "\n",
       "     Frecuencia_banca_movil_mes  Frecuencia_pagamentos_tarjeta_mes  \\\n",
       "995                        50.0                                1.0   \n",
       "996                         1.0                                0.0   \n",
       "997                        31.0                                0.0   \n",
       "998                         4.0                                1.0   \n",
       "999                         7.0                               15.0   \n",
       "\n",
       "     Frecuencia_tarjeta_virtual_mes  Frecuencia_saldo_cuenta_mes  \n",
       "995                             0.0                         31.0  \n",
       "996                            15.0                          1.0  \n",
       "997                             0.0                          NaN  \n",
       "998                             0.0                         31.0  \n",
       "999                            15.0                         15.0  "
      ]
     },
     "execution_count": 126,
     "metadata": {},
     "output_type": "execute_result"
    }
   ],
   "source": [
    "!wget --no-check-certificate --content-disposition https://gitlab.com/JoaoPedroPP/datasets/-/raw/master/to_be_scored.csv\n",
    "df_to_be_scored = pd.read_csv(r'to_be_scored.csv')\n",
    "df_to_be_scored.tail()"
   ]
  },
  {
   "cell_type": "markdown",
   "metadata": {},
   "source": [
    "#### Preprocesamiento"
   ]
  },
  {
   "cell_type": "code",
   "execution_count": 127,
   "metadata": {
    "scrolled": true
   },
   "outputs": [
    {
     "name": "stdout",
     "output_type": "stream",
     "text": [
      "Cols:  15  Rows:  1000\n"
     ]
    }
   ],
   "source": [
    "print(\"Cols: \", len(df_to_be_scored.columns), \" Rows: \", len(df_to_be_scored))"
   ]
  },
  {
   "cell_type": "code",
   "execution_count": 128,
   "metadata": {},
   "outputs": [
    {
     "name": "stdout",
     "output_type": "stream",
     "text": [
      "Valores nulos del df_training_dataset despues de la transformación DropNA: \n",
      "\n",
      "ID                                     0\n",
      "Genero                                37\n",
      "Años                                  20\n",
      "Estado_civil                          24\n",
      "Trabajo                              136\n",
      "Sector                                17\n",
      "Telefono                              73\n",
      "Anos_usando_internet_banking          23\n",
      "Anos_usando_banca_movil               55\n",
      "Banca_movil_userfriendly               0\n",
      "Frecuencia_internet_banking_mes       89\n",
      "Frecuencia_banca_movil_mes            60\n",
      "Frecuencia_pagamentos_tarjeta_mes      9\n",
      "Frecuencia_tarjeta_virtual_mes        23\n",
      "Frecuencia_saldo_cuenta_mes           27\n",
      "dtype: int64\n",
      "\n"
     ]
    }
   ],
   "source": [
    "print(\"Valores nulos del df_training_dataset antes de la transformación DropNA: \\n\\n{}\\n\".format(df_to_be_scored.isnull().sum(axis = 0)))"
   ]
  },
  {
   "cell_type": "markdown",
   "metadata": {},
   "source": [
    "#### Valores NaN"
   ]
  },
  {
   "cell_type": "code",
   "execution_count": 129,
   "metadata": {},
   "outputs": [
    {
     "data": {
      "text/plain": [
       "Counter({0: 533, 1: 362, 2: 85, 3: 19, 4: 1})"
      ]
     },
     "execution_count": 129,
     "metadata": {},
     "output_type": "execute_result"
    }
   ],
   "source": [
    "a = df_to_be_scored.isna().sum(axis = 1)\n",
    "Counter(a[a>=0])"
   ]
  },
  {
   "cell_type": "code",
   "execution_count": 130,
   "metadata": {},
   "outputs": [],
   "source": [
    "for feature in ['Años', 'Anos_usando_internet_banking', 'Anos_usando_banca_movil',]:\n",
    "    df_to_be_scored.loc[:, (feature)].fillna(df_to_be_scored[feature].mean(), inplace=True)\n",
    "    \n",
    "for feature in  ['Frecuencia_internet_banking_mes', 'Frecuencia_banca_movil_mes',\n",
    "               'Frecuencia_pagamentos_tarjeta_mes', 'Frecuencia_tarjeta_virtual_mes', 'Frecuencia_saldo_cuenta_mes']:\n",
    "    df_to_be_scored.loc[:, (feature)].fillna(df_to_be_scored[feature].mean(), inplace=True)"
   ]
  },
  {
   "cell_type": "code",
   "execution_count": 131,
   "metadata": {},
   "outputs": [],
   "source": [
    "for feature in ['Genero', 'Estado_civil', 'Trabajo', 'Sector', 'Telefono']:\n",
    "    df_to_be_scored[feature].fillna(df_to_be_scored[feature].value_counts().idxmax(), inplace=True)"
   ]
  },
  {
   "cell_type": "code",
   "execution_count": 132,
   "metadata": {},
   "outputs": [
    {
     "name": "stdout",
     "output_type": "stream",
     "text": [
      "Valores nulos del df_training_dataset despues de la transformación DropNA: \n",
      "\n",
      "ID                                   0\n",
      "Genero                               0\n",
      "Años                                 0\n",
      "Estado_civil                         0\n",
      "Trabajo                              0\n",
      "Sector                               0\n",
      "Telefono                             0\n",
      "Anos_usando_internet_banking         0\n",
      "Anos_usando_banca_movil              0\n",
      "Banca_movil_userfriendly             0\n",
      "Frecuencia_internet_banking_mes      0\n",
      "Frecuencia_banca_movil_mes           0\n",
      "Frecuencia_pagamentos_tarjeta_mes    0\n",
      "Frecuencia_tarjeta_virtual_mes       0\n",
      "Frecuencia_saldo_cuenta_mes          0\n",
      "dtype: int64\n",
      "\n"
     ]
    }
   ],
   "source": [
    "print(\"Valores nulos del df_training_dataset despues de la transformación DropNA: \\n\\n{}\\n\".format(df_to_be_scored.isnull().sum(axis = 0)))"
   ]
  },
  {
   "cell_type": "code",
   "execution_count": 133,
   "metadata": {},
   "outputs": [
    {
     "name": "stdout",
     "output_type": "stream",
     "text": [
      "Cols:  15  Rows:  1000\n"
     ]
    }
   ],
   "source": [
    "print(\"Cols: \", len(df_to_be_scored.columns), \" Rows: \", len(df_to_be_scored))"
   ]
  },
  {
   "cell_type": "code",
   "execution_count": null,
   "metadata": {},
   "outputs": [],
   "source": [
    "Counter(df_to_be_scored['Sector'])"
   ]
  },
  {
   "cell_type": "code",
   "execution_count": null,
   "metadata": {},
   "outputs": [],
   "source": [
    "Counter(df_to_be_scored['Genero'])"
   ]
  },
  {
   "cell_type": "markdown",
   "metadata": {},
   "source": [
    "#### Label encoding"
   ]
  },
  {
   "cell_type": "code",
   "execution_count": 135,
   "metadata": {},
   "outputs": [],
   "source": [
    "le_trabajo = LabelEncoder()\n",
    "target_label_trabajo = pd.DataFrame(le_trabajo.fit_transform(df_to_be_scored['Trabajo']))\n",
    "df_to_be_scored.drop(columns=['Trabajo'], inplace=True)\n",
    "df_to_be_scored['Trabajo'] = target_label_trabajo"
   ]
  },
  {
   "cell_type": "markdown",
   "metadata": {},
   "source": [
    "<hr>\n",
    "\n",
    "# ¡Atención!\n",
    "\n",
    "# Para poder aplicar su modelo y clasificar la hoja de evaluación, usted debe aplicar primero todas las transformaciones de columna que usted aplico en el dataset de entrenamiento.\n",
    "\n",
    "# No remueva o adicione filas en la hoja de evaluación. \n",
    "\n",
    "# No altere el orden de las filas en la hoja de evaluación. \n",
    "\n",
    "# Al final, las 1000 entradas deben estar clasificadas, con los valores calculados en una columna llamada \"target\"\n",
    "\n",
    "<hr>"
   ]
  },
  {
   "cell_type": "markdown",
   "metadata": {},
   "source": [
    "En la celda de abajo, repetimos rapidamente los mismos pasos de pré-procesamiento usados en el ejemplo dado con árbol de decisión"
   ]
  },
  {
   "cell_type": "markdown",
   "metadata": {},
   "source": [
    "#### Eliminar columnas"
   ]
  },
  {
   "cell_type": "code",
   "execution_count": 137,
   "metadata": {},
   "outputs": [
    {
     "data": {
      "text/html": [
       "<div>\n",
       "<style scoped>\n",
       "    .dataframe tbody tr th:only-of-type {\n",
       "        vertical-align: middle;\n",
       "    }\n",
       "\n",
       "    .dataframe tbody tr th {\n",
       "        vertical-align: top;\n",
       "    }\n",
       "\n",
       "    .dataframe thead th {\n",
       "        text-align: right;\n",
       "    }\n",
       "</style>\n",
       "<table border=\"1\" class=\"dataframe\">\n",
       "  <thead>\n",
       "    <tr style=\"text-align: right;\">\n",
       "      <th></th>\n",
       "      <th>Anos_usando_internet_banking</th>\n",
       "      <th>Anos_usando_banca_movil</th>\n",
       "      <th>Frecuencia_internet_banking_mes</th>\n",
       "      <th>Frecuencia_banca_movil_mes</th>\n",
       "      <th>Frecuencia_pagamentos_tarjeta_mes</th>\n",
       "      <th>Frecuencia_tarjeta_virtual_mes</th>\n",
       "      <th>Frecuencia_saldo_cuenta_mes</th>\n",
       "      <th>Trabajo</th>\n",
       "    </tr>\n",
       "  </thead>\n",
       "  <tbody>\n",
       "    <tr>\n",
       "      <th>0</th>\n",
       "      <td>10.0</td>\n",
       "      <td>3.0</td>\n",
       "      <td>31.00000</td>\n",
       "      <td>7.0</td>\n",
       "      <td>0.0</td>\n",
       "      <td>0.0</td>\n",
       "      <td>31.0</td>\n",
       "      <td>10</td>\n",
       "    </tr>\n",
       "    <tr>\n",
       "      <th>1</th>\n",
       "      <td>10.0</td>\n",
       "      <td>3.0</td>\n",
       "      <td>0.00000</td>\n",
       "      <td>7.0</td>\n",
       "      <td>1.0</td>\n",
       "      <td>0.0</td>\n",
       "      <td>0.0</td>\n",
       "      <td>10</td>\n",
       "    </tr>\n",
       "    <tr>\n",
       "      <th>2</th>\n",
       "      <td>10.0</td>\n",
       "      <td>6.0</td>\n",
       "      <td>1.00000</td>\n",
       "      <td>1.0</td>\n",
       "      <td>15.0</td>\n",
       "      <td>0.0</td>\n",
       "      <td>4.0</td>\n",
       "      <td>5</td>\n",
       "    </tr>\n",
       "    <tr>\n",
       "      <th>3</th>\n",
       "      <td>10.0</td>\n",
       "      <td>6.0</td>\n",
       "      <td>16.15258</td>\n",
       "      <td>50.0</td>\n",
       "      <td>15.0</td>\n",
       "      <td>0.0</td>\n",
       "      <td>0.0</td>\n",
       "      <td>10</td>\n",
       "    </tr>\n",
       "    <tr>\n",
       "      <th>4</th>\n",
       "      <td>5.0</td>\n",
       "      <td>6.0</td>\n",
       "      <td>4.00000</td>\n",
       "      <td>7.0</td>\n",
       "      <td>0.0</td>\n",
       "      <td>0.0</td>\n",
       "      <td>15.0</td>\n",
       "      <td>26</td>\n",
       "    </tr>\n",
       "  </tbody>\n",
       "</table>\n",
       "</div>"
      ],
      "text/plain": [
       "   Anos_usando_internet_banking  Anos_usando_banca_movil  \\\n",
       "0                          10.0                      3.0   \n",
       "1                          10.0                      3.0   \n",
       "2                          10.0                      6.0   \n",
       "3                          10.0                      6.0   \n",
       "4                           5.0                      6.0   \n",
       "\n",
       "   Frecuencia_internet_banking_mes  Frecuencia_banca_movil_mes  \\\n",
       "0                         31.00000                         7.0   \n",
       "1                          0.00000                         7.0   \n",
       "2                          1.00000                         1.0   \n",
       "3                         16.15258                        50.0   \n",
       "4                          4.00000                         7.0   \n",
       "\n",
       "   Frecuencia_pagamentos_tarjeta_mes  Frecuencia_tarjeta_virtual_mes  \\\n",
       "0                                0.0                             0.0   \n",
       "1                                1.0                             0.0   \n",
       "2                               15.0                             0.0   \n",
       "3                               15.0                             0.0   \n",
       "4                                0.0                             0.0   \n",
       "\n",
       "   Frecuencia_saldo_cuenta_mes  Trabajo  \n",
       "0                         31.0       10  \n",
       "1                          0.0       10  \n",
       "2                          4.0        5  \n",
       "3                          0.0       10  \n",
       "4                         15.0       26  "
      ]
     },
     "execution_count": 137,
     "metadata": {},
     "output_type": "execute_result"
    }
   ],
   "source": [
    "# 3 - Remoción de columnas\n",
    "df_to_be_scored_2 = df_to_be_scored.drop(columns=['ID', 'Años', 'Banca_movil_userfriendly', 'Sector', 'Telefono', 'Genero', 'Estado_civil'], inplace=False)\n",
    "df_to_be_scored_2.head()"
   ]
  },
  {
   "cell_type": "markdown",
   "metadata": {},
   "source": [
    "#### Scaler"
   ]
  },
  {
   "cell_type": "code",
   "execution_count": 138,
   "metadata": {},
   "outputs": [
    {
     "data": {
      "text/html": [
       "<div>\n",
       "<style scoped>\n",
       "    .dataframe tbody tr th:only-of-type {\n",
       "        vertical-align: middle;\n",
       "    }\n",
       "\n",
       "    .dataframe tbody tr th {\n",
       "        vertical-align: top;\n",
       "    }\n",
       "\n",
       "    .dataframe thead th {\n",
       "        text-align: right;\n",
       "    }\n",
       "</style>\n",
       "<table border=\"1\" class=\"dataframe\">\n",
       "  <thead>\n",
       "    <tr style=\"text-align: right;\">\n",
       "      <th></th>\n",
       "      <th>Anos_usando_internet_banking</th>\n",
       "      <th>Anos_usando_banca_movil</th>\n",
       "      <th>Frecuencia_internet_banking_mes</th>\n",
       "      <th>Frecuencia_banca_movil_mes</th>\n",
       "      <th>Frecuencia_pagamentos_tarjeta_mes</th>\n",
       "      <th>Frecuencia_tarjeta_virtual_mes</th>\n",
       "      <th>Frecuencia_saldo_cuenta_mes</th>\n",
       "      <th>Trabajo</th>\n",
       "    </tr>\n",
       "  </thead>\n",
       "  <tbody>\n",
       "    <tr>\n",
       "      <th>0</th>\n",
       "      <td>1.113060</td>\n",
       "      <td>-0.333820</td>\n",
       "      <td>9.207912e-01</td>\n",
       "      <td>-0.609819</td>\n",
       "      <td>-0.594348</td>\n",
       "      <td>-0.452422</td>\n",
       "      <td>1.692156</td>\n",
       "      <td>10</td>\n",
       "    </tr>\n",
       "    <tr>\n",
       "      <th>1</th>\n",
       "      <td>1.113060</td>\n",
       "      <td>-0.333820</td>\n",
       "      <td>-1.001733e+00</td>\n",
       "      <td>-0.609819</td>\n",
       "      <td>-0.497201</td>\n",
       "      <td>-0.452422</td>\n",
       "      <td>-0.871405</td>\n",
       "      <td>10</td>\n",
       "    </tr>\n",
       "    <tr>\n",
       "      <th>2</th>\n",
       "      <td>1.113060</td>\n",
       "      <td>1.233032</td>\n",
       "      <td>-9.397162e-01</td>\n",
       "      <td>-0.946946</td>\n",
       "      <td>0.862848</td>\n",
       "      <td>-0.452422</td>\n",
       "      <td>-0.540623</td>\n",
       "      <td>5</td>\n",
       "    </tr>\n",
       "    <tr>\n",
       "      <th>3</th>\n",
       "      <td>1.113060</td>\n",
       "      <td>1.233032</td>\n",
       "      <td>2.203283e-16</td>\n",
       "      <td>1.806263</td>\n",
       "      <td>0.862848</td>\n",
       "      <td>-0.452422</td>\n",
       "      <td>-0.871405</td>\n",
       "      <td>10</td>\n",
       "    </tr>\n",
       "    <tr>\n",
       "      <th>4</th>\n",
       "      <td>-0.339598</td>\n",
       "      <td>1.233032</td>\n",
       "      <td>-7.536655e-01</td>\n",
       "      <td>-0.609819</td>\n",
       "      <td>-0.594348</td>\n",
       "      <td>-0.452422</td>\n",
       "      <td>0.369028</td>\n",
       "      <td>26</td>\n",
       "    </tr>\n",
       "  </tbody>\n",
       "</table>\n",
       "</div>"
      ],
      "text/plain": [
       "   Anos_usando_internet_banking  Anos_usando_banca_movil  \\\n",
       "0                      1.113060                -0.333820   \n",
       "1                      1.113060                -0.333820   \n",
       "2                      1.113060                 1.233032   \n",
       "3                      1.113060                 1.233032   \n",
       "4                     -0.339598                 1.233032   \n",
       "\n",
       "   Frecuencia_internet_banking_mes  Frecuencia_banca_movil_mes  \\\n",
       "0                     9.207912e-01                   -0.609819   \n",
       "1                    -1.001733e+00                   -0.609819   \n",
       "2                    -9.397162e-01                   -0.946946   \n",
       "3                     2.203283e-16                    1.806263   \n",
       "4                    -7.536655e-01                   -0.609819   \n",
       "\n",
       "   Frecuencia_pagamentos_tarjeta_mes  Frecuencia_tarjeta_virtual_mes  \\\n",
       "0                          -0.594348                       -0.452422   \n",
       "1                          -0.497201                       -0.452422   \n",
       "2                           0.862848                       -0.452422   \n",
       "3                           0.862848                       -0.452422   \n",
       "4                          -0.594348                       -0.452422   \n",
       "\n",
       "   Frecuencia_saldo_cuenta_mes  Trabajo  \n",
       "0                     1.692156       10  \n",
       "1                    -0.871405       10  \n",
       "2                    -0.540623        5  \n",
       "3                    -0.871405       10  \n",
       "4                     0.369028       26  "
      ]
     },
     "execution_count": 138,
     "metadata": {},
     "output_type": "execute_result"
    }
   ],
   "source": [
    "sc = StandardScaler()\n",
    "df_to_be_scored_2.iloc[:, :iv] = sc.fit_transform(df_to_be_scored_2.iloc[:, :iv])\n",
    "df_to_be_scored_2.head()"
   ]
  },
  {
   "cell_type": "markdown",
   "metadata": {},
   "source": [
    "#### Categoticas"
   ]
  },
  {
   "cell_type": "code",
   "execution_count": 139,
   "metadata": {},
   "outputs": [
    {
     "name": "stdout",
     "output_type": "stream",
     "text": [
      "Cols:  8  Rows:  1000\n"
     ]
    }
   ],
   "source": [
    "print(\"Cols: \", len(df_to_be_scored_2.columns), \" Rows: \", len(df_to_be_scored_2))"
   ]
  },
  {
   "cell_type": "markdown",
   "metadata": {},
   "source": [
    "# Atención\n",
    "\n",
    "Para todas las columnas que no existiren en \"df_to_be_scored\", usted puede usar la tecnica de abajo para adicionarla:"
   ]
  },
  {
   "cell_type": "code",
   "execution_count": 140,
   "metadata": {
    "scrolled": false
   },
   "outputs": [
    {
     "data": {
      "text/html": [
       "<div>\n",
       "<style scoped>\n",
       "    .dataframe tbody tr th:only-of-type {\n",
       "        vertical-align: middle;\n",
       "    }\n",
       "\n",
       "    .dataframe tbody tr th {\n",
       "        vertical-align: top;\n",
       "    }\n",
       "\n",
       "    .dataframe thead th {\n",
       "        text-align: right;\n",
       "    }\n",
       "</style>\n",
       "<table border=\"1\" class=\"dataframe\">\n",
       "  <thead>\n",
       "    <tr style=\"text-align: right;\">\n",
       "      <th></th>\n",
       "      <th>Anos_usando_internet_banking</th>\n",
       "      <th>Anos_usando_banca_movil</th>\n",
       "      <th>Frecuencia_internet_banking_mes</th>\n",
       "      <th>Frecuencia_banca_movil_mes</th>\n",
       "      <th>Frecuencia_pagamentos_tarjeta_mes</th>\n",
       "      <th>Frecuencia_tarjeta_virtual_mes</th>\n",
       "      <th>Frecuencia_saldo_cuenta_mes</th>\n",
       "      <th>Trabajo</th>\n",
       "      <th>TARGET</th>\n",
       "    </tr>\n",
       "  </thead>\n",
       "  <tbody>\n",
       "    <tr>\n",
       "      <th>995</th>\n",
       "      <td>-0.339598</td>\n",
       "      <td>-0.333820</td>\n",
       "      <td>-0.567615</td>\n",
       "      <td>1.806263</td>\n",
       "      <td>-0.497201</td>\n",
       "      <td>-0.452422</td>\n",
       "      <td>1.692156e+00</td>\n",
       "      <td>5</td>\n",
       "      <td>Perfil_2</td>\n",
       "    </tr>\n",
       "    <tr>\n",
       "      <th>996</th>\n",
       "      <td>1.113060</td>\n",
       "      <td>0.000000</td>\n",
       "      <td>-1.001733</td>\n",
       "      <td>-0.946946</td>\n",
       "      <td>-0.594348</td>\n",
       "      <td>1.812778</td>\n",
       "      <td>-7.887095e-01</td>\n",
       "      <td>22</td>\n",
       "      <td>Perfil_5</td>\n",
       "    </tr>\n",
       "    <tr>\n",
       "      <th>997</th>\n",
       "      <td>-0.339598</td>\n",
       "      <td>-0.333820</td>\n",
       "      <td>0.920791</td>\n",
       "      <td>0.738692</td>\n",
       "      <td>-0.594348</td>\n",
       "      <td>-0.452422</td>\n",
       "      <td>1.468967e-16</td>\n",
       "      <td>22</td>\n",
       "      <td>Perfil_5</td>\n",
       "    </tr>\n",
       "    <tr>\n",
       "      <th>998</th>\n",
       "      <td>2.565718</td>\n",
       "      <td>0.188464</td>\n",
       "      <td>-1.001733</td>\n",
       "      <td>-0.778383</td>\n",
       "      <td>-0.497201</td>\n",
       "      <td>-0.452422</td>\n",
       "      <td>1.692156e+00</td>\n",
       "      <td>26</td>\n",
       "      <td>Perfil_3</td>\n",
       "    </tr>\n",
       "    <tr>\n",
       "      <th>999</th>\n",
       "      <td>-1.792256</td>\n",
       "      <td>0.000000</td>\n",
       "      <td>0.858774</td>\n",
       "      <td>-0.609819</td>\n",
       "      <td>0.862848</td>\n",
       "      <td>1.812778</td>\n",
       "      <td>3.690277e-01</td>\n",
       "      <td>22</td>\n",
       "      <td>Perfil_5</td>\n",
       "    </tr>\n",
       "  </tbody>\n",
       "</table>\n",
       "</div>"
      ],
      "text/plain": [
       "     Anos_usando_internet_banking  Anos_usando_banca_movil  \\\n",
       "995                     -0.339598                -0.333820   \n",
       "996                      1.113060                 0.000000   \n",
       "997                     -0.339598                -0.333820   \n",
       "998                      2.565718                 0.188464   \n",
       "999                     -1.792256                 0.000000   \n",
       "\n",
       "     Frecuencia_internet_banking_mes  Frecuencia_banca_movil_mes  \\\n",
       "995                        -0.567615                    1.806263   \n",
       "996                        -1.001733                   -0.946946   \n",
       "997                         0.920791                    0.738692   \n",
       "998                        -1.001733                   -0.778383   \n",
       "999                         0.858774                   -0.609819   \n",
       "\n",
       "     Frecuencia_pagamentos_tarjeta_mes  Frecuencia_tarjeta_virtual_mes  \\\n",
       "995                          -0.497201                       -0.452422   \n",
       "996                          -0.594348                        1.812778   \n",
       "997                          -0.594348                       -0.452422   \n",
       "998                          -0.497201                       -0.452422   \n",
       "999                           0.862848                        1.812778   \n",
       "\n",
       "     Frecuencia_saldo_cuenta_mes  Trabajo    TARGET  \n",
       "995                 1.692156e+00        5  Perfil_2  \n",
       "996                -7.887095e-01       22  Perfil_5  \n",
       "997                 1.468967e-16       22  Perfil_5  \n",
       "998                 1.692156e+00       26  Perfil_3  \n",
       "999                 3.690277e-01       22  Perfil_5  "
      ]
     },
     "execution_count": 140,
     "metadata": {},
     "output_type": "execute_result"
    }
   ],
   "source": [
    "y_pred = dtc.predict(df_to_be_scored_2)\n",
    "df_to_be_scored_2['TARGET'] = y_pred\n",
    "df_to_be_scored_2.tail()"
   ]
  },
  {
   "cell_type": "markdown",
   "metadata": {},
   "source": [
    "### Guardando la hoja de evaluacion como un archivo .csv para ser enviado\n",
    "**SI YA TIENE UN DATA ASSET CON EL NOMBRE results.csv EN ESTE PROYECTO O EN OTRO PROYECTO DE WATSON STUDIO DEBE BORRAR EL ARCHIVO ANTES DE CORRER LA SIGUIENTE CELDA O TENDRA EL ERROR: _RuntimeError: File 'results.csv' already exists in storage._**"
   ]
  },
  {
   "cell_type": "code",
   "execution_count": 142,
   "metadata": {},
   "outputs": [
    {
     "data": {
      "text/plain": [
       "Counter({'Perfil_2': 162,\n",
       "         'Perfil_4': 277,\n",
       "         'Perfil_5': 256,\n",
       "         'Perfil_3': 227,\n",
       "         'Perfil_1': 63,\n",
       "         'Perfil_0': 15})"
      ]
     },
     "execution_count": 142,
     "metadata": {},
     "output_type": "execute_result"
    }
   ],
   "source": [
    "Counter(y_pred)"
   ]
  },
  {
   "cell_type": "code",
   "execution_count": 141,
   "metadata": {},
   "outputs": [
    {
     "name": "stdout",
     "output_type": "stream",
     "text": [
      "Perfil  0 : 15 \tProportion: 0.015 : 1 \tWeight: 1.5 %\n",
      "Perfil  1 : 63 \tProportion: 0.063 : 1 \tWeight: 6.3 %\n",
      "Perfil  2 : 162 \tProportion: 0.162 : 1 \tWeight: 16.2 %\n",
      "Perfil  3 : 227 \tProportion: 0.227 : 1 \tWeight: 22.7 %\n",
      "Perfil  4 : 277 \tProportion: 0.277 : 1 \tWeight: 27.7 %\n",
      "Perfil  5 : 256 \tProportion: 0.256 : 1 \tWeight: 25.6 %\n"
     ]
    },
    {
     "data": {
      "image/png": "[encoded data removed]",
      "text/plain": [
       "<Figure size 576x360 with 1 Axes>"
      ]
     },
     "metadata": {
      "needs_background": "light"
     },
     "output_type": "display_data"
    }
   ],
   "source": [
    "countTargets(df_to_be_scored_2).plot(kind='bar', title='Count (Perfil)', color='navajowhite');"
   ]
  },
  {
   "cell_type": "code",
   "execution_count": 143,
   "metadata": {},
   "outputs": [
    {
     "data": {
      "text/plain": [
       "{'file_name': 'results.csv',\n",
       " 'message': 'File saved to project storage.',\n",
       " 'bucket_name': 'bancoppel-donotdelete-pr-3tfmqyslomehrq',\n",
       " 'asset_id': 'a962f7a9-39fa-4d59-b7ed-016d6b66bffc'}"
      ]
     },
     "execution_count": 143,
     "metadata": {},
     "output_type": "execute_result"
    }
   ],
   "source": [
    "project.save_data(file_name=\"results.csv\", data=df_to_be_scored_2.to_csv(index=False))"
   ]
  },
  {
   "cell_type": "markdown",
   "metadata": {},
   "source": [
    "# ATENCIÓN\n",
    "\n",
    "# La ejecución de la celda anterior creará un nuevo \"data asset\" en su proyecto de Watson Studio. Deberá descargar este archivo junto con este cuaderno y crear un archivo zip con results.csv y notebook.ipynb para enviarlo. (los archivos deben tener este nombre)"
   ]
  },
  {
   "cell_type": "markdown",
   "metadata": {},
   "source": [
    "<hr>\n",
    "\n",
    "## ¡Felicitaciones!\n",
    "Si ya está satisfecho con su solución, vaya a la página siguiente y envíe los archivos necesarios para su envío.\n",
    "\n",
    "# https://bancoppel.maratona.dev\n"
   ]
  },
  {
   "cell_type": "code",
   "execution_count": null,
   "metadata": {},
   "outputs": [],
   "source": []
  }
 ],
 "metadata": {
  "kernelspec": {
   "display_name": "Python 3",
   "language": "python",
   "name": "python3"
  },
  "language_info": {
   "codemirror_mode": {
    "name": "ipython",
    "version": 3
   },
   "file_extension": ".py",
   "mimetype": "text/x-python",
   "name": "python",
   "nbconvert_exporter": "python",
   "pygments_lexer": "ipython3",
   "version": "3.8.5"
  }
 },
 "nbformat": 4,
 "nbformat_minor": 1
}
