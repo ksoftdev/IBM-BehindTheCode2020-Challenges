{
 "cells": [
  {
   "cell_type": "code",
   "execution_count": 1,
   "metadata": {},
   "outputs": [],
   "source": [
    "# @hidden_cell\n",
    "# The project token is an authorization token that is used to access project resources like data sources, connections, and used by platform APIs.\n",
    "from project_lib import Project\n",
    "project = Project(project_id='5adef59e-517d-4366-83ab-c2d7dfe182e9', project_access_token='p-f8ce0c95829e5ea8e60e71498fa3ff5207002bcb')\n",
    "pc = project.project_context\n"
   ]
  },
  {
   "cell_type": "markdown",
   "metadata": {
    "collapsed": true
   },
   "source": [
    "# MARATÓN BEHIND THE CODE 2020\n",
    "\n",
    "# DESAFÍO 8 - Digital House\n",
    "\n",
    "El reto de Digital House tiene que ver con la misión y visión de la empresa; la cual busca transformar la vida de las personas, desarrollando competencias digitales, para que generen un impacto positivo en la sociedad. En ese sentido, Digital House busca a través de este desafío medir la empleabilidad de los cursos que disponibiliza en su plataforma, es decir que tan factible es que un alumno o egresado de Digital House acceda al mercado laboral o consiga un trabajo en su área luego de finalizar uno o varios de los cursos ofrecidos en la plataforma.\n",
    "\n",
    "Entender que características o variables hacen que una persona sea más o menos empleable es fundamental para la empresa y para generar ese impacto positivo que busca aportar a la sociedad\n",
    "\n",
    "<hr>\n",
    "\n",
    "## Instalación de algunas bibliotecas de Python"
   ]
  },
  {
   "cell_type": "code",
   "execution_count": null,
   "metadata": {},
   "outputs": [],
   "source": [
    "!pip install -U scikit-learn==0.23.2\n",
    "!pip install -U pandas==1.1.1\n",
    "!pip install -U seaborn==0.10.1\n",
    "!pip install -U scipy"
   ]
  },
  {
   "cell_type": "markdown",
   "metadata": {},
   "source": [
    "<hr>\n",
    "\n",
    "## Descargue el conjunto de datos del desafío en formato .csv"
   ]
  },
  {
   "cell_type": "code",
   "execution_count": 2,
   "metadata": {},
   "outputs": [],
   "source": [
    "import pandas as pd\n",
    "import numpy as np\n",
    "\n",
    "from collections import Counter\n",
    "\n",
    "from sklearn.preprocessing import StandardScaler\n",
    "from sklearn.preprocessing import OneHotEncoder\n",
    "from sklearn.preprocessing import LabelEncoder\n",
    "\n",
    "from sklearn.model_selection import StratifiedKFold\n",
    "from sklearn.model_selection import cross_val_score\n",
    "from sklearn.model_selection import train_test_split\n",
    "from sklearn.model_selection import GridSearchCV\n",
    "\n",
    "from sklearn.linear_model import LinearRegression\n",
    "from sklearn.svm import SVR\n",
    "\n",
    "from sklearn.metrics import mean_squared_error, r2_score\n",
    "\n",
    "from matplotlib import pyplot as plt\n",
    "import seaborn as sns"
   ]
  },
  {
   "cell_type": "code",
   "execution_count": 3,
   "metadata": {},
   "outputs": [
    {
     "name": "stdout",
     "output_type": "stream",
     "text": [
      "--2020-09-17 22:32:51--  https://raw.githubusercontent.com/vanderlei-test/654986294958/master/train_dataset_digitalhouse.csv\n",
      "Resolving raw.githubusercontent.com (raw.githubusercontent.com)... 151.101.48.133\n",
      "Connecting to raw.githubusercontent.com (raw.githubusercontent.com)|151.101.48.133|:443... connected.\n",
      "HTTP request sent, awaiting response... 200 OK\n",
      "Length: 654532 (639K) [text/plain]\n",
      "Saving to: ‘train_dataset_digitalhouse.csv.2’\n",
      "\n",
      "100%[======================================>] 654,532     --.-K/s   in 0.02s   \n",
      "\n",
      "2020-09-17 22:32:51 (26.3 MB/s) - ‘train_dataset_digitalhouse.csv.2’ saved [654532/654532]\n",
      "\n"
     ]
    },
    {
     "data": {
      "text/html": [
       "<div>\n",
       "<style scoped>\n",
       "    .dataframe tbody tr th:only-of-type {\n",
       "        vertical-align: middle;\n",
       "    }\n",
       "\n",
       "    .dataframe tbody tr th {\n",
       "        vertical-align: top;\n",
       "    }\n",
       "\n",
       "    .dataframe thead th {\n",
       "        text-align: right;\n",
       "    }\n",
       "</style>\n",
       "<table border=\"1\" class=\"dataframe\">\n",
       "  <thead>\n",
       "    <tr style=\"text-align: right;\">\n",
       "      <th></th>\n",
       "      <th>Unnamed: 0</th>\n",
       "      <th>EDAD</th>\n",
       "      <th>GENERO</th>\n",
       "      <th>RESIDENCIA</th>\n",
       "      <th>NV_ESTUDIO</th>\n",
       "      <th>ESTUDIO_PREV</th>\n",
       "      <th>TRACK_DH</th>\n",
       "      <th>AVG_DH</th>\n",
       "      <th>MINUTES_DH</th>\n",
       "      <th>EXPERIENCIA</th>\n",
       "      <th>DIAS_EMP</th>\n",
       "    </tr>\n",
       "  </thead>\n",
       "  <tbody>\n",
       "    <tr>\n",
       "      <th>8990</th>\n",
       "      <td>9995</td>\n",
       "      <td>29.0</td>\n",
       "      <td>MASCULINO</td>\n",
       "      <td>ARGENTINA</td>\n",
       "      <td>TERTIARY</td>\n",
       "      <td>DEVELOPMENT</td>\n",
       "      <td>NaN</td>\n",
       "      <td>4.0</td>\n",
       "      <td>4701.6</td>\n",
       "      <td>9.1</td>\n",
       "      <td>86.0</td>\n",
       "    </tr>\n",
       "    <tr>\n",
       "      <th>8991</th>\n",
       "      <td>9996</td>\n",
       "      <td>34.0</td>\n",
       "      <td>NaN</td>\n",
       "      <td>ARGENTINA</td>\n",
       "      <td>UNIVERSITARY</td>\n",
       "      <td>ENGINEERING</td>\n",
       "      <td>PROGRAMACION</td>\n",
       "      <td>3.4</td>\n",
       "      <td>4646.2</td>\n",
       "      <td>16.8</td>\n",
       "      <td>95.0</td>\n",
       "    </tr>\n",
       "    <tr>\n",
       "      <th>8992</th>\n",
       "      <td>9997</td>\n",
       "      <td>28.0</td>\n",
       "      <td>FEMENINO</td>\n",
       "      <td>ARGENTINA</td>\n",
       "      <td>POST_GRADUATE</td>\n",
       "      <td>ENGINEERING</td>\n",
       "      <td>EJECUTIVO</td>\n",
       "      <td>NaN</td>\n",
       "      <td>3315.1</td>\n",
       "      <td>5.6</td>\n",
       "      <td>95.0</td>\n",
       "    </tr>\n",
       "    <tr>\n",
       "      <th>8993</th>\n",
       "      <td>9998</td>\n",
       "      <td>23.0</td>\n",
       "      <td>MASCULINO</td>\n",
       "      <td>MEXICO</td>\n",
       "      <td>TERTIARY</td>\n",
       "      <td>ENGINEERING</td>\n",
       "      <td>PROGRAMACION</td>\n",
       "      <td>3.3</td>\n",
       "      <td>4437.8</td>\n",
       "      <td>0.9</td>\n",
       "      <td>87.0</td>\n",
       "    </tr>\n",
       "    <tr>\n",
       "      <th>8994</th>\n",
       "      <td>9999</td>\n",
       "      <td>36.0</td>\n",
       "      <td>MASCULINO</td>\n",
       "      <td>ARGENTINA</td>\n",
       "      <td>UNIVERSITARY</td>\n",
       "      <td>COMMERCIAL</td>\n",
       "      <td>DATA</td>\n",
       "      <td>3.4</td>\n",
       "      <td>4600.8</td>\n",
       "      <td>19.6</td>\n",
       "      <td>88.0</td>\n",
       "    </tr>\n",
       "  </tbody>\n",
       "</table>\n",
       "</div>"
      ],
      "text/plain": [
       "      Unnamed: 0  EDAD     GENERO RESIDENCIA     NV_ESTUDIO ESTUDIO_PREV  \\\n",
       "8990        9995  29.0  MASCULINO  ARGENTINA       TERTIARY  DEVELOPMENT   \n",
       "8991        9996  34.0        NaN  ARGENTINA   UNIVERSITARY  ENGINEERING   \n",
       "8992        9997  28.0   FEMENINO  ARGENTINA  POST_GRADUATE  ENGINEERING   \n",
       "8993        9998  23.0  MASCULINO     MEXICO       TERTIARY  ENGINEERING   \n",
       "8994        9999  36.0  MASCULINO  ARGENTINA   UNIVERSITARY   COMMERCIAL   \n",
       "\n",
       "          TRACK_DH  AVG_DH  MINUTES_DH  EXPERIENCIA  DIAS_EMP  \n",
       "8990           NaN     4.0      4701.6          9.1      86.0  \n",
       "8991  PROGRAMACION     3.4      4646.2         16.8      95.0  \n",
       "8992     EJECUTIVO     NaN      3315.1          5.6      95.0  \n",
       "8993  PROGRAMACION     3.3      4437.8          0.9      87.0  \n",
       "8994          DATA     3.4      4600.8         19.6      88.0  "
      ]
     },
     "execution_count": 3,
     "metadata": {},
     "output_type": "execute_result"
    }
   ],
   "source": [
    "!wget --no-check-certificate --content-disposition https://raw.githubusercontent.com/vanderlei-test/654986294958/master/train_dataset_digitalhouse.csv\n",
    "df_training_dataset = pd.read_csv(r'train_dataset_digitalhouse.csv')\n",
    "df_training_dataset.tail()"
   ]
  },
  {
   "cell_type": "markdown",
   "metadata": {},
   "source": [
    "## En el conjunto de datos proporcionado, tenemos las siguientes columnas:\n",
    "\n",
    "* Unnamed: 0\n",
    "* EDAD\n",
    "* GENERO\n",
    "* RESIDENCIA\n",
    "* NV_ESTUDIO\n",
    "* ESTUDIO_PREV\n",
    "* TRACK_DH\n",
    "* AVG_DH\n",
    "* MINUTES_DH\n",
    "* EXPERIENCIA\n",
    "* **DIAS_EMP = El valor \"target\" que se va a predecir**\n",
    "\n",
    "Podemos verificar fácilmente que faltan valores usando el siguiente código:\n",
    "\n",
    "```df_training_dataset.info()```\n",
    "\n",
    "Debe manejar cuidadosamente estos valores faltantes antes de crear un modelo de regresión."
   ]
  },
  {
   "cell_type": "code",
   "execution_count": 4,
   "metadata": {},
   "outputs": [
    {
     "name": "stdout",
     "output_type": "stream",
     "text": [
      "Cols:  11  Rows:  8995\n"
     ]
    }
   ],
   "source": [
    "print(\"Cols: \", len(df_training_dataset.columns), \" Rows: \", len(df_training_dataset))"
   ]
  },
  {
   "cell_type": "code",
   "execution_count": 5,
   "metadata": {},
   "outputs": [
    {
     "name": "stdout",
     "output_type": "stream",
     "text": [
      "Valores nulos del dataSet: \n",
      "\n",
      "Unnamed: 0         0\n",
      "EDAD            1327\n",
      "GENERO          1375\n",
      "RESIDENCIA      1357\n",
      "NV_ESTUDIO      1372\n",
      "ESTUDIO_PREV    1330\n",
      "TRACK_DH        1281\n",
      "AVG_DH          1344\n",
      "MINUTES_DH      1376\n",
      "EXPERIENCIA     1377\n",
      "DIAS_EMP           0\n",
      "dtype: int64\n",
      "\n"
     ]
    }
   ],
   "source": [
    "print(\"Valores nulos del dataSet: \\n\\n{}\\n\".format(df_training_dataset.isnull().sum(axis = 0)))"
   ]
  },
  {
   "cell_type": "markdown",
   "metadata": {},
   "source": [
    "<hr>"
   ]
  },
  {
   "cell_type": "markdown",
   "metadata": {},
   "source": [
    "## Algunos consejos antes de entrenar a un modelo:\n",
    "\n",
    "1. Manejar valores perdidos\n",
    "\n",
    "2. Manejar variables categóricas\n",
    "\n",
    "<hr>\n",
    "\n",
    "## A continuación, le brindamos una plantilla simple para que sepa cómo estructurar las entradas y salidas de su modelo"
   ]
  },
  {
   "cell_type": "markdown",
   "metadata": {},
   "source": [
    "### Removiendo columnas"
   ]
  },
  {
   "cell_type": "code",
   "execution_count": 6,
   "metadata": {},
   "outputs": [
    {
     "data": {
      "text/html": [
       "<div>\n",
       "<style scoped>\n",
       "    .dataframe tbody tr th:only-of-type {\n",
       "        vertical-align: middle;\n",
       "    }\n",
       "\n",
       "    .dataframe tbody tr th {\n",
       "        vertical-align: top;\n",
       "    }\n",
       "\n",
       "    .dataframe thead th {\n",
       "        text-align: right;\n",
       "    }\n",
       "</style>\n",
       "<table border=\"1\" class=\"dataframe\">\n",
       "  <thead>\n",
       "    <tr style=\"text-align: right;\">\n",
       "      <th></th>\n",
       "      <th>EDAD</th>\n",
       "      <th>GENERO</th>\n",
       "      <th>RESIDENCIA</th>\n",
       "      <th>NV_ESTUDIO</th>\n",
       "      <th>ESTUDIO_PREV</th>\n",
       "      <th>TRACK_DH</th>\n",
       "      <th>AVG_DH</th>\n",
       "      <th>MINUTES_DH</th>\n",
       "      <th>EXPERIENCIA</th>\n",
       "      <th>DIAS_EMP</th>\n",
       "    </tr>\n",
       "  </thead>\n",
       "  <tbody>\n",
       "    <tr>\n",
       "      <th>8990</th>\n",
       "      <td>29.0</td>\n",
       "      <td>MASCULINO</td>\n",
       "      <td>ARGENTINA</td>\n",
       "      <td>TERTIARY</td>\n",
       "      <td>DEVELOPMENT</td>\n",
       "      <td>NaN</td>\n",
       "      <td>4.0</td>\n",
       "      <td>4701.6</td>\n",
       "      <td>9.1</td>\n",
       "      <td>86.0</td>\n",
       "    </tr>\n",
       "    <tr>\n",
       "      <th>8991</th>\n",
       "      <td>34.0</td>\n",
       "      <td>NaN</td>\n",
       "      <td>ARGENTINA</td>\n",
       "      <td>UNIVERSITARY</td>\n",
       "      <td>ENGINEERING</td>\n",
       "      <td>PROGRAMACION</td>\n",
       "      <td>3.4</td>\n",
       "      <td>4646.2</td>\n",
       "      <td>16.8</td>\n",
       "      <td>95.0</td>\n",
       "    </tr>\n",
       "    <tr>\n",
       "      <th>8992</th>\n",
       "      <td>28.0</td>\n",
       "      <td>FEMENINO</td>\n",
       "      <td>ARGENTINA</td>\n",
       "      <td>POST_GRADUATE</td>\n",
       "      <td>ENGINEERING</td>\n",
       "      <td>EJECUTIVO</td>\n",
       "      <td>NaN</td>\n",
       "      <td>3315.1</td>\n",
       "      <td>5.6</td>\n",
       "      <td>95.0</td>\n",
       "    </tr>\n",
       "    <tr>\n",
       "      <th>8993</th>\n",
       "      <td>23.0</td>\n",
       "      <td>MASCULINO</td>\n",
       "      <td>MEXICO</td>\n",
       "      <td>TERTIARY</td>\n",
       "      <td>ENGINEERING</td>\n",
       "      <td>PROGRAMACION</td>\n",
       "      <td>3.3</td>\n",
       "      <td>4437.8</td>\n",
       "      <td>0.9</td>\n",
       "      <td>87.0</td>\n",
       "    </tr>\n",
       "    <tr>\n",
       "      <th>8994</th>\n",
       "      <td>36.0</td>\n",
       "      <td>MASCULINO</td>\n",
       "      <td>ARGENTINA</td>\n",
       "      <td>UNIVERSITARY</td>\n",
       "      <td>COMMERCIAL</td>\n",
       "      <td>DATA</td>\n",
       "      <td>3.4</td>\n",
       "      <td>4600.8</td>\n",
       "      <td>19.6</td>\n",
       "      <td>88.0</td>\n",
       "    </tr>\n",
       "  </tbody>\n",
       "</table>\n",
       "</div>"
      ],
      "text/plain": [
       "      EDAD     GENERO RESIDENCIA     NV_ESTUDIO ESTUDIO_PREV      TRACK_DH  \\\n",
       "8990  29.0  MASCULINO  ARGENTINA       TERTIARY  DEVELOPMENT           NaN   \n",
       "8991  34.0        NaN  ARGENTINA   UNIVERSITARY  ENGINEERING  PROGRAMACION   \n",
       "8992  28.0   FEMENINO  ARGENTINA  POST_GRADUATE  ENGINEERING     EJECUTIVO   \n",
       "8993  23.0  MASCULINO     MEXICO       TERTIARY  ENGINEERING  PROGRAMACION   \n",
       "8994  36.0  MASCULINO  ARGENTINA   UNIVERSITARY   COMMERCIAL          DATA   \n",
       "\n",
       "      AVG_DH  MINUTES_DH  EXPERIENCIA  DIAS_EMP  \n",
       "8990     4.0      4701.6          9.1      86.0  \n",
       "8991     3.4      4646.2         16.8      95.0  \n",
       "8992     NaN      3315.1          5.6      95.0  \n",
       "8993     3.3      4437.8          0.9      87.0  \n",
       "8994     3.4      4600.8         19.6      88.0  "
      ]
     },
     "execution_count": 6,
     "metadata": {},
     "output_type": "execute_result"
    }
   ],
   "source": [
    "df_training_dataset_1 = df_training_dataset.drop(columns=['Unnamed: 0'], inplace=False)\n",
    "df_training_dataset_1.tail()"
   ]
  },
  {
   "cell_type": "markdown",
   "metadata": {},
   "source": [
    "### Removendo valores NaN"
   ]
  },
  {
   "cell_type": "markdown",
   "metadata": {},
   "source": [
    "#### Mantener registros que tengan por lo menos 8 valores no nulos"
   ]
  },
  {
   "cell_type": "code",
   "execution_count": 7,
   "metadata": {},
   "outputs": [],
   "source": [
    "a = df_training_dataset_1.isna().sum(axis = 1)"
   ]
  },
  {
   "cell_type": "code",
   "execution_count": 8,
   "metadata": {},
   "outputs": [
    {
     "data": {
      "text/plain": [
       "Counter({1: 3279, 3: 980, 2: 2294, 4: 265, 5: 41, 6: 10, 7: 1})"
      ]
     },
     "execution_count": 8,
     "metadata": {},
     "output_type": "execute_result"
    }
   ],
   "source": [
    "Counter(a[a>0])"
   ]
  },
  {
   "cell_type": "code",
   "execution_count": 212,
   "metadata": {},
   "outputs": [],
   "source": [
    "df_training_dataset_2 = df_training_dataset_1.dropna(thresh=8, inplace=False)"
   ]
  },
  {
   "cell_type": "code",
   "execution_count": 213,
   "metadata": {},
   "outputs": [],
   "source": [
    "df_training_dataset_2.reset_index(drop=True, inplace=True)"
   ]
  },
  {
   "cell_type": "code",
   "execution_count": 214,
   "metadata": {},
   "outputs": [
    {
     "name": "stdout",
     "output_type": "stream",
     "text": [
      "Cols:  10  Rows:  7698\n"
     ]
    }
   ],
   "source": [
    "print(\"Cols: \", len(df_training_dataset_2.columns), \" Rows: \", len(df_training_dataset_2))"
   ]
  },
  {
   "cell_type": "markdown",
   "metadata": {},
   "source": [
    "#### Valores NaN, numéricos y categóricos."
   ]
  },
  {
   "cell_type": "code",
   "execution_count": 215,
   "metadata": {},
   "outputs": [
    {
     "name": "stderr",
     "output_type": "stream",
     "text": [
      "/opt/conda/envs/Python36/lib/python3.6/site-packages/pandas/core/series.py:4523: SettingWithCopyWarning: \n",
      "A value is trying to be set on a copy of a slice from a DataFrame\n",
      "\n",
      "See the caveats in the documentation: https://pandas.pydata.org/pandas-docs/stable/user_guide/indexing.html#returning-a-view-versus-a-copy\n",
      "  downcast=downcast,\n"
     ]
    }
   ],
   "source": [
    "for feature in ['EDAD', 'EXPERIENCIA', 'AVG_DH', 'MINUTES_DH']:\n",
    "    df_training_dataset_2.loc[:, (feature)].fillna(df_training_dataset_2[feature].mean(), inplace=True)"
   ]
  },
  {
   "cell_type": "code",
   "execution_count": 216,
   "metadata": {},
   "outputs": [],
   "source": [
    "for feature in ['GENERO', 'RESIDENCIA', 'NV_ESTUDIO', 'ESTUDIO_PREV', 'TRACK_DH']:\n",
    "    df_training_dataset_2[feature].fillna(df_training_dataset_2[feature].value_counts().idxmax(), inplace=True)"
   ]
  },
  {
   "cell_type": "code",
   "execution_count": 217,
   "metadata": {},
   "outputs": [
    {
     "name": "stdout",
     "output_type": "stream",
     "text": [
      "Valores nulos del dataSet: \n",
      "\n",
      "EDAD            0\n",
      "GENERO          0\n",
      "RESIDENCIA      0\n",
      "NV_ESTUDIO      0\n",
      "ESTUDIO_PREV    0\n",
      "TRACK_DH        0\n",
      "AVG_DH          0\n",
      "MINUTES_DH      0\n",
      "EXPERIENCIA     0\n",
      "DIAS_EMP        0\n",
      "dtype: int64\n",
      "\n"
     ]
    }
   ],
   "source": [
    "print(\"Valores nulos del dataSet: \\n\\n{}\\n\".format(df_training_dataset_2.isnull().sum(axis = 0)))"
   ]
  },
  {
   "cell_type": "code",
   "execution_count": 218,
   "metadata": {},
   "outputs": [
    {
     "name": "stdout",
     "output_type": "stream",
     "text": [
      "Cols:  10  Rows:  7698\n"
     ]
    }
   ],
   "source": [
    "print(\"Cols: \", len(df_training_dataset_2.columns), \" Rows: \", len(df_training_dataset_2))"
   ]
  },
  {
   "cell_type": "code",
   "execution_count": 219,
   "metadata": {},
   "outputs": [
    {
     "name": "stdout",
     "output_type": "stream",
     "text": [
      "MASCULINO    5580\n",
      "FEMENINO     2118\n",
      "Name: GENERO, dtype: int64\n"
     ]
    },
    {
     "data": {
      "image/png": "[encoded data removed]",
      "text/plain": [
       "<Figure size 360x288 with 1 Axes>"
      ]
     },
     "metadata": {
      "needs_background": "light"
     },
     "output_type": "display_data"
    }
   ],
   "source": [
    "plt.rcParams.update({'figure.figsize': (5.0, 4.0)})\n",
    "plt.rcParams.update({'font.size': 11.5})\n",
    "\n",
    "count_genero = df_training_dataset_2.GENERO.value_counts()\n",
    "count_nvestudio = df_training_dataset_2.NV_ESTUDIO.value_counts()\n",
    "\n",
    "count_genero.plot(kind='bar', title='Count (GENERO)', color='beige');\n",
    "print(count_genero)"
   ]
  },
  {
   "cell_type": "code",
   "execution_count": 220,
   "metadata": {},
   "outputs": [
    {
     "name": "stdout",
     "output_type": "stream",
     "text": [
      "UNIVERSITARY     5270\n",
      "TERTIARY         1562\n",
      "POST_GRADUATE     866\n",
      "Name: NV_ESTUDIO, dtype: int64\n"
     ]
    },
    {
     "data": {
      "image/png": "[encoded data removed]",
      "text/plain": [
       "<Figure size 360x288 with 1 Axes>"
      ]
     },
     "metadata": {
      "needs_background": "light"
     },
     "output_type": "display_data"
    }
   ],
   "source": [
    "count_nvestudio.plot(kind='bar', title='Count (NV_ESTUDIO)', color='beige');\n",
    "print(count_nvestudio)"
   ]
  },
  {
   "cell_type": "markdown",
   "metadata": {},
   "source": [
    "#### Label enconding"
   ]
  },
  {
   "cell_type": "code",
   "execution_count": 221,
   "metadata": {},
   "outputs": [],
   "source": [
    "le = LabelEncoder()\n",
    "def labelEnconding(feature_name, dataset):\n",
    "    target_label = pd.DataFrame(le.fit_transform(dataset[feature_name]))\n",
    "    dataset.drop(columns=[feature_name], inplace=True)\n",
    "    dataset[feature_name] = target_label"
   ]
  },
  {
   "cell_type": "code",
   "execution_count": 222,
   "metadata": {},
   "outputs": [],
   "source": [
    "df_training_dataset_3 = df_training_dataset_2.copy()\n",
    "\n",
    "for i in ['GENERO', 'RESIDENCIA', 'NV_ESTUDIO', 'ESTUDIO_PREV', 'TRACK_DH']:\n",
    "    labelEnconding(i, df_training_dataset_3)"
   ]
  },
  {
   "cell_type": "code",
   "execution_count": 223,
   "metadata": {},
   "outputs": [
    {
     "data": {
      "text/html": [
       "<div>\n",
       "<style scoped>\n",
       "    .dataframe tbody tr th:only-of-type {\n",
       "        vertical-align: middle;\n",
       "    }\n",
       "\n",
       "    .dataframe tbody tr th {\n",
       "        vertical-align: top;\n",
       "    }\n",
       "\n",
       "    .dataframe thead th {\n",
       "        text-align: right;\n",
       "    }\n",
       "</style>\n",
       "<table border=\"1\" class=\"dataframe\">\n",
       "  <thead>\n",
       "    <tr style=\"text-align: right;\">\n",
       "      <th></th>\n",
       "      <th>EDAD</th>\n",
       "      <th>AVG_DH</th>\n",
       "      <th>MINUTES_DH</th>\n",
       "      <th>EXPERIENCIA</th>\n",
       "      <th>DIAS_EMP</th>\n",
       "      <th>GENERO</th>\n",
       "      <th>RESIDENCIA</th>\n",
       "      <th>NV_ESTUDIO</th>\n",
       "      <th>ESTUDIO_PREV</th>\n",
       "      <th>TRACK_DH</th>\n",
       "    </tr>\n",
       "  </thead>\n",
       "  <tbody>\n",
       "    <tr>\n",
       "      <th>7693</th>\n",
       "      <td>29.0</td>\n",
       "      <td>4.000000</td>\n",
       "      <td>4701.6</td>\n",
       "      <td>9.1</td>\n",
       "      <td>86.0</td>\n",
       "      <td>1</td>\n",
       "      <td>0</td>\n",
       "      <td>1</td>\n",
       "      <td>2</td>\n",
       "      <td>0</td>\n",
       "    </tr>\n",
       "    <tr>\n",
       "      <th>7694</th>\n",
       "      <td>34.0</td>\n",
       "      <td>3.400000</td>\n",
       "      <td>4646.2</td>\n",
       "      <td>16.8</td>\n",
       "      <td>95.0</td>\n",
       "      <td>1</td>\n",
       "      <td>0</td>\n",
       "      <td>2</td>\n",
       "      <td>3</td>\n",
       "      <td>3</td>\n",
       "    </tr>\n",
       "    <tr>\n",
       "      <th>7695</th>\n",
       "      <td>28.0</td>\n",
       "      <td>3.502687</td>\n",
       "      <td>3315.1</td>\n",
       "      <td>5.6</td>\n",
       "      <td>95.0</td>\n",
       "      <td>0</td>\n",
       "      <td>0</td>\n",
       "      <td>0</td>\n",
       "      <td>3</td>\n",
       "      <td>1</td>\n",
       "    </tr>\n",
       "    <tr>\n",
       "      <th>7696</th>\n",
       "      <td>23.0</td>\n",
       "      <td>3.300000</td>\n",
       "      <td>4437.8</td>\n",
       "      <td>0.9</td>\n",
       "      <td>87.0</td>\n",
       "      <td>1</td>\n",
       "      <td>2</td>\n",
       "      <td>1</td>\n",
       "      <td>3</td>\n",
       "      <td>3</td>\n",
       "    </tr>\n",
       "    <tr>\n",
       "      <th>7697</th>\n",
       "      <td>36.0</td>\n",
       "      <td>3.400000</td>\n",
       "      <td>4600.8</td>\n",
       "      <td>19.6</td>\n",
       "      <td>88.0</td>\n",
       "      <td>1</td>\n",
       "      <td>0</td>\n",
       "      <td>2</td>\n",
       "      <td>1</td>\n",
       "      <td>0</td>\n",
       "    </tr>\n",
       "  </tbody>\n",
       "</table>\n",
       "</div>"
      ],
      "text/plain": [
       "      EDAD    AVG_DH  MINUTES_DH  EXPERIENCIA  DIAS_EMP  GENERO  RESIDENCIA  \\\n",
       "7693  29.0  4.000000      4701.6          9.1      86.0       1           0   \n",
       "7694  34.0  3.400000      4646.2         16.8      95.0       1           0   \n",
       "7695  28.0  3.502687      3315.1          5.6      95.0       0           0   \n",
       "7696  23.0  3.300000      4437.8          0.9      87.0       1           2   \n",
       "7697  36.0  3.400000      4600.8         19.6      88.0       1           0   \n",
       "\n",
       "      NV_ESTUDIO  ESTUDIO_PREV  TRACK_DH  \n",
       "7693           1             2         0  \n",
       "7694           2             3         3  \n",
       "7695           0             3         1  \n",
       "7696           1             3         3  \n",
       "7697           2             1         0  "
      ]
     },
     "execution_count": 223,
     "metadata": {},
     "output_type": "execute_result"
    }
   ],
   "source": [
    "df_training_dataset_3.tail()"
   ]
  },
  {
   "cell_type": "code",
   "execution_count": 224,
   "metadata": {},
   "outputs": [
    {
     "name": "stdout",
     "output_type": "stream",
     "text": [
      "Cols:  10  Rows:  7698\n"
     ]
    }
   ],
   "source": [
    "print(\"Cols: \", len(df_training_dataset_3.columns), \" Rows: \", len(df_training_dataset_3))"
   ]
  },
  {
   "cell_type": "code",
   "execution_count": 225,
   "metadata": {},
   "outputs": [
    {
     "data": {
      "text/html": [
       "<div>\n",
       "<style scoped>\n",
       "    .dataframe tbody tr th:only-of-type {\n",
       "        vertical-align: middle;\n",
       "    }\n",
       "\n",
       "    .dataframe tbody tr th {\n",
       "        vertical-align: top;\n",
       "    }\n",
       "\n",
       "    .dataframe thead th {\n",
       "        text-align: right;\n",
       "    }\n",
       "</style>\n",
       "<table border=\"1\" class=\"dataframe\">\n",
       "  <thead>\n",
       "    <tr style=\"text-align: right;\">\n",
       "      <th></th>\n",
       "      <th>EDAD</th>\n",
       "      <th>AVG_DH</th>\n",
       "      <th>MINUTES_DH</th>\n",
       "      <th>EXPERIENCIA</th>\n",
       "      <th>GENERO</th>\n",
       "      <th>RESIDENCIA</th>\n",
       "      <th>NV_ESTUDIO</th>\n",
       "      <th>ESTUDIO_PREV</th>\n",
       "      <th>TRACK_DH</th>\n",
       "      <th>DIAS_EMP</th>\n",
       "    </tr>\n",
       "  </thead>\n",
       "  <tbody>\n",
       "    <tr>\n",
       "      <th>7693</th>\n",
       "      <td>29.0</td>\n",
       "      <td>4.000000</td>\n",
       "      <td>4701.6</td>\n",
       "      <td>9.1</td>\n",
       "      <td>1</td>\n",
       "      <td>0</td>\n",
       "      <td>1</td>\n",
       "      <td>2</td>\n",
       "      <td>0</td>\n",
       "      <td>86.0</td>\n",
       "    </tr>\n",
       "    <tr>\n",
       "      <th>7694</th>\n",
       "      <td>34.0</td>\n",
       "      <td>3.400000</td>\n",
       "      <td>4646.2</td>\n",
       "      <td>16.8</td>\n",
       "      <td>1</td>\n",
       "      <td>0</td>\n",
       "      <td>2</td>\n",
       "      <td>3</td>\n",
       "      <td>3</td>\n",
       "      <td>95.0</td>\n",
       "    </tr>\n",
       "    <tr>\n",
       "      <th>7695</th>\n",
       "      <td>28.0</td>\n",
       "      <td>3.502687</td>\n",
       "      <td>3315.1</td>\n",
       "      <td>5.6</td>\n",
       "      <td>0</td>\n",
       "      <td>0</td>\n",
       "      <td>0</td>\n",
       "      <td>3</td>\n",
       "      <td>1</td>\n",
       "      <td>95.0</td>\n",
       "    </tr>\n",
       "    <tr>\n",
       "      <th>7696</th>\n",
       "      <td>23.0</td>\n",
       "      <td>3.300000</td>\n",
       "      <td>4437.8</td>\n",
       "      <td>0.9</td>\n",
       "      <td>1</td>\n",
       "      <td>2</td>\n",
       "      <td>1</td>\n",
       "      <td>3</td>\n",
       "      <td>3</td>\n",
       "      <td>87.0</td>\n",
       "    </tr>\n",
       "    <tr>\n",
       "      <th>7697</th>\n",
       "      <td>36.0</td>\n",
       "      <td>3.400000</td>\n",
       "      <td>4600.8</td>\n",
       "      <td>19.6</td>\n",
       "      <td>1</td>\n",
       "      <td>0</td>\n",
       "      <td>2</td>\n",
       "      <td>1</td>\n",
       "      <td>0</td>\n",
       "      <td>88.0</td>\n",
       "    </tr>\n",
       "  </tbody>\n",
       "</table>\n",
       "</div>"
      ],
      "text/plain": [
       "      EDAD    AVG_DH  MINUTES_DH  EXPERIENCIA  GENERO  RESIDENCIA  NV_ESTUDIO  \\\n",
       "7693  29.0  4.000000      4701.6          9.1       1           0           1   \n",
       "7694  34.0  3.400000      4646.2         16.8       1           0           2   \n",
       "7695  28.0  3.502687      3315.1          5.6       0           0           0   \n",
       "7696  23.0  3.300000      4437.8          0.9       1           2           1   \n",
       "7697  36.0  3.400000      4600.8         19.6       1           0           2   \n",
       "\n",
       "      ESTUDIO_PREV  TRACK_DH  DIAS_EMP  \n",
       "7693             2         0      86.0  \n",
       "7694             3         3      95.0  \n",
       "7695             3         1      95.0  \n",
       "7696             3         3      87.0  \n",
       "7697             1         0      88.0  "
      ]
     },
     "execution_count": 225,
     "metadata": {},
     "output_type": "execute_result"
    }
   ],
   "source": [
    "new_index = ['EDAD', 'AVG_DH', 'MINUTES_DH', 'EXPERIENCIA', 'GENERO', 'RESIDENCIA', 'NV_ESTUDIO', 'ESTUDIO_PREV', 'TRACK_DH', 'DIAS_EMP']\n",
    "df_training_dataset_3  = df_training_dataset_3.reindex(new_index, axis='columns')\n",
    "df_training_dataset_3.tail()"
   ]
  },
  {
   "cell_type": "markdown",
   "metadata": {},
   "source": [
    "#### Matriz de correlaciones"
   ]
  },
  {
   "cell_type": "code",
   "execution_count": 226,
   "metadata": {},
   "outputs": [
    {
     "data": {
      "image/png": "[encoded data removed]",
      "text/plain": [
       "<Figure size 1080x936 with 2 Axes>"
      ]
     },
     "metadata": {
      "needs_background": "light"
     },
     "output_type": "display_data"
    }
   ],
   "source": [
    "#Using Pearson Correlation\n",
    "plt.figure(figsize=(15,13))\n",
    "cor = df_training_dataset_3.corr()\n",
    "sns.heatmap(cor, annot=True, cmap=plt.cm.copper)\n",
    "plt.show()"
   ]
  },
  {
   "cell_type": "code",
   "execution_count": 227,
   "metadata": {},
   "outputs": [
    {
     "data": {
      "text/plain": [
       "EDAD            0.394328\n",
       "AVG_DH          0.061510\n",
       "MINUTES_DH      0.070740\n",
       "EXPERIENCIA     0.389879\n",
       "GENERO          0.745246\n",
       "RESIDENCIA      0.007748\n",
       "NV_ESTUDIO      0.066146\n",
       "ESTUDIO_PREV    0.081078\n",
       "TRACK_DH        0.001872\n",
       "DIAS_EMP        1.000000\n",
       "Name: DIAS_EMP, dtype: float64"
      ]
     },
     "execution_count": 227,
     "metadata": {},
     "output_type": "execute_result"
    }
   ],
   "source": [
    "#Correlation with output variable\n",
    "cor_target = abs(cor[\"DIAS_EMP\"])#Selecting highly correlated features\n",
    "relevant_features = cor_target[cor_target>0.0]\n",
    "relevant_features"
   ]
  },
  {
   "cell_type": "code",
   "execution_count": 228,
   "metadata": {},
   "outputs": [
    {
     "name": "stdout",
     "output_type": "stream",
     "text": [
      "              AVG_DH  MINUTES_DH\n",
      "AVG_DH      1.000000    0.751732\n",
      "MINUTES_DH  0.751732    1.000000\n",
      "                 EDAD  EXPERIENCIA\n",
      "EDAD         1.000000     0.876843\n",
      "EXPERIENCIA  0.876843     1.000000\n"
     ]
    }
   ],
   "source": [
    "print(df_training_dataset_3[[\"AVG_DH\",\"MINUTES_DH\"]].corr())\n",
    "print(df_training_dataset_3[[\"EDAD\",\"EXPERIENCIA\"]].corr())"
   ]
  },
  {
   "cell_type": "markdown",
   "metadata": {},
   "source": [
    "### Codificando variables categóricas"
   ]
  },
  {
   "cell_type": "code",
   "execution_count": 229,
   "metadata": {},
   "outputs": [
    {
     "data": {
      "text/html": [
       "<div>\n",
       "<style scoped>\n",
       "    .dataframe tbody tr th:only-of-type {\n",
       "        vertical-align: middle;\n",
       "    }\n",
       "\n",
       "    .dataframe tbody tr th {\n",
       "        vertical-align: top;\n",
       "    }\n",
       "\n",
       "    .dataframe thead th {\n",
       "        text-align: right;\n",
       "    }\n",
       "</style>\n",
       "<table border=\"1\" class=\"dataframe\">\n",
       "  <thead>\n",
       "    <tr style=\"text-align: right;\">\n",
       "      <th></th>\n",
       "      <th>EDAD</th>\n",
       "      <th>MINUTES_DH</th>\n",
       "      <th>GENERO</th>\n",
       "      <th>NV_ESTUDIO</th>\n",
       "      <th>ESTUDIO_PREV</th>\n",
       "      <th>DIAS_EMP</th>\n",
       "    </tr>\n",
       "  </thead>\n",
       "  <tbody>\n",
       "    <tr>\n",
       "      <th>7693</th>\n",
       "      <td>29.0</td>\n",
       "      <td>4701.6</td>\n",
       "      <td>1</td>\n",
       "      <td>1</td>\n",
       "      <td>2</td>\n",
       "      <td>86.0</td>\n",
       "    </tr>\n",
       "    <tr>\n",
       "      <th>7694</th>\n",
       "      <td>34.0</td>\n",
       "      <td>4646.2</td>\n",
       "      <td>1</td>\n",
       "      <td>2</td>\n",
       "      <td>3</td>\n",
       "      <td>95.0</td>\n",
       "    </tr>\n",
       "    <tr>\n",
       "      <th>7695</th>\n",
       "      <td>28.0</td>\n",
       "      <td>3315.1</td>\n",
       "      <td>0</td>\n",
       "      <td>0</td>\n",
       "      <td>3</td>\n",
       "      <td>95.0</td>\n",
       "    </tr>\n",
       "    <tr>\n",
       "      <th>7696</th>\n",
       "      <td>23.0</td>\n",
       "      <td>4437.8</td>\n",
       "      <td>1</td>\n",
       "      <td>1</td>\n",
       "      <td>3</td>\n",
       "      <td>87.0</td>\n",
       "    </tr>\n",
       "    <tr>\n",
       "      <th>7697</th>\n",
       "      <td>36.0</td>\n",
       "      <td>4600.8</td>\n",
       "      <td>1</td>\n",
       "      <td>2</td>\n",
       "      <td>1</td>\n",
       "      <td>88.0</td>\n",
       "    </tr>\n",
       "  </tbody>\n",
       "</table>\n",
       "</div>"
      ],
      "text/plain": [
       "      EDAD  MINUTES_DH  GENERO  NV_ESTUDIO  ESTUDIO_PREV  DIAS_EMP\n",
       "7693  29.0      4701.6       1           1             2      86.0\n",
       "7694  34.0      4646.2       1           2             3      95.0\n",
       "7695  28.0      3315.1       0           0             3      95.0\n",
       "7696  23.0      4437.8       1           1             3      87.0\n",
       "7697  36.0      4600.8       1           2             1      88.0"
      ]
     },
     "execution_count": 229,
     "metadata": {},
     "output_type": "execute_result"
    }
   ],
   "source": [
    "df_training_dataset_4 = df_training_dataset_3.drop(columns=['EXPERIENCIA', 'AVG_DH', 'RESIDENCIA', 'TRACK_DH'], inplace=False)\n",
    "df_training_dataset_4.tail()"
   ]
  },
  {
   "cell_type": "code",
   "execution_count": 230,
   "metadata": {},
   "outputs": [
    {
     "data": {
      "text/html": [
       "<div>\n",
       "<style scoped>\n",
       "    .dataframe tbody tr th:only-of-type {\n",
       "        vertical-align: middle;\n",
       "    }\n",
       "\n",
       "    .dataframe tbody tr th {\n",
       "        vertical-align: top;\n",
       "    }\n",
       "\n",
       "    .dataframe thead th {\n",
       "        text-align: right;\n",
       "    }\n",
       "</style>\n",
       "<table border=\"1\" class=\"dataframe\">\n",
       "  <thead>\n",
       "    <tr style=\"text-align: right;\">\n",
       "      <th></th>\n",
       "      <th>EDAD</th>\n",
       "      <th>MINUTES_DH</th>\n",
       "      <th>DIAS_EMP</th>\n",
       "      <th>GENERO_0</th>\n",
       "      <th>GENERO_1</th>\n",
       "      <th>ESTUDIO_PREV_0</th>\n",
       "      <th>ESTUDIO_PREV_1</th>\n",
       "      <th>ESTUDIO_PREV_2</th>\n",
       "      <th>ESTUDIO_PREV_3</th>\n",
       "      <th>ESTUDIO_PREV_4</th>\n",
       "      <th>NV_ESTUDIO_0</th>\n",
       "      <th>NV_ESTUDIO_1</th>\n",
       "      <th>NV_ESTUDIO_2</th>\n",
       "    </tr>\n",
       "  </thead>\n",
       "  <tbody>\n",
       "    <tr>\n",
       "      <th>7693</th>\n",
       "      <td>29.0</td>\n",
       "      <td>4701.6</td>\n",
       "      <td>86.0</td>\n",
       "      <td>0</td>\n",
       "      <td>1</td>\n",
       "      <td>0</td>\n",
       "      <td>0</td>\n",
       "      <td>1</td>\n",
       "      <td>0</td>\n",
       "      <td>0</td>\n",
       "      <td>0</td>\n",
       "      <td>1</td>\n",
       "      <td>0</td>\n",
       "    </tr>\n",
       "    <tr>\n",
       "      <th>7694</th>\n",
       "      <td>34.0</td>\n",
       "      <td>4646.2</td>\n",
       "      <td>95.0</td>\n",
       "      <td>0</td>\n",
       "      <td>1</td>\n",
       "      <td>0</td>\n",
       "      <td>0</td>\n",
       "      <td>0</td>\n",
       "      <td>1</td>\n",
       "      <td>0</td>\n",
       "      <td>0</td>\n",
       "      <td>0</td>\n",
       "      <td>1</td>\n",
       "    </tr>\n",
       "    <tr>\n",
       "      <th>7695</th>\n",
       "      <td>28.0</td>\n",
       "      <td>3315.1</td>\n",
       "      <td>95.0</td>\n",
       "      <td>1</td>\n",
       "      <td>0</td>\n",
       "      <td>0</td>\n",
       "      <td>0</td>\n",
       "      <td>0</td>\n",
       "      <td>1</td>\n",
       "      <td>0</td>\n",
       "      <td>1</td>\n",
       "      <td>0</td>\n",
       "      <td>0</td>\n",
       "    </tr>\n",
       "    <tr>\n",
       "      <th>7696</th>\n",
       "      <td>23.0</td>\n",
       "      <td>4437.8</td>\n",
       "      <td>87.0</td>\n",
       "      <td>0</td>\n",
       "      <td>1</td>\n",
       "      <td>0</td>\n",
       "      <td>0</td>\n",
       "      <td>0</td>\n",
       "      <td>1</td>\n",
       "      <td>0</td>\n",
       "      <td>0</td>\n",
       "      <td>1</td>\n",
       "      <td>0</td>\n",
       "    </tr>\n",
       "    <tr>\n",
       "      <th>7697</th>\n",
       "      <td>36.0</td>\n",
       "      <td>4600.8</td>\n",
       "      <td>88.0</td>\n",
       "      <td>0</td>\n",
       "      <td>1</td>\n",
       "      <td>0</td>\n",
       "      <td>1</td>\n",
       "      <td>0</td>\n",
       "      <td>0</td>\n",
       "      <td>0</td>\n",
       "      <td>0</td>\n",
       "      <td>0</td>\n",
       "      <td>1</td>\n",
       "    </tr>\n",
       "  </tbody>\n",
       "</table>\n",
       "</div>"
      ],
      "text/plain": [
       "      EDAD  MINUTES_DH  DIAS_EMP  GENERO_0  GENERO_1  ESTUDIO_PREV_0  \\\n",
       "7693  29.0      4701.6      86.0         0         1               0   \n",
       "7694  34.0      4646.2      95.0         0         1               0   \n",
       "7695  28.0      3315.1      95.0         1         0               0   \n",
       "7696  23.0      4437.8      87.0         0         1               0   \n",
       "7697  36.0      4600.8      88.0         0         1               0   \n",
       "\n",
       "      ESTUDIO_PREV_1  ESTUDIO_PREV_2  ESTUDIO_PREV_3  ESTUDIO_PREV_4  \\\n",
       "7693               0               1               0               0   \n",
       "7694               0               0               1               0   \n",
       "7695               0               0               1               0   \n",
       "7696               0               0               1               0   \n",
       "7697               1               0               0               0   \n",
       "\n",
       "      NV_ESTUDIO_0  NV_ESTUDIO_1  NV_ESTUDIO_2  \n",
       "7693             0             1             0  \n",
       "7694             0             0             1  \n",
       "7695             1             0             0  \n",
       "7696             0             1             0  \n",
       "7697             0             0             1  "
      ]
     },
     "execution_count": 230,
     "metadata": {},
     "output_type": "execute_result"
    }
   ],
   "source": [
    "# Columnas One-hot-encoding del dataset usando el metodo de Pandas ``get_dummies`` (demontración)\n",
    "df_training_dataset_5 = pd.get_dummies(df_training_dataset_4, columns=['GENERO', 'ESTUDIO_PREV', 'NV_ESTUDIO'])\n",
    "df_training_dataset_5.tail()"
   ]
  },
  {
   "cell_type": "markdown",
   "metadata": {},
   "source": [
    "### Seleccionando las columnas \"features\" y \"target\""
   ]
  },
  {
   "cell_type": "code",
   "execution_count": 231,
   "metadata": {},
   "outputs": [
    {
     "data": {
      "text/plain": [
       "12"
      ]
     },
     "execution_count": 231,
     "metadata": {},
     "output_type": "execute_result"
    }
   ],
   "source": [
    "features_columns = np.array(df_training_dataset_5.columns)\n",
    "features_columns = np.delete(features_columns, np.where(features_columns == 'DIAS_EMP'))\n",
    "len(features_columns)"
   ]
  },
  {
   "cell_type": "code",
   "execution_count": 232,
   "metadata": {},
   "outputs": [],
   "source": [
    "features = df_training_dataset_5[\n",
    "    features_columns\n",
    "]\n",
    "\n",
    "target = df_training_dataset_5['DIAS_EMP']\n",
    "\n",
    "sc_features = 2"
   ]
  },
  {
   "cell_type": "markdown",
   "metadata": {},
   "source": [
    "#### CrossValidation"
   ]
  },
  {
   "cell_type": "code",
   "execution_count": 233,
   "metadata": {},
   "outputs": [],
   "source": [
    "X_train, X_test, y_train, y_test = train_test_split(features, target, train_size=0.99, random_state=0)"
   ]
  },
  {
   "cell_type": "code",
   "execution_count": 234,
   "metadata": {},
   "outputs": [
    {
     "name": "stderr",
     "output_type": "stream",
     "text": [
      "/opt/conda/envs/Python36/lib/python3.6/site-packages/pandas/core/indexing.py:1736: SettingWithCopyWarning: \n",
      "A value is trying to be set on a copy of a slice from a DataFrame.\n",
      "Try using .loc[row_indexer,col_indexer] = value instead\n",
      "\n",
      "See the caveats in the documentation: https://pandas.pydata.org/pandas-docs/stable/user_guide/indexing.html#returning-a-view-versus-a-copy\n",
      "  isetter(loc, value[:, i].tolist())\n",
      "/opt/conda/envs/Python36/lib/python3.6/site-packages/pandas/core/indexing.py:1736: SettingWithCopyWarning: \n",
      "A value is trying to be set on a copy of a slice from a DataFrame.\n",
      "Try using .loc[row_indexer,col_indexer] = value instead\n",
      "\n",
      "See the caveats in the documentation: https://pandas.pydata.org/pandas-docs/stable/user_guide/indexing.html#returning-a-view-versus-a-copy\n",
      "  isetter(loc, value[:, i].tolist())\n"
     ]
    }
   ],
   "source": [
    "sc = StandardScaler()\n",
    "X_train.iloc[:, :sc_features] = sc.fit_transform(X_train.iloc[:, :sc_features])\n",
    "X_test.iloc[:, :sc_features] = sc.transform(X_test.iloc[:, :sc_features])"
   ]
  },
  {
   "cell_type": "code",
   "execution_count": 235,
   "metadata": {},
   "outputs": [
    {
     "data": {
      "text/html": [
       "<div>\n",
       "<style scoped>\n",
       "    .dataframe tbody tr th:only-of-type {\n",
       "        vertical-align: middle;\n",
       "    }\n",
       "\n",
       "    .dataframe tbody tr th {\n",
       "        vertical-align: top;\n",
       "    }\n",
       "\n",
       "    .dataframe thead th {\n",
       "        text-align: right;\n",
       "    }\n",
       "</style>\n",
       "<table border=\"1\" class=\"dataframe\">\n",
       "  <thead>\n",
       "    <tr style=\"text-align: right;\">\n",
       "      <th></th>\n",
       "      <th>EDAD</th>\n",
       "      <th>MINUTES_DH</th>\n",
       "      <th>GENERO_0</th>\n",
       "      <th>GENERO_1</th>\n",
       "      <th>ESTUDIO_PREV_0</th>\n",
       "      <th>ESTUDIO_PREV_1</th>\n",
       "      <th>ESTUDIO_PREV_2</th>\n",
       "      <th>ESTUDIO_PREV_3</th>\n",
       "      <th>ESTUDIO_PREV_4</th>\n",
       "      <th>NV_ESTUDIO_0</th>\n",
       "      <th>NV_ESTUDIO_1</th>\n",
       "      <th>NV_ESTUDIO_2</th>\n",
       "    </tr>\n",
       "  </thead>\n",
       "  <tbody>\n",
       "    <tr>\n",
       "      <th>7151</th>\n",
       "      <td>-0.000595</td>\n",
       "      <td>1.712928</td>\n",
       "      <td>1</td>\n",
       "      <td>0</td>\n",
       "      <td>0</td>\n",
       "      <td>0</td>\n",
       "      <td>1</td>\n",
       "      <td>0</td>\n",
       "      <td>0</td>\n",
       "      <td>0</td>\n",
       "      <td>0</td>\n",
       "      <td>1</td>\n",
       "    </tr>\n",
       "    <tr>\n",
       "      <th>5338</th>\n",
       "      <td>-0.004982</td>\n",
       "      <td>-0.104184</td>\n",
       "      <td>0</td>\n",
       "      <td>1</td>\n",
       "      <td>0</td>\n",
       "      <td>0</td>\n",
       "      <td>0</td>\n",
       "      <td>1</td>\n",
       "      <td>0</td>\n",
       "      <td>0</td>\n",
       "      <td>0</td>\n",
       "      <td>1</td>\n",
       "    </tr>\n",
       "    <tr>\n",
       "      <th>4807</th>\n",
       "      <td>1.052832</td>\n",
       "      <td>0.301965</td>\n",
       "      <td>0</td>\n",
       "      <td>1</td>\n",
       "      <td>0</td>\n",
       "      <td>1</td>\n",
       "      <td>0</td>\n",
       "      <td>0</td>\n",
       "      <td>0</td>\n",
       "      <td>0</td>\n",
       "      <td>1</td>\n",
       "      <td>0</td>\n",
       "    </tr>\n",
       "    <tr>\n",
       "      <th>6319</th>\n",
       "      <td>-0.004982</td>\n",
       "      <td>0.932819</td>\n",
       "      <td>1</td>\n",
       "      <td>0</td>\n",
       "      <td>0</td>\n",
       "      <td>1</td>\n",
       "      <td>0</td>\n",
       "      <td>0</td>\n",
       "      <td>0</td>\n",
       "      <td>0</td>\n",
       "      <td>1</td>\n",
       "      <td>0</td>\n",
       "    </tr>\n",
       "    <tr>\n",
       "      <th>3760</th>\n",
       "      <td>-0.851233</td>\n",
       "      <td>0.619545</td>\n",
       "      <td>1</td>\n",
       "      <td>0</td>\n",
       "      <td>0</td>\n",
       "      <td>0</td>\n",
       "      <td>0</td>\n",
       "      <td>1</td>\n",
       "      <td>0</td>\n",
       "      <td>0</td>\n",
       "      <td>0</td>\n",
       "      <td>1</td>\n",
       "    </tr>\n",
       "  </tbody>\n",
       "</table>\n",
       "</div>"
      ],
      "text/plain": [
       "          EDAD  MINUTES_DH  GENERO_0  GENERO_1  ESTUDIO_PREV_0  \\\n",
       "7151 -0.000595    1.712928         1         0               0   \n",
       "5338 -0.004982   -0.104184         0         1               0   \n",
       "4807  1.052832    0.301965         0         1               0   \n",
       "6319 -0.004982    0.932819         1         0               0   \n",
       "3760 -0.851233    0.619545         1         0               0   \n",
       "\n",
       "      ESTUDIO_PREV_1  ESTUDIO_PREV_2  ESTUDIO_PREV_3  ESTUDIO_PREV_4  \\\n",
       "7151               0               1               0               0   \n",
       "5338               0               0               1               0   \n",
       "4807               1               0               0               0   \n",
       "6319               1               0               0               0   \n",
       "3760               0               0               1               0   \n",
       "\n",
       "      NV_ESTUDIO_0  NV_ESTUDIO_1  NV_ESTUDIO_2  \n",
       "7151             0             0             1  \n",
       "5338             0             0             1  \n",
       "4807             0             1             0  \n",
       "6319             0             1             0  \n",
       "3760             0             0             1  "
      ]
     },
     "execution_count": 235,
     "metadata": {},
     "output_type": "execute_result"
    }
   ],
   "source": [
    "X_train.head()"
   ]
  },
  {
   "cell_type": "markdown",
   "metadata": {},
   "source": [
    "#### Test model"
   ]
  },
  {
   "cell_type": "code",
   "execution_count": 236,
   "metadata": {},
   "outputs": [],
   "source": [
    "regressor = LinearRegression()"
   ]
  },
  {
   "cell_type": "code",
   "execution_count": 111,
   "metadata": {},
   "outputs": [],
   "source": [
    "regressor = SVR(kernel='rbf')"
   ]
  },
  {
   "cell_type": "markdown",
   "metadata": {},
   "source": [
    "#### CrossValScore"
   ]
  },
  {
   "cell_type": "code",
   "execution_count": 237,
   "metadata": {},
   "outputs": [],
   "source": [
    "all_accuracies = cross_val_score(estimator=regressor, X=X_train, y=y_train, cv=10)"
   ]
  },
  {
   "cell_type": "code",
   "execution_count": 238,
   "metadata": {},
   "outputs": [
    {
     "name": "stdout",
     "output_type": "stream",
     "text": [
      "[0.78703157 0.74599328 0.76156427 0.79995941 0.76347858 0.78940521\n",
      " 0.77795725 0.7799718  0.78400365 0.77405124]\n"
     ]
    }
   ],
   "source": [
    "print(all_accuracies)"
   ]
  },
  {
   "cell_type": "code",
   "execution_count": 239,
   "metadata": {},
   "outputs": [
    {
     "name": "stdout",
     "output_type": "stream",
     "text": [
      "0.7763416259154738\n"
     ]
    }
   ],
   "source": [
    "print(all_accuracies.mean())"
   ]
  },
  {
   "cell_type": "markdown",
   "metadata": {},
   "source": [
    "#### KFolds"
   ]
  },
  {
   "cell_type": "code",
   "execution_count": 240,
   "metadata": {},
   "outputs": [
    {
     "name": "stderr",
     "output_type": "stream",
     "text": [
      "/opt/conda/envs/Python36/lib/python3.6/site-packages/sklearn/model_selection/_split.py:672: UserWarning: The least populated class in y has only 1 members, which is less than n_splits=10.\n",
      "  % (min_groups, self.n_splits)), UserWarning)\n"
     ]
    }
   ],
   "source": [
    "skf = StratifiedKFold(n_splits=10, shuffle=True, random_state=1)  \n",
    "\n",
    "all_accuracies = cross_val_score(estimator=regressor, X=X_train, y=y_train, cv=skf)"
   ]
  },
  {
   "cell_type": "code",
   "execution_count": 241,
   "metadata": {},
   "outputs": [
    {
     "name": "stdout",
     "output_type": "stream",
     "text": [
      "[0.77384451 0.79125845 0.78060583 0.77863179 0.75667844 0.78563369\n",
      " 0.7761847  0.78942634 0.77011459 0.76841992]\n"
     ]
    }
   ],
   "source": [
    "print(all_accuracies)"
   ]
  },
  {
   "cell_type": "code",
   "execution_count": 242,
   "metadata": {},
   "outputs": [
    {
     "name": "stdout",
     "output_type": "stream",
     "text": [
      "0.7770798260222876\n"
     ]
    }
   ],
   "source": [
    "print(all_accuracies.mean())"
   ]
  },
  {
   "cell_type": "markdown",
   "metadata": {},
   "source": [
    "### Dividiendo el conjunto de datos para una \"prueba ciega\""
   ]
  },
  {
   "cell_type": "code",
   "execution_count": 243,
   "metadata": {},
   "outputs": [],
   "source": [
    "X_train, X_test, y_train, y_test = train_test_split(features, target, train_size=0.8, random_state=337)"
   ]
  },
  {
   "cell_type": "code",
   "execution_count": 244,
   "metadata": {},
   "outputs": [
    {
     "name": "stderr",
     "output_type": "stream",
     "text": [
      "/opt/conda/envs/Python36/lib/python3.6/site-packages/pandas/core/indexing.py:1736: SettingWithCopyWarning: \n",
      "A value is trying to be set on a copy of a slice from a DataFrame.\n",
      "Try using .loc[row_indexer,col_indexer] = value instead\n",
      "\n",
      "See the caveats in the documentation: https://pandas.pydata.org/pandas-docs/stable/user_guide/indexing.html#returning-a-view-versus-a-copy\n",
      "  isetter(loc, value[:, i].tolist())\n",
      "/opt/conda/envs/Python36/lib/python3.6/site-packages/pandas/core/indexing.py:1736: SettingWithCopyWarning: \n",
      "A value is trying to be set on a copy of a slice from a DataFrame.\n",
      "Try using .loc[row_indexer,col_indexer] = value instead\n",
      "\n",
      "See the caveats in the documentation: https://pandas.pydata.org/pandas-docs/stable/user_guide/indexing.html#returning-a-view-versus-a-copy\n",
      "  isetter(loc, value[:, i].tolist())\n"
     ]
    }
   ],
   "source": [
    "sc = StandardScaler()\n",
    "X_train.iloc[:, :sc_features] = sc.fit_transform(X_train.iloc[:, :sc_features])\n",
    "X_test.iloc[:, :sc_features] = sc.transform(X_test.iloc[:, :sc_features])"
   ]
  },
  {
   "cell_type": "code",
   "execution_count": 245,
   "metadata": {},
   "outputs": [
    {
     "data": {
      "text/html": [
       "<div>\n",
       "<style scoped>\n",
       "    .dataframe tbody tr th:only-of-type {\n",
       "        vertical-align: middle;\n",
       "    }\n",
       "\n",
       "    .dataframe tbody tr th {\n",
       "        vertical-align: top;\n",
       "    }\n",
       "\n",
       "    .dataframe thead th {\n",
       "        text-align: right;\n",
       "    }\n",
       "</style>\n",
       "<table border=\"1\" class=\"dataframe\">\n",
       "  <thead>\n",
       "    <tr style=\"text-align: right;\">\n",
       "      <th></th>\n",
       "      <th>EDAD</th>\n",
       "      <th>MINUTES_DH</th>\n",
       "      <th>GENERO_0</th>\n",
       "      <th>GENERO_1</th>\n",
       "      <th>ESTUDIO_PREV_0</th>\n",
       "      <th>ESTUDIO_PREV_1</th>\n",
       "      <th>ESTUDIO_PREV_2</th>\n",
       "      <th>ESTUDIO_PREV_3</th>\n",
       "      <th>ESTUDIO_PREV_4</th>\n",
       "      <th>NV_ESTUDIO_0</th>\n",
       "      <th>NV_ESTUDIO_1</th>\n",
       "      <th>NV_ESTUDIO_2</th>\n",
       "    </tr>\n",
       "  </thead>\n",
       "  <tbody>\n",
       "    <tr>\n",
       "      <th>5779</th>\n",
       "      <td>0.210914</td>\n",
       "      <td>0.420802</td>\n",
       "      <td>0</td>\n",
       "      <td>1</td>\n",
       "      <td>0</td>\n",
       "      <td>0</td>\n",
       "      <td>1</td>\n",
       "      <td>0</td>\n",
       "      <td>0</td>\n",
       "      <td>0</td>\n",
       "      <td>0</td>\n",
       "      <td>1</td>\n",
       "    </tr>\n",
       "    <tr>\n",
       "      <th>4348</th>\n",
       "      <td>0.848746</td>\n",
       "      <td>0.551427</td>\n",
       "      <td>0</td>\n",
       "      <td>1</td>\n",
       "      <td>0</td>\n",
       "      <td>0</td>\n",
       "      <td>0</td>\n",
       "      <td>1</td>\n",
       "      <td>0</td>\n",
       "      <td>0</td>\n",
       "      <td>0</td>\n",
       "      <td>1</td>\n",
       "    </tr>\n",
       "    <tr>\n",
       "      <th>806</th>\n",
       "      <td>0.848746</td>\n",
       "      <td>0.232188</td>\n",
       "      <td>0</td>\n",
       "      <td>1</td>\n",
       "      <td>0</td>\n",
       "      <td>0</td>\n",
       "      <td>0</td>\n",
       "      <td>1</td>\n",
       "      <td>0</td>\n",
       "      <td>0</td>\n",
       "      <td>0</td>\n",
       "      <td>1</td>\n",
       "    </tr>\n",
       "    <tr>\n",
       "      <th>4484</th>\n",
       "      <td>0.210914</td>\n",
       "      <td>1.216761</td>\n",
       "      <td>0</td>\n",
       "      <td>1</td>\n",
       "      <td>0</td>\n",
       "      <td>0</td>\n",
       "      <td>0</td>\n",
       "      <td>1</td>\n",
       "      <td>0</td>\n",
       "      <td>0</td>\n",
       "      <td>0</td>\n",
       "      <td>1</td>\n",
       "    </tr>\n",
       "    <tr>\n",
       "      <th>4098</th>\n",
       "      <td>-0.852140</td>\n",
       "      <td>-1.569912</td>\n",
       "      <td>0</td>\n",
       "      <td>1</td>\n",
       "      <td>0</td>\n",
       "      <td>0</td>\n",
       "      <td>0</td>\n",
       "      <td>1</td>\n",
       "      <td>0</td>\n",
       "      <td>0</td>\n",
       "      <td>0</td>\n",
       "      <td>1</td>\n",
       "    </tr>\n",
       "  </tbody>\n",
       "</table>\n",
       "</div>"
      ],
      "text/plain": [
       "          EDAD  MINUTES_DH  GENERO_0  GENERO_1  ESTUDIO_PREV_0  \\\n",
       "5779  0.210914    0.420802         0         1               0   \n",
       "4348  0.848746    0.551427         0         1               0   \n",
       "806   0.848746    0.232188         0         1               0   \n",
       "4484  0.210914    1.216761         0         1               0   \n",
       "4098 -0.852140   -1.569912         0         1               0   \n",
       "\n",
       "      ESTUDIO_PREV_1  ESTUDIO_PREV_2  ESTUDIO_PREV_3  ESTUDIO_PREV_4  \\\n",
       "5779               0               1               0               0   \n",
       "4348               0               0               1               0   \n",
       "806                0               0               1               0   \n",
       "4484               0               0               1               0   \n",
       "4098               0               0               1               0   \n",
       "\n",
       "      NV_ESTUDIO_0  NV_ESTUDIO_1  NV_ESTUDIO_2  \n",
       "5779             0             0             1  \n",
       "4348             0             0             1  \n",
       "806              0             0             1  \n",
       "4484             0             0             1  \n",
       "4098             0             0             1  "
      ]
     },
     "execution_count": 245,
     "metadata": {},
     "output_type": "execute_result"
    }
   ],
   "source": [
    "X_test.tail()"
   ]
  },
  {
   "cell_type": "markdown",
   "metadata": {},
   "source": [
    "### Entrenando un modelo de regresión lineal simple"
   ]
  },
  {
   "cell_type": "code",
   "execution_count": 246,
   "metadata": {},
   "outputs": [],
   "source": [
    "regression_model = LinearRegression().fit(X_train, y_train)"
   ]
  },
  {
   "cell_type": "markdown",
   "metadata": {},
   "source": [
    "### Evaluando el modelo de regresión con el método  \"score()\" de sklearn"
   ]
  },
  {
   "cell_type": "code",
   "execution_count": 247,
   "metadata": {},
   "outputs": [
    {
     "data": {
      "text/plain": [
       "0.7951621465189022"
      ]
     },
     "execution_count": 247,
     "metadata": {},
     "output_type": "execute_result"
    }
   ],
   "source": [
    "regression_model.score(X_test, y_test)"
   ]
  },
  {
   "cell_type": "code",
   "execution_count": 248,
   "metadata": {},
   "outputs": [],
   "source": [
    "y_pred = regression_model.predict(X_test)"
   ]
  },
  {
   "cell_type": "code",
   "execution_count": 249,
   "metadata": {},
   "outputs": [
    {
     "name": "stdout",
     "output_type": "stream",
     "text": [
      "Coefficients: \n",
      " [ 2.24939835 -0.45123961  4.71525844 -4.71525844  1.65953528 -1.40717552\n",
      " -0.76651502 -2.20007746  2.71423271 -1.26315476  1.91588963 -0.65273487]\n",
      "Mean squared error: 6.85\n",
      "Coefficient of determination: 0.80\n"
     ]
    }
   ],
   "source": [
    "# The coefficients\n",
    "print('Coefficients: \\n', regression_model.coef_)\n",
    "# The mean squared error\n",
    "print('Mean squared error: %.2f'\n",
    "      % mean_squared_error(y_test, y_pred))\n",
    "# The coefficient of determination: 1 is perfect prediction\n",
    "print('Coefficient of determination: %.2f'\n",
    "      % r2_score(y_test, y_pred))\n",
    "\n"
   ]
  },
  {
   "cell_type": "markdown",
   "metadata": {},
   "source": [
    "<hr>"
   ]
  },
  {
   "cell_type": "markdown",
   "metadata": {},
   "source": [
    "## Completar los datos necesarios para entregar la solución\n",
    "\n",
    "### Como entrega de su solución, esperamos los resultados numéricos predichos por su modelo. Como entrada utilizará el archivo \"to_be_scored.csv\""
   ]
  },
  {
   "cell_type": "code",
   "execution_count": 250,
   "metadata": {},
   "outputs": [
    {
     "name": "stdout",
     "output_type": "stream",
     "text": [
      "--2020-09-17 22:49:22--  https://raw.githubusercontent.com/vanderlei-test/654986294958/master/to_be_scored_digitalhouse.csv\r\n",
      "Resolving raw.githubusercontent.com (raw.githubusercontent.com)... 151.101.48.133\r\n",
      "Connecting to raw.githubusercontent.com (raw.githubusercontent.com)|151.101.48.133|:443... connected.\r\n",
      "HTTP request sent, awaiting response... 200 OK\r\n",
      "Length: 67308 (66K) [text/plain]\r\n",
      "Saving to: ‘to_be_scored_digitalhouse.csv.5’\r\n",
      "\r\n",
      "\r",
      " 0% [                                       ] 0           --.-K/s              \r",
      "100%[======================================>] 67,308      --.-K/s   in 0.005s  \r\n",
      "\r\n",
      "2020-09-17 22:49:22 (14.2 MB/s) - ‘to_be_scored_digitalhouse.csv.5’ saved [67308/67308]\r\n",
      "\r\n"
     ]
    },
    {
     "data": {
      "text/html": [
       "<div>\n",
       "<style scoped>\n",
       "    .dataframe tbody tr th:only-of-type {\n",
       "        vertical-align: middle;\n",
       "    }\n",
       "\n",
       "    .dataframe tbody tr th {\n",
       "        vertical-align: top;\n",
       "    }\n",
       "\n",
       "    .dataframe thead th {\n",
       "        text-align: right;\n",
       "    }\n",
       "</style>\n",
       "<table border=\"1\" class=\"dataframe\">\n",
       "  <thead>\n",
       "    <tr style=\"text-align: right;\">\n",
       "      <th></th>\n",
       "      <th>Unnamed: 0</th>\n",
       "      <th>EDAD</th>\n",
       "      <th>GENERO</th>\n",
       "      <th>RESIDENCIA</th>\n",
       "      <th>NV_ESTUDIO</th>\n",
       "      <th>ESTUDIO_PREV</th>\n",
       "      <th>TRACK_DH</th>\n",
       "      <th>AVG_DH</th>\n",
       "      <th>MINUTES_DH</th>\n",
       "      <th>EXPERIENCIA</th>\n",
       "      <th>Unnamed: 10</th>\n",
       "    </tr>\n",
       "  </thead>\n",
       "  <tbody>\n",
       "    <tr>\n",
       "      <th>995</th>\n",
       "      <td>995</td>\n",
       "      <td>33.0</td>\n",
       "      <td>MASCULINO</td>\n",
       "      <td>ARGENTINA</td>\n",
       "      <td>UNIVERSITARY</td>\n",
       "      <td>COMMERCIAL</td>\n",
       "      <td>PROGRAMACION</td>\n",
       "      <td>3.6</td>\n",
       "      <td>4576.5</td>\n",
       "      <td>15.1</td>\n",
       "      <td>NaN</td>\n",
       "    </tr>\n",
       "    <tr>\n",
       "      <th>996</th>\n",
       "      <td>996</td>\n",
       "      <td>40.0</td>\n",
       "      <td>MASCULINO</td>\n",
       "      <td>ARGENTINA</td>\n",
       "      <td>TERTIARY</td>\n",
       "      <td>COMMERCIAL</td>\n",
       "      <td>PROGRAMACION</td>\n",
       "      <td>3.4</td>\n",
       "      <td>4542.9</td>\n",
       "      <td>26.1</td>\n",
       "      <td>NaN</td>\n",
       "    </tr>\n",
       "    <tr>\n",
       "      <th>997</th>\n",
       "      <td>997</td>\n",
       "      <td>NaN</td>\n",
       "      <td>FEMENINO</td>\n",
       "      <td>ARGENTINA</td>\n",
       "      <td>UNIVERSITARY</td>\n",
       "      <td>ENGINEERING</td>\n",
       "      <td>DATA</td>\n",
       "      <td>3.4</td>\n",
       "      <td>NaN</td>\n",
       "      <td>27.4</td>\n",
       "      <td>NaN</td>\n",
       "    </tr>\n",
       "    <tr>\n",
       "      <th>998</th>\n",
       "      <td>998</td>\n",
       "      <td>NaN</td>\n",
       "      <td>MASCULINO</td>\n",
       "      <td>MEXICO</td>\n",
       "      <td>UNIVERSITARY</td>\n",
       "      <td>ENGINEERING</td>\n",
       "      <td>DATA</td>\n",
       "      <td>3.7</td>\n",
       "      <td>4730.4</td>\n",
       "      <td>1.1</td>\n",
       "      <td>NaN</td>\n",
       "    </tr>\n",
       "    <tr>\n",
       "      <th>999</th>\n",
       "      <td>999</td>\n",
       "      <td>36.0</td>\n",
       "      <td>NaN</td>\n",
       "      <td>ARGENTINA</td>\n",
       "      <td>UNIVERSITARY</td>\n",
       "      <td>NaN</td>\n",
       "      <td>PROGRAMACION</td>\n",
       "      <td>3.3</td>\n",
       "      <td>4506.5</td>\n",
       "      <td>20.4</td>\n",
       "      <td>NaN</td>\n",
       "    </tr>\n",
       "  </tbody>\n",
       "</table>\n",
       "</div>"
      ],
      "text/plain": [
       "     Unnamed: 0  EDAD     GENERO RESIDENCIA    NV_ESTUDIO ESTUDIO_PREV  \\\n",
       "995         995  33.0  MASCULINO  ARGENTINA  UNIVERSITARY   COMMERCIAL   \n",
       "996         996  40.0  MASCULINO  ARGENTINA      TERTIARY   COMMERCIAL   \n",
       "997         997   NaN   FEMENINO  ARGENTINA  UNIVERSITARY  ENGINEERING   \n",
       "998         998   NaN  MASCULINO     MEXICO  UNIVERSITARY  ENGINEERING   \n",
       "999         999  36.0        NaN  ARGENTINA  UNIVERSITARY          NaN   \n",
       "\n",
       "         TRACK_DH  AVG_DH  MINUTES_DH  EXPERIENCIA  Unnamed: 10  \n",
       "995  PROGRAMACION     3.6      4576.5         15.1          NaN  \n",
       "996  PROGRAMACION     3.4      4542.9         26.1          NaN  \n",
       "997          DATA     3.4         NaN         27.4          NaN  \n",
       "998          DATA     3.7      4730.4          1.1          NaN  \n",
       "999  PROGRAMACION     3.3      4506.5         20.4          NaN  "
      ]
     },
     "execution_count": 250,
     "metadata": {},
     "output_type": "execute_result"
    }
   ],
   "source": [
    "!wget --no-check-certificate --content-disposition https://raw.githubusercontent.com/vanderlei-test/654986294958/master/to_be_scored_digitalhouse.csv\n",
    "df_to_be_scored = pd.read_csv(r'to_be_scored_digitalhouse.csv')\n",
    "df_to_be_scored.tail()"
   ]
  },
  {
   "cell_type": "code",
   "execution_count": null,
   "metadata": {},
   "outputs": [],
   "source": [
    "Counter(df_to_be_scored['NV_ESTUDIO'])"
   ]
  },
  {
   "cell_type": "code",
   "execution_count": null,
   "metadata": {},
   "outputs": [],
   "source": [
    "Counter(df_to_be_scored['ESTUDIO_PREV'])"
   ]
  },
  {
   "cell_type": "code",
   "execution_count": null,
   "metadata": {},
   "outputs": [],
   "source": [
    "Counter(df_to_be_scored['TRACK_DH'])"
   ]
  },
  {
   "cell_type": "markdown",
   "metadata": {},
   "source": [
    "#### Valores NaN"
   ]
  },
  {
   "cell_type": "code",
   "execution_count": 251,
   "metadata": {},
   "outputs": [],
   "source": [
    "a = df_to_be_scored.isna().sum(axis = 1)"
   ]
  },
  {
   "cell_type": "code",
   "execution_count": 252,
   "metadata": {},
   "outputs": [
    {
     "data": {
      "text/plain": [
       "Counter({2: 372, 1: 233, 4: 104, 3: 256, 5: 29, 6: 5, 8: 1})"
      ]
     },
     "execution_count": 252,
     "metadata": {},
     "output_type": "execute_result"
    }
   ],
   "source": [
    "Counter(a[a>0])"
   ]
  },
  {
   "cell_type": "code",
   "execution_count": 253,
   "metadata": {},
   "outputs": [],
   "source": [
    "for feature in ['EDAD', 'AVG_DH', 'MINUTES_DH', 'EXPERIENCIA']:\n",
    "    df_to_be_scored.loc[:, (feature)].fillna(df_to_be_scored[feature].mean(), inplace=True)"
   ]
  },
  {
   "cell_type": "code",
   "execution_count": 254,
   "metadata": {},
   "outputs": [],
   "source": [
    "for feature in ['GENERO', 'RESIDENCIA', 'NV_ESTUDIO', 'ESTUDIO_PREV', 'TRACK_DH']:\n",
    "    df_to_be_scored[feature].fillna(df_to_be_scored[feature].value_counts().idxmax(), inplace=True)"
   ]
  },
  {
   "cell_type": "code",
   "execution_count": 255,
   "metadata": {},
   "outputs": [
    {
     "name": "stdout",
     "output_type": "stream",
     "text": [
      "Valores nulos del dataSet: \n",
      "\n",
      "Unnamed: 0         0\n",
      "EDAD               0\n",
      "GENERO             0\n",
      "RESIDENCIA         0\n",
      "NV_ESTUDIO         0\n",
      "ESTUDIO_PREV       0\n",
      "TRACK_DH           0\n",
      "AVG_DH             0\n",
      "MINUTES_DH         0\n",
      "EXPERIENCIA        0\n",
      "Unnamed: 10     1000\n",
      "dtype: int64\n",
      "\n"
     ]
    }
   ],
   "source": [
    "print(\"Valores nulos del dataSet: \\n\\n{}\\n\".format(df_to_be_scored.isnull().sum(axis = 0)))"
   ]
  },
  {
   "cell_type": "markdown",
   "metadata": {},
   "source": [
    "#### Drop columns"
   ]
  },
  {
   "cell_type": "code",
   "execution_count": 256,
   "metadata": {},
   "outputs": [
    {
     "data": {
      "text/html": [
       "<div>\n",
       "<style scoped>\n",
       "    .dataframe tbody tr th:only-of-type {\n",
       "        vertical-align: middle;\n",
       "    }\n",
       "\n",
       "    .dataframe tbody tr th {\n",
       "        vertical-align: top;\n",
       "    }\n",
       "\n",
       "    .dataframe thead th {\n",
       "        text-align: right;\n",
       "    }\n",
       "</style>\n",
       "<table border=\"1\" class=\"dataframe\">\n",
       "  <thead>\n",
       "    <tr style=\"text-align: right;\">\n",
       "      <th></th>\n",
       "      <th>EDAD</th>\n",
       "      <th>GENERO</th>\n",
       "      <th>NV_ESTUDIO</th>\n",
       "      <th>ESTUDIO_PREV</th>\n",
       "      <th>MINUTES_DH</th>\n",
       "    </tr>\n",
       "  </thead>\n",
       "  <tbody>\n",
       "    <tr>\n",
       "      <th>995</th>\n",
       "      <td>33.000000</td>\n",
       "      <td>MASCULINO</td>\n",
       "      <td>UNIVERSITARY</td>\n",
       "      <td>COMMERCIAL</td>\n",
       "      <td>4576.500000</td>\n",
       "    </tr>\n",
       "    <tr>\n",
       "      <th>996</th>\n",
       "      <td>40.000000</td>\n",
       "      <td>MASCULINO</td>\n",
       "      <td>TERTIARY</td>\n",
       "      <td>COMMERCIAL</td>\n",
       "      <td>4542.900000</td>\n",
       "    </tr>\n",
       "    <tr>\n",
       "      <th>997</th>\n",
       "      <td>34.192799</td>\n",
       "      <td>FEMENINO</td>\n",
       "      <td>UNIVERSITARY</td>\n",
       "      <td>ENGINEERING</td>\n",
       "      <td>4466.270335</td>\n",
       "    </tr>\n",
       "    <tr>\n",
       "      <th>998</th>\n",
       "      <td>34.192799</td>\n",
       "      <td>MASCULINO</td>\n",
       "      <td>UNIVERSITARY</td>\n",
       "      <td>ENGINEERING</td>\n",
       "      <td>4730.400000</td>\n",
       "    </tr>\n",
       "    <tr>\n",
       "      <th>999</th>\n",
       "      <td>36.000000</td>\n",
       "      <td>MASCULINO</td>\n",
       "      <td>UNIVERSITARY</td>\n",
       "      <td>ENGINEERING</td>\n",
       "      <td>4506.500000</td>\n",
       "    </tr>\n",
       "  </tbody>\n",
       "</table>\n",
       "</div>"
      ],
      "text/plain": [
       "          EDAD     GENERO    NV_ESTUDIO ESTUDIO_PREV   MINUTES_DH\n",
       "995  33.000000  MASCULINO  UNIVERSITARY   COMMERCIAL  4576.500000\n",
       "996  40.000000  MASCULINO      TERTIARY   COMMERCIAL  4542.900000\n",
       "997  34.192799   FEMENINO  UNIVERSITARY  ENGINEERING  4466.270335\n",
       "998  34.192799  MASCULINO  UNIVERSITARY  ENGINEERING  4730.400000\n",
       "999  36.000000  MASCULINO  UNIVERSITARY  ENGINEERING  4506.500000"
      ]
     },
     "execution_count": 256,
     "metadata": {},
     "output_type": "execute_result"
    }
   ],
   "source": [
    "df_to_be_scored_1 = df_to_be_scored.drop(columns=['Unnamed: 0', 'Unnamed: 10', 'EXPERIENCIA', 'AVG_DH', 'RESIDENCIA', 'TRACK_DH'], inplace=False)\n",
    "df_to_be_scored_1.tail()"
   ]
  },
  {
   "cell_type": "markdown",
   "metadata": {},
   "source": [
    "#### One hot encoding"
   ]
  },
  {
   "cell_type": "code",
   "execution_count": 257,
   "metadata": {},
   "outputs": [
    {
     "data": {
      "text/html": [
       "<div>\n",
       "<style scoped>\n",
       "    .dataframe tbody tr th:only-of-type {\n",
       "        vertical-align: middle;\n",
       "    }\n",
       "\n",
       "    .dataframe tbody tr th {\n",
       "        vertical-align: top;\n",
       "    }\n",
       "\n",
       "    .dataframe thead th {\n",
       "        text-align: right;\n",
       "    }\n",
       "</style>\n",
       "<table border=\"1\" class=\"dataframe\">\n",
       "  <thead>\n",
       "    <tr style=\"text-align: right;\">\n",
       "      <th></th>\n",
       "      <th>EDAD</th>\n",
       "      <th>MINUTES_DH</th>\n",
       "      <th>GENERO_FEMENINO</th>\n",
       "      <th>GENERO_MASCULINO</th>\n",
       "      <th>ESTUDIO_PREV_BUSINESS</th>\n",
       "      <th>ESTUDIO_PREV_COMMERCIAL</th>\n",
       "      <th>ESTUDIO_PREV_DEVELOPMENT</th>\n",
       "      <th>ESTUDIO_PREV_ENGINEERING</th>\n",
       "      <th>ESTUDIO_PREV_MARKETING</th>\n",
       "      <th>NV_ESTUDIO_POST_GRADUATE</th>\n",
       "      <th>NV_ESTUDIO_TERTIARY</th>\n",
       "      <th>NV_ESTUDIO_UNIVERSITARY</th>\n",
       "    </tr>\n",
       "  </thead>\n",
       "  <tbody>\n",
       "    <tr>\n",
       "      <th>995</th>\n",
       "      <td>33.000000</td>\n",
       "      <td>4576.500000</td>\n",
       "      <td>0</td>\n",
       "      <td>1</td>\n",
       "      <td>0</td>\n",
       "      <td>1</td>\n",
       "      <td>0</td>\n",
       "      <td>0</td>\n",
       "      <td>0</td>\n",
       "      <td>0</td>\n",
       "      <td>0</td>\n",
       "      <td>1</td>\n",
       "    </tr>\n",
       "    <tr>\n",
       "      <th>996</th>\n",
       "      <td>40.000000</td>\n",
       "      <td>4542.900000</td>\n",
       "      <td>0</td>\n",
       "      <td>1</td>\n",
       "      <td>0</td>\n",
       "      <td>1</td>\n",
       "      <td>0</td>\n",
       "      <td>0</td>\n",
       "      <td>0</td>\n",
       "      <td>0</td>\n",
       "      <td>1</td>\n",
       "      <td>0</td>\n",
       "    </tr>\n",
       "    <tr>\n",
       "      <th>997</th>\n",
       "      <td>34.192799</td>\n",
       "      <td>4466.270335</td>\n",
       "      <td>1</td>\n",
       "      <td>0</td>\n",
       "      <td>0</td>\n",
       "      <td>0</td>\n",
       "      <td>0</td>\n",
       "      <td>1</td>\n",
       "      <td>0</td>\n",
       "      <td>0</td>\n",
       "      <td>0</td>\n",
       "      <td>1</td>\n",
       "    </tr>\n",
       "    <tr>\n",
       "      <th>998</th>\n",
       "      <td>34.192799</td>\n",
       "      <td>4730.400000</td>\n",
       "      <td>0</td>\n",
       "      <td>1</td>\n",
       "      <td>0</td>\n",
       "      <td>0</td>\n",
       "      <td>0</td>\n",
       "      <td>1</td>\n",
       "      <td>0</td>\n",
       "      <td>0</td>\n",
       "      <td>0</td>\n",
       "      <td>1</td>\n",
       "    </tr>\n",
       "    <tr>\n",
       "      <th>999</th>\n",
       "      <td>36.000000</td>\n",
       "      <td>4506.500000</td>\n",
       "      <td>0</td>\n",
       "      <td>1</td>\n",
       "      <td>0</td>\n",
       "      <td>0</td>\n",
       "      <td>0</td>\n",
       "      <td>1</td>\n",
       "      <td>0</td>\n",
       "      <td>0</td>\n",
       "      <td>0</td>\n",
       "      <td>1</td>\n",
       "    </tr>\n",
       "  </tbody>\n",
       "</table>\n",
       "</div>"
      ],
      "text/plain": [
       "          EDAD   MINUTES_DH  GENERO_FEMENINO  GENERO_MASCULINO  \\\n",
       "995  33.000000  4576.500000                0                 1   \n",
       "996  40.000000  4542.900000                0                 1   \n",
       "997  34.192799  4466.270335                1                 0   \n",
       "998  34.192799  4730.400000                0                 1   \n",
       "999  36.000000  4506.500000                0                 1   \n",
       "\n",
       "     ESTUDIO_PREV_BUSINESS  ESTUDIO_PREV_COMMERCIAL  ESTUDIO_PREV_DEVELOPMENT  \\\n",
       "995                      0                        1                         0   \n",
       "996                      0                        1                         0   \n",
       "997                      0                        0                         0   \n",
       "998                      0                        0                         0   \n",
       "999                      0                        0                         0   \n",
       "\n",
       "     ESTUDIO_PREV_ENGINEERING  ESTUDIO_PREV_MARKETING  \\\n",
       "995                         0                       0   \n",
       "996                         0                       0   \n",
       "997                         1                       0   \n",
       "998                         1                       0   \n",
       "999                         1                       0   \n",
       "\n",
       "     NV_ESTUDIO_POST_GRADUATE  NV_ESTUDIO_TERTIARY  NV_ESTUDIO_UNIVERSITARY  \n",
       "995                         0                    0                        1  \n",
       "996                         0                    1                        0  \n",
       "997                         0                    0                        1  \n",
       "998                         0                    0                        1  \n",
       "999                         0                    0                        1  "
      ]
     },
     "execution_count": 257,
     "metadata": {},
     "output_type": "execute_result"
    }
   ],
   "source": [
    "df_to_be_scored_2 = pd.get_dummies(df_to_be_scored_1, columns=['GENERO', 'ESTUDIO_PREV', 'NV_ESTUDIO'])\n",
    "df_to_be_scored_2.tail()"
   ]
  },
  {
   "cell_type": "markdown",
   "metadata": {},
   "source": [
    "#### Scaler"
   ]
  },
  {
   "cell_type": "code",
   "execution_count": 258,
   "metadata": {},
   "outputs": [],
   "source": [
    "sc = StandardScaler()\n",
    "df_to_be_scored_2.iloc[:, :sc_features] = sc.fit_transform(df_to_be_scored_2.iloc[:, :sc_features])"
   ]
  },
  {
   "cell_type": "code",
   "execution_count": 259,
   "metadata": {},
   "outputs": [
    {
     "data": {
      "text/html": [
       "<div>\n",
       "<style scoped>\n",
       "    .dataframe tbody tr th:only-of-type {\n",
       "        vertical-align: middle;\n",
       "    }\n",
       "\n",
       "    .dataframe tbody tr th {\n",
       "        vertical-align: top;\n",
       "    }\n",
       "\n",
       "    .dataframe thead th {\n",
       "        text-align: right;\n",
       "    }\n",
       "</style>\n",
       "<table border=\"1\" class=\"dataframe\">\n",
       "  <thead>\n",
       "    <tr style=\"text-align: right;\">\n",
       "      <th></th>\n",
       "      <th>EDAD</th>\n",
       "      <th>MINUTES_DH</th>\n",
       "      <th>GENERO_FEMENINO</th>\n",
       "      <th>GENERO_MASCULINO</th>\n",
       "      <th>ESTUDIO_PREV_BUSINESS</th>\n",
       "      <th>ESTUDIO_PREV_COMMERCIAL</th>\n",
       "      <th>ESTUDIO_PREV_DEVELOPMENT</th>\n",
       "      <th>ESTUDIO_PREV_ENGINEERING</th>\n",
       "      <th>ESTUDIO_PREV_MARKETING</th>\n",
       "      <th>NV_ESTUDIO_POST_GRADUATE</th>\n",
       "      <th>NV_ESTUDIO_TERTIARY</th>\n",
       "      <th>NV_ESTUDIO_UNIVERSITARY</th>\n",
       "    </tr>\n",
       "  </thead>\n",
       "  <tbody>\n",
       "    <tr>\n",
       "      <th>0</th>\n",
       "      <td>1.954455</td>\n",
       "      <td>0.192890</td>\n",
       "      <td>0</td>\n",
       "      <td>1</td>\n",
       "      <td>0</td>\n",
       "      <td>0</td>\n",
       "      <td>0</td>\n",
       "      <td>1</td>\n",
       "      <td>0</td>\n",
       "      <td>1</td>\n",
       "      <td>0</td>\n",
       "      <td>0</td>\n",
       "    </tr>\n",
       "    <tr>\n",
       "      <th>1</th>\n",
       "      <td>1.732540</td>\n",
       "      <td>0.399823</td>\n",
       "      <td>1</td>\n",
       "      <td>0</td>\n",
       "      <td>0</td>\n",
       "      <td>1</td>\n",
       "      <td>0</td>\n",
       "      <td>0</td>\n",
       "      <td>0</td>\n",
       "      <td>0</td>\n",
       "      <td>0</td>\n",
       "      <td>1</td>\n",
       "    </tr>\n",
       "    <tr>\n",
       "      <th>2</th>\n",
       "      <td>0.179130</td>\n",
       "      <td>0.481922</td>\n",
       "      <td>1</td>\n",
       "      <td>0</td>\n",
       "      <td>0</td>\n",
       "      <td>0</td>\n",
       "      <td>1</td>\n",
       "      <td>0</td>\n",
       "      <td>0</td>\n",
       "      <td>0</td>\n",
       "      <td>0</td>\n",
       "      <td>1</td>\n",
       "    </tr>\n",
       "    <tr>\n",
       "      <th>3</th>\n",
       "      <td>0.179130</td>\n",
       "      <td>0.656646</td>\n",
       "      <td>0</td>\n",
       "      <td>1</td>\n",
       "      <td>0</td>\n",
       "      <td>0</td>\n",
       "      <td>1</td>\n",
       "      <td>0</td>\n",
       "      <td>0</td>\n",
       "      <td>0</td>\n",
       "      <td>1</td>\n",
       "      <td>0</td>\n",
       "    </tr>\n",
       "    <tr>\n",
       "      <th>4</th>\n",
       "      <td>0.401046</td>\n",
       "      <td>0.538970</td>\n",
       "      <td>0</td>\n",
       "      <td>1</td>\n",
       "      <td>0</td>\n",
       "      <td>1</td>\n",
       "      <td>0</td>\n",
       "      <td>0</td>\n",
       "      <td>0</td>\n",
       "      <td>1</td>\n",
       "      <td>0</td>\n",
       "      <td>0</td>\n",
       "    </tr>\n",
       "  </tbody>\n",
       "</table>\n",
       "</div>"
      ],
      "text/plain": [
       "       EDAD  MINUTES_DH  GENERO_FEMENINO  GENERO_MASCULINO  \\\n",
       "0  1.954455    0.192890                0                 1   \n",
       "1  1.732540    0.399823                1                 0   \n",
       "2  0.179130    0.481922                1                 0   \n",
       "3  0.179130    0.656646                0                 1   \n",
       "4  0.401046    0.538970                0                 1   \n",
       "\n",
       "   ESTUDIO_PREV_BUSINESS  ESTUDIO_PREV_COMMERCIAL  ESTUDIO_PREV_DEVELOPMENT  \\\n",
       "0                      0                        0                         0   \n",
       "1                      0                        1                         0   \n",
       "2                      0                        0                         1   \n",
       "3                      0                        0                         1   \n",
       "4                      0                        1                         0   \n",
       "\n",
       "   ESTUDIO_PREV_ENGINEERING  ESTUDIO_PREV_MARKETING  NV_ESTUDIO_POST_GRADUATE  \\\n",
       "0                         1                       0                         1   \n",
       "1                         0                       0                         0   \n",
       "2                         0                       0                         0   \n",
       "3                         0                       0                         0   \n",
       "4                         0                       0                         1   \n",
       "\n",
       "   NV_ESTUDIO_TERTIARY  NV_ESTUDIO_UNIVERSITARY  \n",
       "0                    0                        0  \n",
       "1                    0                        1  \n",
       "2                    0                        1  \n",
       "3                    1                        0  \n",
       "4                    0                        0  "
      ]
     },
     "execution_count": 259,
     "metadata": {},
     "output_type": "execute_result"
    }
   ],
   "source": [
    "df_to_be_scored_2.head()"
   ]
  },
  {
   "cell_type": "markdown",
   "metadata": {},
   "source": [
    "# ¡Atención!\n",
    "\n",
    "### El marco de datos ``to_be_scored`` es su \"hoja de evaluación\". Tenga en cuenta que la columna \"target\" no existe en esta muestra, por lo que no se puede utilizar para modelos de entrenamiento basados en el aprendizaje supervisado."
   ]
  },
  {
   "cell_type": "markdown",
   "metadata": {},
   "source": [
    "# ¡Atención!\n",
    "\n",
    "### Debes realizar los mismos pasos de procesamiento previo que hiciste en el conjunto de datos de entrenamiento antes de calificar la \"hoja de respuestas\""
   ]
  },
  {
   "cell_type": "markdown",
   "metadata": {},
   "source": [
    "<hr>\n",
    "\n",
    "### Hacer las predicciones con el método \"predict()\" de sklearn y agregar los resultados en el marco de datos de la \"hoja de evaluación\""
   ]
  },
  {
   "cell_type": "code",
   "execution_count": null,
   "metadata": {
    "scrolled": true
   },
   "outputs": [],
   "source": [
    "y_pred = regression_model.predict(df_to_be_scored_2)\n",
    "df_to_be_scored_2['target'] = y_pred\n",
    "df_to_be_scored_2.tail()"
   ]
  },
  {
   "cell_type": "code",
   "execution_count": null,
   "metadata": {},
   "outputs": [],
   "source": [
    "Counter(y_pred)"
   ]
  },
  {
   "cell_type": "code",
   "execution_count": null,
   "metadata": {},
   "outputs": [],
   "source": [
    "print(\"Cols: \", len(df_to_be_scored_2.columns), \" Rows: \", len(df_to_be_scored_2))"
   ]
  },
  {
   "cell_type": "markdown",
   "metadata": {},
   "source": [
    "# ¡Atención!\n",
    "\n",
    "### La columna agregada con los resultados debe llamarse \"target\", de lo contrario, su envío fallará."
   ]
  },
  {
   "cell_type": "markdown",
   "metadata": {},
   "source": [
    "<hr>\n",
    "\n",
    "### Exportar el marco de datos de resultados como un archivo .csv a su proyecto de Watson Studio."
   ]
  },
  {
   "cell_type": "code",
   "execution_count": null,
   "metadata": {},
   "outputs": [],
   "source": [
    "project.save_data(file_name=\"results.csv\", data=df_to_be_scored_2.to_csv(index=False))"
   ]
  },
  {
   "cell_type": "code",
   "execution_count": null,
   "metadata": {},
   "outputs": [],
   "source": []
  }
 ],
 "metadata": {
  "kernelspec": {
   "display_name": "Python 3",
   "language": "python",
   "name": "python3"
  },
  "language_info": {
   "codemirror_mode": {
    "name": "ipython",
    "version": 3
   },
   "file_extension": ".py",
   "mimetype": "text/x-python",
   "name": "python",
   "nbconvert_exporter": "python",
   "pygments_lexer": "ipython3",
   "version": "3.8.5"
  }
 },
 "nbformat": 4,
 "nbformat_minor": 1
}
